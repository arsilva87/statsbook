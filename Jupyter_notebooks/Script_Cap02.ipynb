{
 "cells": [
  {
   "cell_type": "markdown",
   "metadata": {},
   "source": [
    "**Códigos em R do livro: Estatística. Experimente!** (Silva, A.R., 2021)\n",
    "\n",
    "**Capítulo 2: Variáveis Aleatórias**\n",
    "____"
   ]
  },
  {
   "cell_type": "markdown",
   "metadata": {},
   "source": [
    "Função densidade de probabilidade:\n",
    "\n",
    "$f(x) = 3x^2$, $0 < x < 1$"
   ]
  },
  {
   "cell_type": "code",
   "execution_count": 5,
   "metadata": {},
   "outputs": [
    {
     "data": {
      "text/plain": [
       "0.875 with absolute error < 9.7e-15"
      ]
     },
     "metadata": {},
     "output_type": "display_data"
    }
   ],
   "source": [
    "# P(X > 0.5)\n",
    "integrate(f = function(x) 3*x^2, lower = 0.5, upper = 1)"
   ]
  },
  {
   "cell_type": "code",
   "execution_count": 2,
   "metadata": {},
   "outputs": [
    {
     "data": {
      "text/plain": [
       "0.75 with absolute error < 8.3e-15"
      ]
     },
     "metadata": {},
     "output_type": "display_data"
    }
   ],
   "source": [
    "# E(X)\n",
    "integrate(f = function(x) x*3*x^2, lower = 0, upper = 1)"
   ]
  },
  {
   "cell_type": "code",
   "execution_count": 6,
   "metadata": {},
   "outputs": [
    {
     "data": {
      "text/plain": [
       "0.6 with absolute error < 6.7e-15"
      ]
     },
     "metadata": {},
     "output_type": "display_data"
    }
   ],
   "source": [
    "# E(X^2)\n",
    "integrate(f = function(x) x^2*3*x^2, lower = 0, upper = 1)"
   ]
  },
  {
   "cell_type": "code",
   "execution_count": 4,
   "metadata": {},
   "outputs": [
    {
     "data": {
      "text/html": [
       "0.0375"
      ],
      "text/latex": [
       "0.0375"
      ],
      "text/markdown": [
       "0.0375"
      ],
      "text/plain": [
       "[1] 0.0375"
      ]
     },
     "metadata": {},
     "output_type": "display_data"
    }
   ],
   "source": [
    "# Var(X)\n",
    "0.6 - 0.75^2"
   ]
  }
 ],
 "metadata": {
  "kernelspec": {
   "display_name": "R",
   "language": "R",
   "name": "ir"
  },
  "language_info": {
   "codemirror_mode": "r",
   "file_extension": ".r",
   "mimetype": "text/x-r-source",
   "name": "R",
   "pygments_lexer": "r",
   "version": "3.6.3"
  }
 },
 "nbformat": 4,
 "nbformat_minor": 4
}
