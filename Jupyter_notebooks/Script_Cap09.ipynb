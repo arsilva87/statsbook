{
 "cells": [
  {
   "cell_type": "markdown",
   "metadata": {},
   "source": [
    "<img align=\"right\" src = \"https://raw.githubusercontent.com/arsilva87/statsbook/main/figs/figura_thumbnail.png\" width=\"25%\" height=\"25%\">\n",
    "\n",
    "Códigos em R do livro: **Estatística Decodificada** (Silva, A.R. 2021) \n",
    "\n",
    "Capítulo 9: **Análise exploratória de dados**\n",
    "____"
   ]
  },
  {
   "cell_type": "markdown",
   "metadata": {},
   "source": [
    "**Distribuição de frequências**"
   ]
  },
  {
   "cell_type": "code",
   "execution_count": 1,
   "metadata": {},
   "outputs": [
    {
     "name": "stdout",
     "output_type": "stream",
     "text": [
      "\n",
      "  The decimal point is at the |\n",
      "\n",
      "  0 | 47\n",
      "  1 | 0001445566668899\n",
      "  2 | 00000111112234455555667788999\n",
      "  3 | 000011222334444778\n",
      "  4 | 0002334446788\n",
      "  5 | 2277\n",
      "  6 | 25\n",
      "\n"
     ]
    }
   ],
   "source": [
    "# Diagrama de ramos-e-folhas\n",
    "solo <- read.csv(\"https://raw.githubusercontent.com/arsilva87/statsbook/main/datasets/camadassolo.csv\", header = TRUE)\n",
    "stem(solo$RP)"
   ]
  },
  {
   "cell_type": "code",
   "execution_count": 4,
   "metadata": {},
   "outputs": [
    {
     "data": {
      "image/png": "[encoded data removed]",
      "text/plain": [
       "Plot with title “density.default(x = RP)”"
      ]
     },
     "metadata": {
      "image/png": {
       "height": 420,
       "width": 420
      },
      "text/plain": {
       "height": 420,
       "width": 420
      }
     },
     "output_type": "display_data"
    }
   ],
   "source": [
    "# Densidade kernel\n",
    "attach(solo)\n",
    "plot( density(RP) )"
   ]
  },
  {
   "cell_type": "markdown",
   "metadata": {},
   "source": [
    "____\n",
    "**Estatísticas descritivas**"
   ]
  },
  {
   "cell_type": "code",
   "execution_count": 5,
   "metadata": {},
   "outputs": [
    {
     "data": {
      "text/html": [
       "2.90761904761905"
      ],
      "text/latex": [
       "2.90761904761905"
      ],
      "text/markdown": [
       "2.90761904761905"
      ],
      "text/plain": [
       "[1] 2.907619"
      ]
     },
     "metadata": {},
     "output_type": "display_data"
    },
    {
     "data": {
      "text/html": [
       "2.75"
      ],
      "text/latex": [
       "2.75"
      ],
      "text/markdown": [
       "2.75"
      ],
      "text/plain": [
       "[1] 2.75"
      ]
     },
     "metadata": {},
     "output_type": "display_data"
    }
   ],
   "source": [
    "# Média e mediana\n",
    "mean(RP)\n",
    "median(RP)"
   ]
  },
  {
   "cell_type": "code",
   "execution_count": 6,
   "metadata": {},
   "outputs": [
    {
     "data": {
      "text/html": [
       "6.14"
      ],
      "text/latex": [
       "6.14"
      ],
      "text/markdown": [
       "6.14"
      ],
      "text/plain": [
       "[1] 6.14"
      ]
     },
     "metadata": {},
     "output_type": "display_data"
    },
    {
     "data": {
      "text/html": [
       "1.65432438324727"
      ],
      "text/latex": [
       "1.65432438324727"
      ],
      "text/markdown": [
       "1.65432438324727"
      ],
      "text/plain": [
       "[1] 1.654324"
      ]
     },
     "metadata": {},
     "output_type": "display_data"
    },
    {
     "data": {
      "text/html": [
       "1.28620542031484"
      ],
      "text/latex": [
       "1.28620542031484"
      ],
      "text/markdown": [
       "1.28620542031484"
      ],
      "text/plain": [
       "[1] 1.286205"
      ]
     },
     "metadata": {},
     "output_type": "display_data"
    },
    {
     "data": {
      "text/html": [
       "44.2356924772546"
      ],
      "text/latex": [
       "44.2356924772546"
      ],
      "text/markdown": [
       "44.2356924772546"
      ],
      "text/plain": [
       "[1] 44.23569"
      ]
     },
     "metadata": {},
     "output_type": "display_data"
    },
    {
     "data": {
      "text/html": [
       "1.675"
      ],
      "text/latex": [
       "1.675"
      ],
      "text/markdown": [
       "1.675"
      ],
      "text/plain": [
       "[1] 1.675"
      ]
     },
     "metadata": {},
     "output_type": "display_data"
    }
   ],
   "source": [
    "max(RP) - min(RP)        # amplitude total\n",
    "var(RP)                  # variância amostral\n",
    "sd(RP)                   # desvio padrão amostral\n",
    "100 * sd(RP) / mean(RP)  # coeficiente de variação (%)\n",
    "IQR(RP)                  # amplitude interquartílica"
   ]
  },
  {
   "cell_type": "code",
   "execution_count": 7,
   "metadata": {},
   "outputs": [
    {
     "data": {
      "text/html": [
       "<strong>95%:</strong> 5.201"
      ],
      "text/latex": [
       "\\textbf{95\\textbackslash{}\\%:} 5.201"
      ],
      "text/markdown": [
       "**95%:** 5.201"
      ],
      "text/plain": [
       "  95% \n",
       "5.201 "
      ]
     },
     "metadata": {},
     "output_type": "display_data"
    },
    {
     "data": {
      "text/html": [
       "<style>\n",
       ".dl-inline {width: auto; margin:0; padding: 0}\n",
       ".dl-inline>dt, .dl-inline>dd {float: none; width: auto; display: inline-block}\n",
       ".dl-inline>dt::after {content: \":\\0020\"; padding-right: .5ex}\n",
       ".dl-inline>dt:not(:first-of-type) {padding-left: .5ex}\n",
       "</style><dl class=dl-inline><dt>25%</dt><dd>1.99</dd><dt>50%</dt><dd>2.75</dd><dt>75%</dt><dd>3.665</dd></dl>\n"
      ],
      "text/latex": [
       "\\begin{description*}\n",
       "\\item[25\\textbackslash{}\\%] 1.99\n",
       "\\item[50\\textbackslash{}\\%] 2.75\n",
       "\\item[75\\textbackslash{}\\%] 3.665\n",
       "\\end{description*}\n"
      ],
      "text/markdown": [
       "25%\n",
       ":   1.9950%\n",
       ":   2.7575%\n",
       ":   3.665\n",
       "\n"
      ],
      "text/plain": [
       "  25%   50%   75% \n",
       "1.990 2.750 3.665 "
      ]
     },
     "metadata": {},
     "output_type": "display_data"
    }
   ],
   "source": [
    "# percentil 95\n",
    "quantile(RP, prob = 0.95)\n",
    "\n",
    "# quartis amostrais\n",
    "quantile(RP, p = c(0.25, 0.5, 0.75))"
   ]
  },
  {
   "cell_type": "code",
   "execution_count": 8,
   "metadata": {},
   "outputs": [
    {
     "data": {
      "text/html": [
       "<table class=\"dataframe\">\n",
       "<caption>A data.frame: 2 × 2</caption>\n",
       "<thead>\n",
       "\t<tr><th scope=col>Camada</th><th scope=col>RP</th></tr>\n",
       "\t<tr><th scope=col>&lt;fct&gt;</th><th scope=col>&lt;dbl&gt;</th></tr>\n",
       "</thead>\n",
       "<tbody>\n",
       "\t<tr><td>0-20 </td><td>3.177381</td></tr>\n",
       "\t<tr><td>20-40</td><td>2.637857</td></tr>\n",
       "</tbody>\n",
       "</table>\n"
      ],
      "text/latex": [
       "A data.frame: 2 × 2\n",
       "\\begin{tabular}{ll}\n",
       " Camada & RP\\\\\n",
       " <fct> & <dbl>\\\\\n",
       "\\hline\n",
       "\t 0-20  & 3.177381\\\\\n",
       "\t 20-40 & 2.637857\\\\\n",
       "\\end{tabular}\n"
      ],
      "text/markdown": [
       "\n",
       "A data.frame: 2 × 2\n",
       "\n",
       "| Camada &lt;fct&gt; | RP &lt;dbl&gt; |\n",
       "|---|---|\n",
       "| 0-20  | 3.177381 |\n",
       "| 20-40 | 2.637857 |\n",
       "\n"
      ],
      "text/plain": [
       "  Camada RP      \n",
       "1 0-20   3.177381\n",
       "2 20-40  2.637857"
      ]
     },
     "metadata": {},
     "output_type": "display_data"
    }
   ],
   "source": [
    "# Trabalhando com o fator Camada\n",
    "aggregate(RP ~ Camada, FUN = mean, data = solo)"
   ]
  },
  {
   "cell_type": "code",
   "execution_count": 9,
   "metadata": {},
   "outputs": [
    {
     "data": {
      "text/html": [
       "<table class=\"dataframe\">\n",
       "<caption>A data.frame: 2 × 7</caption>\n",
       "<thead>\n",
       "\t<tr><th scope=col>Camada</th><th scope=col>US</th><th scope=col>DS</th><th scope=col>RP</th><th scope=col>CO</th><th scope=col>Argila</th><th scope=col>Tensao</th></tr>\n",
       "\t<tr><th scope=col>&lt;fct&gt;</th><th scope=col>&lt;dbl&gt;</th><th scope=col>&lt;dbl&gt;</th><th scope=col>&lt;dbl&gt;</th><th scope=col>&lt;dbl&gt;</th><th scope=col>&lt;dbl&gt;</th><th scope=col>&lt;dbl&gt;</th></tr>\n",
       "</thead>\n",
       "<tbody>\n",
       "\t<tr><td>0-20 </td><td> 8.626429</td><td>1.674762</td><td>3.177381</td><td>16.91952</td><td>14.57143</td><td>73.02619</td></tr>\n",
       "\t<tr><td>20-40</td><td>10.023571</td><td>1.665238</td><td>2.637857</td><td>12.25976</td><td>16.00000</td><td>73.39048</td></tr>\n",
       "</tbody>\n",
       "</table>\n"
      ],
      "text/latex": [
       "A data.frame: 2 × 7\n",
       "\\begin{tabular}{lllllll}\n",
       " Camada & US & DS & RP & CO & Argila & Tensao\\\\\n",
       " <fct> & <dbl> & <dbl> & <dbl> & <dbl> & <dbl> & <dbl>\\\\\n",
       "\\hline\n",
       "\t 0-20  &  8.626429 & 1.674762 & 3.177381 & 16.91952 & 14.57143 & 73.02619\\\\\n",
       "\t 20-40 & 10.023571 & 1.665238 & 2.637857 & 12.25976 & 16.00000 & 73.39048\\\\\n",
       "\\end{tabular}\n"
      ],
      "text/markdown": [
       "\n",
       "A data.frame: 2 × 7\n",
       "\n",
       "| Camada &lt;fct&gt; | US &lt;dbl&gt; | DS &lt;dbl&gt; | RP &lt;dbl&gt; | CO &lt;dbl&gt; | Argila &lt;dbl&gt; | Tensao &lt;dbl&gt; |\n",
       "|---|---|---|---|---|---|---|\n",
       "| 0-20  |  8.626429 | 1.674762 | 3.177381 | 16.91952 | 14.57143 | 73.02619 |\n",
       "| 20-40 | 10.023571 | 1.665238 | 2.637857 | 12.25976 | 16.00000 | 73.39048 |\n",
       "\n"
      ],
      "text/plain": [
       "  Camada US        DS       RP       CO       Argila   Tensao  \n",
       "1 0-20    8.626429 1.674762 3.177381 16.91952 14.57143 73.02619\n",
       "2 20-40  10.023571 1.665238 2.637857 12.25976 16.00000 73.39048"
      ]
     },
     "metadata": {},
     "output_type": "display_data"
    }
   ],
   "source": [
    "aggregate( .~ Camada, FUN = mean, data = solo)"
   ]
  },
  {
   "cell_type": "markdown",
   "metadata": {},
   "source": [
    "____\n",
    "**Box plot**"
   ]
  },
  {
   "cell_type": "code",
   "execution_count": 10,
   "metadata": {},
   "outputs": [
    {
     "data": {
      "image/png": "[encoded data removed]",
      "text/plain": [
       "plot without title"
      ]
     },
     "metadata": {
      "image/png": {
       "height": 420,
       "width": 420
      },
      "text/plain": {
       "height": 420,
       "width": 420
      }
     },
     "output_type": "display_data"
    }
   ],
   "source": [
    "boxplot(RP, ylab = \"RP\")"
   ]
  },
  {
   "cell_type": "code",
   "execution_count": 11,
   "metadata": {},
   "outputs": [
    {
     "data": {
      "image/png": "[encoded data removed]",
      "text/plain": [
       "plot without title"
      ]
     },
     "metadata": {
      "image/png": {
       "height": 420,
       "width": 420
      },
      "text/plain": {
       "height": 420,
       "width": 420
      }
     },
     "output_type": "display_data"
    }
   ],
   "source": [
    "# box plot para cada nível do fator Camada\n",
    "b <- boxplot(RP ~ Camada, data = solo, ylab = \"RP\", xlab = \"Camada (cm)\")"
   ]
  },
  {
   "cell_type": "code",
   "execution_count": 12,
   "metadata": {},
   "outputs": [
    {
     "name": "stdout",
     "output_type": "stream",
     "text": [
      "$stats\n",
      "     [,1] [,2]\n",
      "[1,] 0.40 0.96\n",
      "[2,] 1.99 2.04\n",
      "[3,] 3.27 2.52\n",
      "[4,] 4.31 3.06\n",
      "[5,] 6.54 4.37\n",
      "\n",
      "$n\n",
      "[1] 42 42\n",
      "\n",
      "$conf\n",
      "         [,1]     [,2]\n",
      "[1,] 2.704386 2.271325\n",
      "[2,] 3.835614 2.768675\n",
      "\n",
      "$out\n",
      "[1] 5.68 5.21\n",
      "\n",
      "$group\n",
      "[1] 2 2\n",
      "\n",
      "$names\n",
      "[1] \"0-20\"  \"20-40\"\n",
      "\n"
     ]
    }
   ],
   "source": [
    "# estatísticas nos box plots\n",
    "print(b)"
   ]
  },
  {
   "cell_type": "code",
   "execution_count": null,
   "metadata": {},
   "outputs": [],
   "source": []
  }
 ],
 "metadata": {
  "kernelspec": {
   "display_name": "R",
   "language": "R",
   "name": "ir"
  },
  "language_info": {
   "codemirror_mode": "r",
   "file_extension": ".r",
   "mimetype": "text/x-r-source",
   "name": "R",
   "pygments_lexer": "r",
   "version": "3.6.3"
  }
 },
 "nbformat": 4,
 "nbformat_minor": 4
}
