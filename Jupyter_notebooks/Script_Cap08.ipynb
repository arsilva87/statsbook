{
 "cells": [
  {
   "cell_type": "markdown",
   "metadata": {},
   "source": [
    "<img align=\"right\" src = \"https://raw.githubusercontent.com/arsilva87/statsbook/main/figs/figura_thumbnail.png\" width=\"25%\" height=\"25%\">\n",
    "\n",
    "Códigos em R do livro: **Estatística Decodificada** (Silva, A.R. 2021) \n",
    "\n",
    "Capítulo 8: **Importação e exportação de dados no R**\n",
    "____"
   ]
  },
  {
   "cell_type": "markdown",
   "metadata": {},
   "source": [
    "**Importação de dados**"
   ]
  },
  {
   "cell_type": "code",
   "execution_count": 31,
   "metadata": {},
   "outputs": [
    {
     "data": {
      "text/html": [
       "<table>\n",
       "<caption>A data.frame: 12 × 3</caption>\n",
       "<thead>\n",
       "\t<tr><th scope=col>cultivar</th><th scope=col>bloco</th><th scope=col>prod</th></tr>\n",
       "\t<tr><th scope=col>&lt;fct&gt;</th><th scope=col>&lt;fct&gt;</th><th scope=col>&lt;dbl&gt;</th></tr>\n",
       "</thead>\n",
       "<tbody>\n",
       "\t<tr><td>1</td><td>1</td><td>50.9</td></tr>\n",
       "\t<tr><td>1</td><td>2</td><td>50.6</td></tr>\n",
       "\t<tr><td>1</td><td>3</td><td>51.2</td></tr>\n",
       "\t<tr><td>2</td><td>1</td><td>49.1</td></tr>\n",
       "\t<tr><td>2</td><td>2</td><td>49.3</td></tr>\n",
       "\t<tr><td>2</td><td>3</td><td>49.9</td></tr>\n",
       "\t<tr><td>3</td><td>1</td><td>49.9</td></tr>\n",
       "\t<tr><td>3</td><td>2</td><td>49.8</td></tr>\n",
       "\t<tr><td>3</td><td>3</td><td>49.5</td></tr>\n",
       "\t<tr><td>4</td><td>1</td><td>49.2</td></tr>\n",
       "\t<tr><td>4</td><td>2</td><td>49.1</td></tr>\n",
       "\t<tr><td>4</td><td>3</td><td>50.0</td></tr>\n",
       "</tbody>\n",
       "</table>\n"
      ],
      "text/latex": [
       "A data.frame: 12 × 3\n",
       "\\begin{tabular}{lll}\n",
       " cultivar & bloco & prod\\\\\n",
       " <fct> & <fct> & <dbl>\\\\\n",
       "\\hline\n",
       "\t 1 & 1 & 50.9\\\\\n",
       "\t 1 & 2 & 50.6\\\\\n",
       "\t 1 & 3 & 51.2\\\\\n",
       "\t 2 & 1 & 49.1\\\\\n",
       "\t 2 & 2 & 49.3\\\\\n",
       "\t 2 & 3 & 49.9\\\\\n",
       "\t 3 & 1 & 49.9\\\\\n",
       "\t 3 & 2 & 49.8\\\\\n",
       "\t 3 & 3 & 49.5\\\\\n",
       "\t 4 & 1 & 49.2\\\\\n",
       "\t 4 & 2 & 49.1\\\\\n",
       "\t 4 & 3 & 50.0\\\\\n",
       "\\end{tabular}\n"
      ],
      "text/markdown": [
       "\n",
       "A data.frame: 12 × 3\n",
       "\n",
       "| cultivar &lt;fct&gt; | bloco &lt;fct&gt; | prod &lt;dbl&gt; |\n",
       "|---|---|---|\n",
       "| 1 | 1 | 50.9 |\n",
       "| 1 | 2 | 50.6 |\n",
       "| 1 | 3 | 51.2 |\n",
       "| 2 | 1 | 49.1 |\n",
       "| 2 | 2 | 49.3 |\n",
       "| 2 | 3 | 49.9 |\n",
       "| 3 | 1 | 49.9 |\n",
       "| 3 | 2 | 49.8 |\n",
       "| 3 | 3 | 49.5 |\n",
       "| 4 | 1 | 49.2 |\n",
       "| 4 | 2 | 49.1 |\n",
       "| 4 | 3 | 50.0 |\n",
       "\n"
      ],
      "text/plain": [
       "   cultivar bloco prod\n",
       "1  1        1     50.9\n",
       "2  1        2     50.6\n",
       "3  1        3     51.2\n",
       "4  2        1     49.1\n",
       "5  2        2     49.3\n",
       "6  2        3     49.9\n",
       "7  3        1     49.9\n",
       "8  3        2     49.8\n",
       "9  3        3     49.5\n",
       "10 4        1     49.2\n",
       "11 4        2     49.1\n",
       "12 4        3     50.0"
      ]
     },
     "metadata": {},
     "output_type": "display_data"
    }
   ],
   "source": [
    "# Leitura de dados .txt do respositório GitHub: arsilva87/statsbook\n",
    "batata <- read.table(file = \"https://raw.githubusercontent.com/arsilva87/statsbook/main/datasets/batata.txt\", \n",
    "                     header = TRUE, colClasses = c(\"factor\", \"factor\", \"numeric\"))\n",
    "batata"
   ]
  },
  {
   "cell_type": "code",
   "execution_count": 32,
   "metadata": {},
   "outputs": [
    {
     "name": "stdout",
     "output_type": "stream",
     "text": [
      "'data.frame':\t12 obs. of  3 variables:\n",
      " $ cultivar: Factor w/ 4 levels \"1\",\"2\",\"3\",\"4\": 1 1 1 2 2 2 3 3 3 4 ...\n",
      " $ bloco   : Factor w/ 3 levels \"1\",\"2\",\"3\": 1 2 3 1 2 3 1 2 3 1 ...\n",
      " $ prod    : num  50.9 50.6 51.2 49.1 49.3 49.9 49.9 49.8 49.5 49.2 ...\n"
     ]
    }
   ],
   "source": [
    "# Análise da estrutura do objeto importado\n",
    "str(batata)"
   ]
  },
  {
   "cell_type": "markdown",
   "metadata": {},
   "source": [
    "*Dados em planilhas*\n",
    "\n",
    "Obs: é preciso fazer upload para notebook. Menu File >> Open... >> Upload"
   ]
  },
  {
   "cell_type": "code",
   "execution_count": 33,
   "metadata": {},
   "outputs": [
    {
     "data": {
      "text/html": [
       "<table>\n",
       "<caption>A tibble: 12 × 3</caption>\n",
       "<thead>\n",
       "\t<tr><th scope=col>cultivar</th><th scope=col>bloco</th><th scope=col>prod</th></tr>\n",
       "\t<tr><th scope=col>&lt;dbl&gt;</th><th scope=col>&lt;dbl&gt;</th><th scope=col>&lt;dbl&gt;</th></tr>\n",
       "</thead>\n",
       "<tbody>\n",
       "\t<tr><td>1</td><td>1</td><td>50.9</td></tr>\n",
       "\t<tr><td>1</td><td>2</td><td>50.6</td></tr>\n",
       "\t<tr><td>1</td><td>3</td><td>51.2</td></tr>\n",
       "\t<tr><td>2</td><td>1</td><td>49.1</td></tr>\n",
       "\t<tr><td>2</td><td>2</td><td>49.3</td></tr>\n",
       "\t<tr><td>2</td><td>3</td><td>49.9</td></tr>\n",
       "\t<tr><td>3</td><td>1</td><td>49.9</td></tr>\n",
       "\t<tr><td>3</td><td>2</td><td>49.8</td></tr>\n",
       "\t<tr><td>3</td><td>3</td><td>49.5</td></tr>\n",
       "\t<tr><td>4</td><td>1</td><td>49.2</td></tr>\n",
       "\t<tr><td>4</td><td>2</td><td>49.1</td></tr>\n",
       "\t<tr><td>4</td><td>3</td><td>50.0</td></tr>\n",
       "</tbody>\n",
       "</table>\n"
      ],
      "text/latex": [
       "A tibble: 12 × 3\n",
       "\\begin{tabular}{lll}\n",
       " cultivar & bloco & prod\\\\\n",
       " <dbl> & <dbl> & <dbl>\\\\\n",
       "\\hline\n",
       "\t 1 & 1 & 50.9\\\\\n",
       "\t 1 & 2 & 50.6\\\\\n",
       "\t 1 & 3 & 51.2\\\\\n",
       "\t 2 & 1 & 49.1\\\\\n",
       "\t 2 & 2 & 49.3\\\\\n",
       "\t 2 & 3 & 49.9\\\\\n",
       "\t 3 & 1 & 49.9\\\\\n",
       "\t 3 & 2 & 49.8\\\\\n",
       "\t 3 & 3 & 49.5\\\\\n",
       "\t 4 & 1 & 49.2\\\\\n",
       "\t 4 & 2 & 49.1\\\\\n",
       "\t 4 & 3 & 50.0\\\\\n",
       "\\end{tabular}\n"
      ],
      "text/markdown": [
       "\n",
       "A tibble: 12 × 3\n",
       "\n",
       "| cultivar &lt;dbl&gt; | bloco &lt;dbl&gt; | prod &lt;dbl&gt; |\n",
       "|---|---|---|\n",
       "| 1 | 1 | 50.9 |\n",
       "| 1 | 2 | 50.6 |\n",
       "| 1 | 3 | 51.2 |\n",
       "| 2 | 1 | 49.1 |\n",
       "| 2 | 2 | 49.3 |\n",
       "| 2 | 3 | 49.9 |\n",
       "| 3 | 1 | 49.9 |\n",
       "| 3 | 2 | 49.8 |\n",
       "| 3 | 3 | 49.5 |\n",
       "| 4 | 1 | 49.2 |\n",
       "| 4 | 2 | 49.1 |\n",
       "| 4 | 3 | 50.0 |\n",
       "\n"
      ],
      "text/plain": [
       "   cultivar bloco prod\n",
       "1  1        1     50.9\n",
       "2  1        2     50.6\n",
       "3  1        3     51.2\n",
       "4  2        1     49.1\n",
       "5  2        2     49.3\n",
       "6  2        3     49.9\n",
       "7  3        1     49.9\n",
       "8  3        2     49.8\n",
       "9  3        3     49.5\n",
       "10 4        1     49.2\n",
       "11 4        2     49.1\n",
       "12 4        3     50.0"
      ]
     },
     "metadata": {},
     "output_type": "display_data"
    }
   ],
   "source": [
    "library(readxl)\n",
    "batatax <- read_excel(path = \"batata.xlsx\", sheet = \"Planilha1\", range = \"A1:C13\")\n",
    "batatax"
   ]
  },
  {
   "cell_type": "markdown",
   "metadata": {},
   "source": [
    "____\n",
    "**Exportação de dados**"
   ]
  },
  {
   "cell_type": "code",
   "execution_count": 34,
   "metadata": {},
   "outputs": [
    {
     "data": {
      "text/html": [
       "<table>\n",
       "<caption>A data.frame: 12 × 4</caption>\n",
       "<thead>\n",
       "\t<tr><th scope=col>cultivar</th><th scope=col>bloco</th><th scope=col>prod</th><th scope=col>prod2</th></tr>\n",
       "\t<tr><th scope=col>&lt;fct&gt;</th><th scope=col>&lt;fct&gt;</th><th scope=col>&lt;dbl&gt;</th><th scope=col>&lt;dbl&gt;</th></tr>\n",
       "</thead>\n",
       "<tbody>\n",
       "\t<tr><td>1</td><td>1</td><td>50.9</td><td>7.134424</td></tr>\n",
       "\t<tr><td>1</td><td>2</td><td>50.6</td><td>7.113368</td></tr>\n",
       "\t<tr><td>1</td><td>3</td><td>51.2</td><td>7.155418</td></tr>\n",
       "\t<tr><td>2</td><td>1</td><td>49.1</td><td>7.007139</td></tr>\n",
       "\t<tr><td>2</td><td>2</td><td>49.3</td><td>7.021396</td></tr>\n",
       "\t<tr><td>2</td><td>3</td><td>49.9</td><td>7.063993</td></tr>\n",
       "\t<tr><td>3</td><td>1</td><td>49.9</td><td>7.063993</td></tr>\n",
       "\t<tr><td>3</td><td>2</td><td>49.8</td><td>7.056912</td></tr>\n",
       "\t<tr><td>3</td><td>3</td><td>49.5</td><td>7.035624</td></tr>\n",
       "\t<tr><td>4</td><td>1</td><td>49.2</td><td>7.014271</td></tr>\n",
       "\t<tr><td>4</td><td>2</td><td>49.1</td><td>7.007139</td></tr>\n",
       "\t<tr><td>4</td><td>3</td><td>50.0</td><td>7.071068</td></tr>\n",
       "</tbody>\n",
       "</table>\n"
      ],
      "text/latex": [
       "A data.frame: 12 × 4\n",
       "\\begin{tabular}{llll}\n",
       " cultivar & bloco & prod & prod2\\\\\n",
       " <fct> & <fct> & <dbl> & <dbl>\\\\\n",
       "\\hline\n",
       "\t 1 & 1 & 50.9 & 7.134424\\\\\n",
       "\t 1 & 2 & 50.6 & 7.113368\\\\\n",
       "\t 1 & 3 & 51.2 & 7.155418\\\\\n",
       "\t 2 & 1 & 49.1 & 7.007139\\\\\n",
       "\t 2 & 2 & 49.3 & 7.021396\\\\\n",
       "\t 2 & 3 & 49.9 & 7.063993\\\\\n",
       "\t 3 & 1 & 49.9 & 7.063993\\\\\n",
       "\t 3 & 2 & 49.8 & 7.056912\\\\\n",
       "\t 3 & 3 & 49.5 & 7.035624\\\\\n",
       "\t 4 & 1 & 49.2 & 7.014271\\\\\n",
       "\t 4 & 2 & 49.1 & 7.007139\\\\\n",
       "\t 4 & 3 & 50.0 & 7.071068\\\\\n",
       "\\end{tabular}\n"
      ],
      "text/markdown": [
       "\n",
       "A data.frame: 12 × 4\n",
       "\n",
       "| cultivar &lt;fct&gt; | bloco &lt;fct&gt; | prod &lt;dbl&gt; | prod2 &lt;dbl&gt; |\n",
       "|---|---|---|---|\n",
       "| 1 | 1 | 50.9 | 7.134424 |\n",
       "| 1 | 2 | 50.6 | 7.113368 |\n",
       "| 1 | 3 | 51.2 | 7.155418 |\n",
       "| 2 | 1 | 49.1 | 7.007139 |\n",
       "| 2 | 2 | 49.3 | 7.021396 |\n",
       "| 2 | 3 | 49.9 | 7.063993 |\n",
       "| 3 | 1 | 49.9 | 7.063993 |\n",
       "| 3 | 2 | 49.8 | 7.056912 |\n",
       "| 3 | 3 | 49.5 | 7.035624 |\n",
       "| 4 | 1 | 49.2 | 7.014271 |\n",
       "| 4 | 2 | 49.1 | 7.007139 |\n",
       "| 4 | 3 | 50.0 | 7.071068 |\n",
       "\n"
      ],
      "text/plain": [
       "   cultivar bloco prod prod2   \n",
       "1  1        1     50.9 7.134424\n",
       "2  1        2     50.6 7.113368\n",
       "3  1        3     51.2 7.155418\n",
       "4  2        1     49.1 7.007139\n",
       "5  2        2     49.3 7.021396\n",
       "6  2        3     49.9 7.063993\n",
       "7  3        1     49.9 7.063993\n",
       "8  3        2     49.8 7.056912\n",
       "9  3        3     49.5 7.035624\n",
       "10 4        1     49.2 7.014271\n",
       "11 4        2     49.1 7.007139\n",
       "12 4        3     50.0 7.071068"
      ]
     },
     "metadata": {},
     "output_type": "display_data"
    }
   ],
   "source": [
    "# Exemplificando a inserção de uma nova coluna (prod2) ao data.frame batata\n",
    "batata$prod2 <- sqrt(batata$prod)\n",
    "batata"
   ]
  },
  {
   "cell_type": "code",
   "execution_count": 35,
   "metadata": {},
   "outputs": [],
   "source": [
    "# exportando os dados em formato .csv para o diretorio de trabalho (neste caso, no notebook atual. Veja em: menu File >> Open...)\n",
    "write.table(x = batata, file = \"batata2.csv\", sep = \",\")"
   ]
  },
  {
   "cell_type": "code",
   "execution_count": null,
   "metadata": {},
   "outputs": [],
   "source": []
  }
 ],
 "metadata": {
  "kernelspec": {
   "display_name": "R",
   "language": "R",
   "name": "ir"
  },
  "language_info": {
   "codemirror_mode": "r",
   "file_extension": ".r",
   "mimetype": "text/x-r-source",
   "name": "R",
   "pygments_lexer": "r",
   "version": "3.6.3"
  }
 },
 "nbformat": 4,
 "nbformat_minor": 4
}
