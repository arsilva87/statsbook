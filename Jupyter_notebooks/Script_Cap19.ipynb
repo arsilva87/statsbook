{
 "cells": [
  {
   "cell_type": "markdown",
   "metadata": {},
   "source": [
    "<img align=\"right\" src = \"https://raw.githubusercontent.com/arsilva87/statsbook/main/figs/figura_thumbnail.png\" width=\"25%\" height=\"25%\">\n",
    "\n",
    "Códigos em R do livro: **Estatística Decodificada** (Silva, A.R. 2021) \n",
    "\n",
    "Capítulo 19: **Modelos lineares generalizados**\n",
    "____"
   ]
  },
  {
   "cell_type": "markdown",
   "metadata": {},
   "source": [
    "**Ajuste**"
   ]
  },
  {
   "cell_type": "code",
   "execution_count": 1,
   "metadata": {},
   "outputs": [
    {
     "data": {
      "image/png": "[encoded data removed]",
      "text/plain": [
       "plot without title"
      ]
     },
     "metadata": {
      "image/png": {
       "height": 420,
       "width": 420
      },
      "text/plain": {
       "height": 420,
       "width": 420
      }
     },
     "output_type": "display_data"
    }
   ],
   "source": [
    "# dados de exemplo\n",
    "dose <- c(0, 0.25, 0.5, 1, 1.5, 2)\n",
    "mortos <- c(0, 1, 5, 17, 19, 19)\n",
    "vivos <- 20 - mortos\n",
    "plot(mortos ~ dose)"
   ]
  },
  {
   "cell_type": "code",
   "execution_count": 2,
   "metadata": {},
   "outputs": [
    {
     "data": {
      "text/plain": [
       "\n",
       "Call:  glm(formula = cbind(mortos, vivos) ~ dose, family = binomial(link = \"logit\"))\n",
       "\n",
       "Coefficients:\n",
       "(Intercept)         dose  \n",
       "     -3.428        4.461  \n",
       "\n",
       "Degrees of Freedom: 5 Total (i.e. Null);  4 Residual\n",
       "Null Deviance:\t    103.1 \n",
       "Residual Deviance: 6.543 \tAIC: 22.42"
      ]
     },
     "metadata": {},
     "output_type": "display_data"
    }
   ],
   "source": [
    "# ajuste do MLG binomial\n",
    "glm.mortos <- glm(cbind(mortos, vivos) ~ dose, family = binomial(link = \"logit\"))\n",
    "glm.mortos"
   ]
  },
  {
   "cell_type": "code",
   "execution_count": 3,
   "metadata": {},
   "outputs": [
    {
     "data": {
      "image/png": "[encoded data removed]",
      "text/plain": [
       "plot without title"
      ]
     },
     "metadata": {
      "image/png": {
       "height": 420,
       "width": 420
      },
      "text/plain": {
       "height": 420,
       "width": 420
      }
     },
     "output_type": "display_data"
    }
   ],
   "source": [
    "# curva logit\n",
    "plot(mortos ~ dose)\n",
    "curve(20 * exp(-3.428 + 4.461*x)/(1 + exp(-3.428 + 4.461*x)), add = TRUE)"
   ]
  },
  {
   "cell_type": "markdown",
   "metadata": {},
   "source": [
    "____\n",
    "**Inferência**"
   ]
  },
  {
   "cell_type": "code",
   "execution_count": 4,
   "metadata": {},
   "outputs": [
    {
     "data": {
      "text/plain": [
       "\n",
       "Call:\n",
       "glm(formula = cbind(mortos, vivos) ~ dose, family = binomial(link = \"logit\"))\n",
       "\n",
       "Deviance Residuals: \n",
       "      1        2        3        4        5        6  \n",
       "-1.1304  -0.6788   0.1897   1.2123  -0.2964  -1.7918  \n",
       "\n",
       "Coefficients:\n",
       "            Estimate Std. Error z value Pr(>|z|)    \n",
       "(Intercept)  -3.4277     0.6150  -5.573 2.50e-08 ***\n",
       "dose          4.4606     0.7639   5.839 5.25e-09 ***\n",
       "---\n",
       "Signif. codes:  0 ‘***’ 0.001 ‘**’ 0.01 ‘*’ 0.05 ‘.’ 0.1 ‘ ’ 1\n",
       "\n",
       "(Dispersion parameter for binomial family taken to be 1)\n",
       "\n",
       "    Null deviance: 103.0984  on 5  degrees of freedom\n",
       "Residual deviance:   6.5429  on 4  degrees of freedom\n",
       "AIC: 22.417\n",
       "\n",
       "Number of Fisher Scoring iterations: 5\n"
      ]
     },
     "metadata": {},
     "output_type": "display_data"
    }
   ],
   "source": [
    "# teste z\n",
    "summary(glm.mortos)"
   ]
  },
  {
   "cell_type": "code",
   "execution_count": 5,
   "metadata": {},
   "outputs": [
    {
     "data": {
      "text/html": [
       "<table class=\"dataframe\">\n",
       "<caption>A anova: 2 × 5</caption>\n",
       "<thead>\n",
       "\t<tr><th></th><th scope=col>Df</th><th scope=col>Deviance</th><th scope=col>Resid. Df</th><th scope=col>Resid. Dev</th><th scope=col>Pr(&gt;Chi)</th></tr>\n",
       "\t<tr><th></th><th scope=col>&lt;int&gt;</th><th scope=col>&lt;dbl&gt;</th><th scope=col>&lt;int&gt;</th><th scope=col>&lt;dbl&gt;</th><th scope=col>&lt;dbl&gt;</th></tr>\n",
       "</thead>\n",
       "<tbody>\n",
       "\t<tr><th scope=row>NULL</th><td>NA</td><td>      NA</td><td>5</td><td>103.098390</td><td>          NA</td></tr>\n",
       "\t<tr><th scope=row>dose</th><td> 1</td><td>96.55548</td><td>4</td><td>  6.542909</td><td>8.677774e-23</td></tr>\n",
       "</tbody>\n",
       "</table>\n"
      ],
      "text/latex": [
       "A anova: 2 × 5\n",
       "\\begin{tabular}{r|lllll}\n",
       "  & Df & Deviance & Resid. Df & Resid. Dev & Pr(>Chi)\\\\\n",
       "  & <int> & <dbl> & <int> & <dbl> & <dbl>\\\\\n",
       "\\hline\n",
       "\tNULL & NA &       NA & 5 & 103.098390 &           NA\\\\\n",
       "\tdose &  1 & 96.55548 & 4 &   6.542909 & 8.677774e-23\\\\\n",
       "\\end{tabular}\n"
      ],
      "text/markdown": [
       "\n",
       "A anova: 2 × 5\n",
       "\n",
       "| <!--/--> | Df &lt;int&gt; | Deviance &lt;dbl&gt; | Resid. Df &lt;int&gt; | Resid. Dev &lt;dbl&gt; | Pr(&gt;Chi) &lt;dbl&gt; |\n",
       "|---|---|---|---|---|---|\n",
       "| NULL | NA |       NA | 5 | 103.098390 |           NA |\n",
       "| dose |  1 | 96.55548 | 4 |   6.542909 | 8.677774e-23 |\n",
       "\n"
      ],
      "text/plain": [
       "     Df Deviance Resid. Df Resid. Dev Pr(>Chi)    \n",
       "NULL NA       NA 5         103.098390           NA\n",
       "dose  1 96.55548 4           6.542909 8.677774e-23"
      ]
     },
     "metadata": {},
     "output_type": "display_data"
    }
   ],
   "source": [
    "# análise de deviance\n",
    "anova(glm.mortos, test = \"Chisq\")"
   ]
  },
  {
   "cell_type": "markdown",
   "metadata": {},
   "source": [
    "___\n",
    "**Exemplo de aplicação**"
   ]
  },
  {
   "cell_type": "code",
   "execution_count": 20,
   "metadata": {},
   "outputs": [
    {
     "data": {
      "text/html": [
       "<table class=\"dataframe\">\n",
       "<caption>A data.frame: 6 × 3</caption>\n",
       "<thead>\n",
       "\t<tr><th scope=col>herbicida</th><th scope=col>parc</th><th scope=col>nplantas</th></tr>\n",
       "\t<tr><th scope=col>&lt;fct&gt;</th><th scope=col>&lt;int&gt;</th><th scope=col>&lt;dbl&gt;</th></tr>\n",
       "</thead>\n",
       "<tbody>\n",
       "\t<tr><td>C</td><td>1</td><td>139</td></tr>\n",
       "\t<tr><td>C</td><td>2</td><td>161</td></tr>\n",
       "\t<tr><td>G</td><td>1</td><td>130</td></tr>\n",
       "\t<tr><td>G</td><td>2</td><td> 97</td></tr>\n",
       "\t<tr><td>H</td><td>1</td><td>180</td></tr>\n",
       "\t<tr><td>H</td><td>2</td><td>140</td></tr>\n",
       "</tbody>\n",
       "</table>\n"
      ],
      "text/latex": [
       "A data.frame: 6 × 3\n",
       "\\begin{tabular}{lll}\n",
       " herbicida & parc & nplantas\\\\\n",
       " <fct> & <int> & <dbl>\\\\\n",
       "\\hline\n",
       "\t C & 1 & 139\\\\\n",
       "\t C & 2 & 161\\\\\n",
       "\t G & 1 & 130\\\\\n",
       "\t G & 2 &  97\\\\\n",
       "\t H & 1 & 180\\\\\n",
       "\t H & 2 & 140\\\\\n",
       "\\end{tabular}\n"
      ],
      "text/markdown": [
       "\n",
       "A data.frame: 6 × 3\n",
       "\n",
       "| herbicida &lt;fct&gt; | parc &lt;int&gt; | nplantas &lt;dbl&gt; |\n",
       "|---|---|---|\n",
       "| C | 1 | 139 |\n",
       "| C | 2 | 161 |\n",
       "| G | 1 | 130 |\n",
       "| G | 2 |  97 |\n",
       "| H | 1 | 180 |\n",
       "| H | 2 | 140 |\n",
       "\n"
      ],
      "text/plain": [
       "  herbicida parc nplantas\n",
       "1 C         1    139     \n",
       "2 C         2    161     \n",
       "3 G         1    130     \n",
       "4 G         2     97     \n",
       "5 H         1    180     \n",
       "6 H         2    140     "
      ]
     },
     "metadata": {},
     "output_type": "display_data"
    }
   ],
   "source": [
    "daninhas <- data.frame(herbicida = c('C', 'C', 'G', 'G', 'H', 'H'), \n",
    "                      parc = rep(1:2, 3),\n",
    "                      nplantas = c(139, 161, 130, 97, 180, 140))\n",
    "daninhas"
   ]
  },
  {
   "cell_type": "code",
   "execution_count": 21,
   "metadata": {},
   "outputs": [
    {
     "data": {
      "text/plain": [
       "\n",
       "Call:\n",
       "glm(formula = nplantas ~ herbicida, family = poisson(link = \"log\"), \n",
       "    data = daninhas)\n",
       "\n",
       "Deviance Residuals: \n",
       "      1        2        3        4        5        6  \n",
       "-0.9095   0.8875   1.5133  -1.5888   1.5498  -1.6159  \n",
       "\n",
       "Coefficients:\n",
       "            Estimate Std. Error z value Pr(>|z|)    \n",
       "(Intercept)  5.01064    0.05774  86.787  < 2e-16 ***\n",
       "herbicidaG  -0.27883    0.08797  -3.170  0.00153 ** \n",
       "herbicidaH   0.06454    0.08036   0.803  0.42193    \n",
       "---\n",
       "Signif. codes:  0 ‘***’ 0.001 ‘**’ 0.01 ‘*’ 0.05 ‘.’ 0.1 ‘ ’ 1\n",
       "\n",
       "(Dispersion parameter for poisson family taken to be 1)\n",
       "\n",
       "    Null deviance: 28.973  on 5  degrees of freedom\n",
       "Residual deviance: 11.442  on 3  degrees of freedom\n",
       "AIC: 58.07\n",
       "\n",
       "Number of Fisher Scoring iterations: 4\n"
      ]
     },
     "metadata": {},
     "output_type": "display_data"
    }
   ],
   "source": [
    "# ajuste do MLG Poisson com função de ligação log\n",
    "glm.daninhas <- glm(nplantas ~ herbicida, data = daninhas, family = poisson(link = \"log\"))\n",
    "summary(glm.daninhas)"
   ]
  },
  {
   "cell_type": "code",
   "execution_count": 22,
   "metadata": {},
   "outputs": [
    {
     "data": {
      "text/html": [
       "<table class=\"dataframe\">\n",
       "<caption>A anova: 2 × 5</caption>\n",
       "<thead>\n",
       "\t<tr><th></th><th scope=col>Df</th><th scope=col>Deviance</th><th scope=col>Resid. Df</th><th scope=col>Resid. Dev</th><th scope=col>Pr(&gt;Chi)</th></tr>\n",
       "\t<tr><th></th><th scope=col>&lt;int&gt;</th><th scope=col>&lt;dbl&gt;</th><th scope=col>&lt;int&gt;</th><th scope=col>&lt;dbl&gt;</th><th scope=col>&lt;dbl&gt;</th></tr>\n",
       "</thead>\n",
       "<tbody>\n",
       "\t<tr><th scope=row>NULL</th><td>NA</td><td>      NA</td><td>5</td><td>28.97275</td><td>          NA</td></tr>\n",
       "\t<tr><th scope=row>herbicida</th><td> 2</td><td>17.53047</td><td>3</td><td>11.44228</td><td>0.0001560654</td></tr>\n",
       "</tbody>\n",
       "</table>\n"
      ],
      "text/latex": [
       "A anova: 2 × 5\n",
       "\\begin{tabular}{r|lllll}\n",
       "  & Df & Deviance & Resid. Df & Resid. Dev & Pr(>Chi)\\\\\n",
       "  & <int> & <dbl> & <int> & <dbl> & <dbl>\\\\\n",
       "\\hline\n",
       "\tNULL & NA &       NA & 5 & 28.97275 &           NA\\\\\n",
       "\therbicida &  2 & 17.53047 & 3 & 11.44228 & 0.0001560654\\\\\n",
       "\\end{tabular}\n"
      ],
      "text/markdown": [
       "\n",
       "A anova: 2 × 5\n",
       "\n",
       "| <!--/--> | Df &lt;int&gt; | Deviance &lt;dbl&gt; | Resid. Df &lt;int&gt; | Resid. Dev &lt;dbl&gt; | Pr(&gt;Chi) &lt;dbl&gt; |\n",
       "|---|---|---|---|---|---|\n",
       "| NULL | NA |       NA | 5 | 28.97275 |           NA |\n",
       "| herbicida |  2 | 17.53047 | 3 | 11.44228 | 0.0001560654 |\n",
       "\n"
      ],
      "text/plain": [
       "          Df Deviance Resid. Df Resid. Dev Pr(>Chi)    \n",
       "NULL      NA       NA 5         28.97275             NA\n",
       "herbicida  2 17.53047 3         11.44228   0.0001560654"
      ]
     },
     "metadata": {},
     "output_type": "display_data"
    }
   ],
   "source": [
    "# ANODEV\n",
    "anova(glm.daninhas, test = \"Chisq\")"
   ]
  },
  {
   "cell_type": "code",
   "execution_count": 24,
   "metadata": {},
   "outputs": [
    {
     "name": "stderr",
     "output_type": "stream",
     "text": [
      "Loading required package: mvtnorm\n",
      "\n",
      "Loading required package: survival\n",
      "\n",
      "Loading required package: TH.data\n",
      "\n",
      "Loading required package: MASS\n",
      "\n",
      "\n",
      "Attaching package: ‘TH.data’\n",
      "\n",
      "\n",
      "The following object is masked from ‘package:MASS’:\n",
      "\n",
      "    geyser\n",
      "\n",
      "\n"
     ]
    },
    {
     "data": {
      "text/plain": [
       "\n",
       "\t Simultaneous Tests for General Linear Hypotheses\n",
       "\n",
       "Multiple Comparisons of Means: User-defined Contrasts\n",
       "\n",
       "\n",
       "Fit: glm(formula = nplantas ~ herbicida, family = poisson(link = \"log\"), \n",
       "    data = daninhas)\n",
       "\n",
       "Linear Hypotheses:\n",
       "       Estimate Std. Error z value Pr(>|z|)   \n",
       "1 == 0  0.27883    0.08797    3.17  0.00153 **\n",
       "---\n",
       "Signif. codes:  0 ‘***’ 0.001 ‘**’ 0.01 ‘*’ 0.05 ‘.’ 0.1 ‘ ’ 1\n",
       "(Adjusted p values reported -- single-step method)\n"
      ]
     },
     "metadata": {},
     "output_type": "display_data"
    }
   ],
   "source": [
    "# teste do contraste entre herbicidas C vs G\n",
    "library(multcomp)\n",
    "c1 <- glht(glm.daninhas, linfct = mcp(herbicida = c(1, -1, 0)))\n",
    "summary(c1)"
   ]
  },
  {
   "cell_type": "code",
   "execution_count": 25,
   "metadata": {},
   "outputs": [
    {
     "data": {
      "text/plain": [
       "\n",
       "\t Simultaneous Tests for General Linear Hypotheses\n",
       "\n",
       "Multiple Comparisons of Means: Tukey Contrasts\n",
       "\n",
       "\n",
       "Fit: glm(formula = nplantas ~ herbicida, family = poisson(link = \"log\"), \n",
       "    data = daninhas)\n",
       "\n",
       "Linear Hypotheses:\n",
       "           Estimate Std. Error z value Pr(>|z|)    \n",
       "G - C == 0 -0.27883    0.08797  -3.170  0.00427 ** \n",
       "H - C == 0  0.06454    0.08036   0.803  0.70078    \n",
       "H - G == 0  0.34337    0.08678   3.957  < 0.001 ***\n",
       "---\n",
       "Signif. codes:  0 ‘***’ 0.001 ‘**’ 0.01 ‘*’ 0.05 ‘.’ 0.1 ‘ ’ 1\n",
       "(Adjusted p values reported -- single-step method)\n"
      ]
     },
     "metadata": {},
     "output_type": "display_data"
    }
   ],
   "source": [
    "# todas as comparações de médias aos pares\n",
    "todos <- glht(glm.daninhas, linfct = mcp(herbicida = \"Tukey\"))\n",
    "summary(todos)"
   ]
  },
  {
   "cell_type": "markdown",
   "metadata": {},
   "source": [
    "_____\n",
    "**Superdispersão**"
   ]
  },
  {
   "cell_type": "markdown",
   "metadata": {},
   "source": [
    "*MLG binomial negativo*"
   ]
  },
  {
   "cell_type": "code",
   "execution_count": 26,
   "metadata": {},
   "outputs": [
    {
     "data": {
      "text/html": [
       "11.4106901615272"
      ],
      "text/latex": [
       "11.4106901615272"
      ],
      "text/markdown": [
       "11.4106901615272"
      ],
      "text/plain": [
       "[1] 11.41069"
      ]
     },
     "metadata": {},
     "output_type": "display_data"
    },
    {
     "data": {
      "text/html": [
       "0.00970030318559967"
      ],
      "text/latex": [
       "0.00970030318559967"
      ],
      "text/markdown": [
       "0.00970030318559967"
      ],
      "text/plain": [
       "[1] 0.009700303"
      ]
     },
     "metadata": {},
     "output_type": "display_data"
    }
   ],
   "source": [
    "# estatística X2 de Pearson para avaliação de superdispersão\n",
    "rP = residuals(glm.daninhas, type = \"pearson\")\n",
    "X2 = sum(rP^2)\n",
    "X2\n",
    "1 - pchisq(X2, df = glm.daninhas$df.residual)     # p-valor"
   ]
  },
  {
   "cell_type": "code",
   "execution_count": 27,
   "metadata": {},
   "outputs": [
    {
     "data": {
      "text/plain": [
       "\n",
       "Call:\n",
       "glm.nb(formula = nplantas ~ herbicida, data = daninhas, init.theta = 156.3410513, \n",
       "    link = log)\n",
       "\n",
       "Deviance Residuals: \n",
       "      1        2        3        4        5        6  \n",
       "-0.6537   0.6303   1.1407  -1.2223   1.0785  -1.1486  \n",
       "\n",
       "Coefficients:\n",
       "            Estimate Std. Error z value Pr(>|z|)    \n",
       "(Intercept)  5.01064    0.08082  61.999   <2e-16 ***\n",
       "herbicidaG  -0.27883    0.11889  -2.345    0.019 *  \n",
       "herbicidaH   0.06454    0.11338   0.569    0.569    \n",
       "---\n",
       "Signif. codes:  0 ‘***’ 0.001 ‘**’ 0.01 ‘*’ 0.05 ‘.’ 0.1 ‘ ’ 1\n",
       "\n",
       "(Dispersion parameter for Negative Binomial(156.3411) family taken to be 1)\n",
       "\n",
       "    Null deviance: 15.4647  on 5  degrees of freedom\n",
       "Residual deviance:  6.1024  on 3  degrees of freedom\n",
       "AIC: 58.57\n",
       "\n",
       "Number of Fisher Scoring iterations: 1\n",
       "\n",
       "\n",
       "              Theta:  156 \n",
       "          Std. Err.:  194 \n",
       "\n",
       " 2 x log-likelihood:  -50.57 "
      ]
     },
     "metadata": {},
     "output_type": "display_data"
    }
   ],
   "source": [
    "# ajuste do MLG binomial negativo\n",
    "library(MASS)\n",
    "nb.glm.daninhas <- glm.nb(nplantas ~ herbicida, data = daninhas)\n",
    "summary(nb.glm.daninhas)"
   ]
  },
  {
   "cell_type": "code",
   "execution_count": 28,
   "metadata": {},
   "outputs": [
    {
     "name": "stderr",
     "output_type": "stream",
     "text": [
      "Warning message in anova.negbin(nb.glm.daninhas, test = \"Chisq\"):\n",
      "“tests made without re-estimating 'theta'”\n"
     ]
    },
    {
     "data": {
      "text/html": [
       "<table class=\"dataframe\">\n",
       "<caption>A anova: 2 × 5</caption>\n",
       "<thead>\n",
       "\t<tr><th></th><th scope=col>Df</th><th scope=col>Deviance</th><th scope=col>Resid. Df</th><th scope=col>Resid. Dev</th><th scope=col>Pr(&gt;Chi)</th></tr>\n",
       "\t<tr><th></th><th scope=col>&lt;int&gt;</th><th scope=col>&lt;dbl&gt;</th><th scope=col>&lt;int&gt;</th><th scope=col>&lt;dbl&gt;</th><th scope=col>&lt;dbl&gt;</th></tr>\n",
       "</thead>\n",
       "<tbody>\n",
       "\t<tr><th scope=row>NULL</th><td>NA</td><td>      NA</td><td>5</td><td>15.464735</td><td>         NA</td></tr>\n",
       "\t<tr><th scope=row>herbicida</th><td> 2</td><td>9.362307</td><td>3</td><td> 6.102428</td><td>0.009268317</td></tr>\n",
       "</tbody>\n",
       "</table>\n"
      ],
      "text/latex": [
       "A anova: 2 × 5\n",
       "\\begin{tabular}{r|lllll}\n",
       "  & Df & Deviance & Resid. Df & Resid. Dev & Pr(>Chi)\\\\\n",
       "  & <int> & <dbl> & <int> & <dbl> & <dbl>\\\\\n",
       "\\hline\n",
       "\tNULL & NA &       NA & 5 & 15.464735 &          NA\\\\\n",
       "\therbicida &  2 & 9.362307 & 3 &  6.102428 & 0.009268317\\\\\n",
       "\\end{tabular}\n"
      ],
      "text/markdown": [
       "\n",
       "A anova: 2 × 5\n",
       "\n",
       "| <!--/--> | Df &lt;int&gt; | Deviance &lt;dbl&gt; | Resid. Df &lt;int&gt; | Resid. Dev &lt;dbl&gt; | Pr(&gt;Chi) &lt;dbl&gt; |\n",
       "|---|---|---|---|---|---|\n",
       "| NULL | NA |       NA | 5 | 15.464735 |          NA |\n",
       "| herbicida |  2 | 9.362307 | 3 |  6.102428 | 0.009268317 |\n",
       "\n"
      ],
      "text/plain": [
       "          Df Deviance Resid. Df Resid. Dev Pr(>Chi)   \n",
       "NULL      NA       NA 5         15.464735           NA\n",
       "herbicida  2 9.362307 3          6.102428  0.009268317"
      ]
     },
     "metadata": {},
     "output_type": "display_data"
    }
   ],
   "source": [
    "# ANODEV\n",
    "anova(nb.glm.daninhas, test = \"Chisq\")"
   ]
  },
  {
   "cell_type": "markdown",
   "metadata": {},
   "source": [
    "*Modelo ZIP: Zero Inflated Poisson*"
   ]
  },
  {
   "cell_type": "code",
   "execution_count": 29,
   "metadata": {},
   "outputs": [],
   "source": [
    "# dados de exemplo (DBC)\n",
    "y = c(0, 0, 1, 8,  0, 1, 0, 4,  1, 1, 0, 0,  0, 0, 0, 9)\n",
    "Bloco = gl(4, 4)\n",
    "Trat = factor(rep(LETTERS[1:4], 4))"
   ]
  },
  {
   "cell_type": "code",
   "execution_count": 31,
   "metadata": {},
   "outputs": [
    {
     "name": "stderr",
     "output_type": "stream",
     "text": [
      "Classes and Methods for R developed in the\n",
      "Political Science Computational Laboratory\n",
      "Department of Political Science\n",
      "Stanford University\n",
      "Simon Jackman\n",
      "hurdle and zeroinfl functions by Achim Zeileis\n",
      "\n"
     ]
    },
    {
     "data": {
      "text/plain": [
       "\n",
       "Call:\n",
       "zeroinfl(formula = y ~ Trat + Bloco | 1, dist = \"poisson\")\n",
       "\n",
       "Pearson residuals:\n",
       "    Min      1Q  Median      3Q     Max \n",
       "-1.8895 -0.4884 -0.3303  0.3627  1.6814 \n",
       "\n",
       "Count model coefficients (poisson with log link):\n",
       "             Estimate Std. Error z value Pr(>|z|)   \n",
       "(Intercept) -1.454179   1.196541  -1.215  0.22424   \n",
       "TratB        0.687329   1.242342   0.553  0.58009   \n",
       "TratC        0.103501   1.465081   0.071  0.94368   \n",
       "TratD        3.559646   1.187756   2.997  0.00273 **\n",
       "Bloco2      -0.595624   0.558824  -1.066  0.28649   \n",
       "Bloco3       0.815244   1.073710   0.759  0.44769   \n",
       "Bloco4       0.006326   0.473017   0.013  0.98933   \n",
       "\n",
       "Zero-inflation model coefficients (binomial with logit link):\n",
       "            Estimate Std. Error z value Pr(>|z|)\n",
       "(Intercept)   -1.539      1.086  -1.417    0.156\n",
       "---\n",
       "Signif. codes:  0 '***' 0.001 '**' 0.01 '*' 0.05 '.' 0.1 ' ' 1 \n",
       "\n",
       "Number of iterations in BFGS optimization: 65 \n",
       "Log-likelihood: -16.18 on 8 Df"
      ]
     },
     "metadata": {},
     "output_type": "display_data"
    }
   ],
   "source": [
    "library(pscl)\n",
    "zip.tomate = zeroinfl(y ~ Trat + Bloco|1, dist = \"poisson\")\n",
    "summary(zip.tomate)"
   ]
  },
  {
   "cell_type": "code",
   "execution_count": 32,
   "metadata": {},
   "outputs": [
    {
     "data": {
      "text/plain": [
       "'log Lik.' -23.8823 (df=5)"
      ]
     },
     "metadata": {},
     "output_type": "display_data"
    },
    {
     "data": {
      "text/plain": [
       "'log Lik.' -16.17977 (df=8)"
      ]
     },
     "metadata": {},
     "output_type": "display_data"
    }
   ],
   "source": [
    "# TRV para efeito de tratamento\n",
    "zip0 = zeroinfl(y ~ Bloco|1, dist = \"poisson\")   # modelo sem efeito de Trat\n",
    "logLik(zip0)                                     # log-verossimilhança do modelo sem Trat\n",
    "logLik(zip.tomate)                               # log-verossimilhança do modelo com Trat"
   ]
  },
  {
   "cell_type": "code",
   "execution_count": 33,
   "metadata": {},
   "outputs": [
    {
     "data": {
      "text/html": [
       "0.00150126391725203"
      ],
      "text/latex": [
       "0.00150126391725203"
      ],
      "text/markdown": [
       "0.00150126391725203"
      ],
      "text/plain": [
       "[1] 0.001501264"
      ]
     },
     "metadata": {},
     "output_type": "display_data"
    }
   ],
   "source": [
    "LR = 2*(-16.17977 - (-23.8823))   # estatística do TRV\n",
    "1 - pchisq(LR, df = 8 - 5)        # p-valor"
   ]
  },
  {
   "cell_type": "code",
   "execution_count": 34,
   "metadata": {},
   "outputs": [
    {
     "data": {
      "text/html": [
       "0.142710518245959"
      ],
      "text/latex": [
       "0.142710518245959"
      ],
      "text/markdown": [
       "0.142710518245959"
      ],
      "text/plain": [
       "[1] 0.1427105"
      ]
     },
     "metadata": {},
     "output_type": "display_data"
    }
   ],
   "source": [
    "# X2 de Pearson e p-valor\n",
    "X2.zip = sum(residuals(zip.tomate, type = \"pearson\")^2)\n",
    "1 - pchisq(X2.zip, df = zip.tomate$df.residual)"
   ]
  },
  {
   "cell_type": "markdown",
   "metadata": {},
   "source": [
    "*Modelo ZINB: Zero Iinflated Negative Binomial*"
   ]
  },
  {
   "cell_type": "code",
   "execution_count": 35,
   "metadata": {},
   "outputs": [
    {
     "data": {
      "text/plain": [
       "\n",
       "Call:\n",
       "zeroinfl(formula = y ~ Trat + Bloco | 1, dist = \"negbin\")\n",
       "\n",
       "Pearson residuals:\n",
       "    Min      1Q  Median      3Q     Max \n",
       "-1.8895 -0.4884 -0.3303  0.3627  1.6814 \n",
       "\n",
       "Count model coefficients (negbin with log link):\n",
       "              Estimate Std. Error z value Pr(>|z|)   \n",
       "(Intercept)  -1.454180   1.196540  -1.215  0.22424   \n",
       "TratB         0.687322   1.242342   0.553  0.58009   \n",
       "TratC         0.103509   1.465078   0.071  0.94368   \n",
       "TratD         3.559650   1.187756   2.997  0.00273 **\n",
       "Bloco2       -0.595624   0.558825  -1.066  0.28649   \n",
       "Bloco3        0.815250   1.073710   0.759  0.44768   \n",
       "Bloco4        0.006326   0.473018   0.013  0.98933   \n",
       "Log(theta)   14.048290 305.702736   0.046  0.96335   \n",
       "\n",
       "Zero-inflation model coefficients (binomial with logit link):\n",
       "            Estimate Std. Error z value Pr(>|z|)\n",
       "(Intercept)   -1.539      1.086  -1.417    0.156\n",
       "---\n",
       "Signif. codes:  0 '***' 0.001 '**' 0.01 '*' 0.05 '.' 0.1 ' ' 1 \n",
       "\n",
       "Theta = 1262102.8495 \n",
       "Number of iterations in BFGS optimization: 40 \n",
       "Log-likelihood: -16.18 on 9 Df"
      ]
     },
     "metadata": {},
     "output_type": "display_data"
    }
   ],
   "source": [
    "zinb.tomate = zeroinfl(y ~ Trat + Bloco|1, dist = \"negbin\")\n",
    "summary(zinb.tomate)"
   ]
  },
  {
   "cell_type": "code",
   "execution_count": 36,
   "metadata": {},
   "outputs": [
    {
     "data": {
      "text/html": [
       "<table class=\"dataframe\">\n",
       "<caption>A data.frame: 2 × 2</caption>\n",
       "<thead>\n",
       "\t<tr><th></th><th scope=col>df</th><th scope=col>AIC</th></tr>\n",
       "\t<tr><th></th><th scope=col>&lt;dbl&gt;</th><th scope=col>&lt;dbl&gt;</th></tr>\n",
       "</thead>\n",
       "<tbody>\n",
       "\t<tr><th scope=row>zip.tomate</th><td>8</td><td>48.35955</td></tr>\n",
       "\t<tr><th scope=row>zinb.tomate</th><td>9</td><td>50.35956</td></tr>\n",
       "</tbody>\n",
       "</table>\n"
      ],
      "text/latex": [
       "A data.frame: 2 × 2\n",
       "\\begin{tabular}{r|ll}\n",
       "  & df & AIC\\\\\n",
       "  & <dbl> & <dbl>\\\\\n",
       "\\hline\n",
       "\tzip.tomate & 8 & 48.35955\\\\\n",
       "\tzinb.tomate & 9 & 50.35956\\\\\n",
       "\\end{tabular}\n"
      ],
      "text/markdown": [
       "\n",
       "A data.frame: 2 × 2\n",
       "\n",
       "| <!--/--> | df &lt;dbl&gt; | AIC &lt;dbl&gt; |\n",
       "|---|---|---|\n",
       "| zip.tomate | 8 | 48.35955 |\n",
       "| zinb.tomate | 9 | 50.35956 |\n",
       "\n"
      ],
      "text/plain": [
       "            df AIC     \n",
       "zip.tomate  8  48.35955\n",
       "zinb.tomate 9  50.35956"
      ]
     },
     "metadata": {},
     "output_type": "display_data"
    }
   ],
   "source": [
    "# comparação dos AIC dos modelos\n",
    "AIC(zip.tomate, zinb.tomate)"
   ]
  },
  {
   "cell_type": "markdown",
   "metadata": {},
   "source": [
    "*Modelos de quasi-verossimilhança*"
   ]
  },
  {
   "cell_type": "code",
   "execution_count": 38,
   "metadata": {},
   "outputs": [
    {
     "data": {
      "text/html": [
       "<table class=\"dataframe\">\n",
       "<caption>A matrix: 6 × 3 of type dbl</caption>\n",
       "<thead>\n",
       "\t<tr><th></th><th scope=col>(Intercept)</th><th scope=col>herbicidaG</th><th scope=col>herbicidaH</th></tr>\n",
       "</thead>\n",
       "<tbody>\n",
       "\t<tr><th scope=row>1</th><td>1</td><td>0</td><td>0</td></tr>\n",
       "\t<tr><th scope=row>2</th><td>1</td><td>0</td><td>0</td></tr>\n",
       "\t<tr><th scope=row>3</th><td>1</td><td>1</td><td>0</td></tr>\n",
       "\t<tr><th scope=row>4</th><td>1</td><td>1</td><td>0</td></tr>\n",
       "\t<tr><th scope=row>5</th><td>1</td><td>0</td><td>1</td></tr>\n",
       "\t<tr><th scope=row>6</th><td>1</td><td>0</td><td>1</td></tr>\n",
       "</tbody>\n",
       "</table>\n"
      ],
      "text/latex": [
       "A matrix: 6 × 3 of type dbl\n",
       "\\begin{tabular}{r|lll}\n",
       "  & (Intercept) & herbicidaG & herbicidaH\\\\\n",
       "\\hline\n",
       "\t1 & 1 & 0 & 0\\\\\n",
       "\t2 & 1 & 0 & 0\\\\\n",
       "\t3 & 1 & 1 & 0\\\\\n",
       "\t4 & 1 & 1 & 0\\\\\n",
       "\t5 & 1 & 0 & 1\\\\\n",
       "\t6 & 1 & 0 & 1\\\\\n",
       "\\end{tabular}\n"
      ],
      "text/markdown": [
       "\n",
       "A matrix: 6 × 3 of type dbl\n",
       "\n",
       "| <!--/--> | (Intercept) | herbicidaG | herbicidaH |\n",
       "|---|---|---|---|\n",
       "| 1 | 1 | 0 | 0 |\n",
       "| 2 | 1 | 0 | 0 |\n",
       "| 3 | 1 | 1 | 0 |\n",
       "| 4 | 1 | 1 | 0 |\n",
       "| 5 | 1 | 0 | 1 |\n",
       "| 6 | 1 | 0 | 1 |\n",
       "\n"
      ],
      "text/plain": [
       "  (Intercept) herbicidaG herbicidaH\n",
       "1 1           0          0         \n",
       "2 1           0          0         \n",
       "3 1           1          0         \n",
       "4 1           1          0         \n",
       "5 1           0          1         \n",
       "6 1           0          1         "
      ]
     },
     "metadata": {},
     "output_type": "display_data"
    }
   ],
   "source": [
    "# matriz do modelo do exemplo de aplicação (daninhas)\n",
    "X <- model.matrix(nplantas ~ herbicida, data = daninhas)\n",
    "X"
   ]
  },
  {
   "cell_type": "code",
   "execution_count": 39,
   "metadata": {},
   "outputs": [
    {
     "data": {
      "text/html": [
       "<dl>\n",
       "\t<dt>$par</dt>\n",
       "\t\t<dd><style>\n",
       ".dl-inline {width: auto; margin:0; padding: 0}\n",
       ".dl-inline>dt, .dl-inline>dd {float: none; width: auto; display: inline-block}\n",
       ".dl-inline>dt::after {content: \":\\0020\"; padding-right: .5ex}\n",
       ".dl-inline>dt:not(:first-of-type) {padding-left: .5ex}\n",
       "</style><dl class=dl-inline><dt>beta0</dt><dd>5.01057358822782</dd><dt>G</dt><dd>-0.278526113845783</dd><dt>H</dt><dd>0.0647262912439601</dd></dl>\n",
       "</dd>\n",
       "\t<dt>$value</dt>\n",
       "\t\t<dd>5.7211520896186</dd>\n",
       "\t<dt>$counts</dt>\n",
       "\t\t<dd><style>\n",
       ".dl-inline {width: auto; margin:0; padding: 0}\n",
       ".dl-inline>dt, .dl-inline>dd {float: none; width: auto; display: inline-block}\n",
       ".dl-inline>dt::after {content: \":\\0020\"; padding-right: .5ex}\n",
       ".dl-inline>dt:not(:first-of-type) {padding-left: .5ex}\n",
       "</style><dl class=dl-inline><dt>function</dt><dd>122</dd><dt>gradient</dt><dd>&lt;NA&gt;</dd></dl>\n",
       "</dd>\n",
       "\t<dt>$convergence</dt>\n",
       "\t\t<dd>0</dd>\n",
       "\t<dt>$message</dt>\n",
       "\t\t<dd>NULL</dd>\n",
       "\t<dt>$hessian</dt>\n",
       "\t\t<dd><table class=\"dataframe\">\n",
       "<caption>A matrix: 3 × 3 of type dbl</caption>\n",
       "<thead>\n",
       "\t<tr><th></th><th scope=col>beta0</th><th scope=col>G</th><th scope=col>H</th></tr>\n",
       "</thead>\n",
       "<tbody>\n",
       "\t<tr><th scope=row>beta0</th><td>847.0777</td><td>227.0556</td><td>320.0404</td></tr>\n",
       "\t<tr><th scope=row>G</th><td>227.0556</td><td>227.0556</td><td>  0.0000</td></tr>\n",
       "\t<tr><th scope=row>H</th><td>320.0404</td><td>  0.0000</td><td>320.0404</td></tr>\n",
       "</tbody>\n",
       "</table>\n",
       "</dd>\n",
       "</dl>\n"
      ],
      "text/latex": [
       "\\begin{description}\n",
       "\\item[\\$par] \\begin{description*}\n",
       "\\item[beta0] 5.01057358822782\n",
       "\\item[G] -0.278526113845783\n",
       "\\item[H] 0.0647262912439601\n",
       "\\end{description*}\n",
       "\n",
       "\\item[\\$value] 5.7211520896186\n",
       "\\item[\\$counts] \\begin{description*}\n",
       "\\item[function] 122\n",
       "\\item[gradient] <NA>\n",
       "\\end{description*}\n",
       "\n",
       "\\item[\\$convergence] 0\n",
       "\\item[\\$message] NULL\n",
       "\\item[\\$hessian] A matrix: 3 × 3 of type dbl\n",
       "\\begin{tabular}{r|lll}\n",
       "  & beta0 & G & H\\\\\n",
       "\\hline\n",
       "\tbeta0 & 847.0777 & 227.0556 & 320.0404\\\\\n",
       "\tG & 227.0556 & 227.0556 &   0.0000\\\\\n",
       "\tH & 320.0404 &   0.0000 & 320.0404\\\\\n",
       "\\end{tabular}\n",
       "\n",
       "\\end{description}\n"
      ],
      "text/markdown": [
       "$par\n",
       ":   beta0\n",
       ":   5.01057358822782G\n",
       ":   -0.278526113845783H\n",
       ":   0.0647262912439601\n",
       "\n",
       "\n",
       "$value\n",
       ":   5.7211520896186\n",
       "$counts\n",
       ":   function\n",
       ":   122gradient\n",
       ":   &lt;NA&gt;\n",
       "\n",
       "\n",
       "$convergence\n",
       ":   0\n",
       "$message\n",
       ":   NULL\n",
       "$hessian\n",
       ":   \n",
       "A matrix: 3 × 3 of type dbl\n",
       "\n",
       "| <!--/--> | beta0 | G | H |\n",
       "|---|---|---|---|\n",
       "| beta0 | 847.0777 | 227.0556 | 320.0404 |\n",
       "| G | 227.0556 | 227.0556 |   0.0000 |\n",
       "| H | 320.0404 |   0.0000 | 320.0404 |\n",
       "\n",
       "\n",
       "\n",
       "\n"
      ],
      "text/plain": [
       "$par\n",
       "      beta0           G           H \n",
       " 5.01057359 -0.27852611  0.06472629 \n",
       "\n",
       "$value\n",
       "[1] 5.721152\n",
       "\n",
       "$counts\n",
       "function gradient \n",
       "     122       NA \n",
       "\n",
       "$convergence\n",
       "[1] 0\n",
       "\n",
       "$message\n",
       "NULL\n",
       "\n",
       "$hessian\n",
       "         beta0        G        H\n",
       "beta0 847.0777 227.0556 320.0404\n",
       "G     227.0556 227.0556   0.0000\n",
       "H     320.0404   0.0000 320.0404\n"
      ]
     },
     "metadata": {},
     "output_type": "display_data"
    }
   ],
   "source": [
    "# vetor de respostas\n",
    "y <- daninhas$nplantas             \n",
    "\n",
    "# função de quasi-verossimihança\n",
    "minusQL <- function(betas) {\n",
    "    mu <- exp( X %*% betas )\n",
    "    Q <- y*(log(mu/y) + 1) - mu\n",
    "    -sum(Q)\n",
    "}\n",
    "\n",
    "# obtenção das estimativas de máxima quasi-verossimilhança\n",
    "QML <- optim(par = c(beta0 = 3, G = 0.1, H = 0.1), fn = minusQL, hessian = TRUE)\n",
    "QML"
   ]
  },
  {
   "cell_type": "code",
   "execution_count": 40,
   "metadata": {},
   "outputs": [
    {
     "data": {
      "text/html": [
       "3.80300192626294"
      ],
      "text/latex": [
       "3.80300192626294"
      ],
      "text/markdown": [
       "3.80300192626294"
      ],
      "text/plain": [
       "[1] 3.803002"
      ]
     },
     "metadata": {},
     "output_type": "display_data"
    }
   ],
   "source": [
    "# estimação do parâmetro phi de dispersão\n",
    "betas <- QML$par\n",
    "mu <- exp(X %*% betas)\n",
    "rP <- (y - mu)/sqrt(mu)  # resíduos de Pearson\n",
    "phi <- sum(rP^2)/3       # phi = X2/(n - p)\n",
    "phi"
   ]
  },
  {
   "cell_type": "code",
   "execution_count": 41,
   "metadata": {},
   "outputs": [
    {
     "data": {
      "text/html": [
       "<table class=\"dataframe\">\n",
       "<caption>A matrix: 3 × 3 of type dbl</caption>\n",
       "<thead>\n",
       "\t<tr><th></th><th scope=col>beta0</th><th scope=col>G</th><th scope=col>H</th></tr>\n",
       "</thead>\n",
       "<tbody>\n",
       "\t<tr><th scope=row>beta0</th><td> 0.003333538</td><td>-0.003333538</td><td>-0.003333538</td></tr>\n",
       "\t<tr><th scope=row>G</th><td>-0.003333538</td><td> 0.007737745</td><td> 0.003333538</td></tr>\n",
       "\t<tr><th scope=row>H</th><td>-0.003333538</td><td> 0.003333538</td><td> 0.006458143</td></tr>\n",
       "</tbody>\n",
       "</table>\n"
      ],
      "text/latex": [
       "A matrix: 3 × 3 of type dbl\n",
       "\\begin{tabular}{r|lll}\n",
       "  & beta0 & G & H\\\\\n",
       "\\hline\n",
       "\tbeta0 &  0.003333538 & -0.003333538 & -0.003333538\\\\\n",
       "\tG & -0.003333538 &  0.007737745 &  0.003333538\\\\\n",
       "\tH & -0.003333538 &  0.003333538 &  0.006458143\\\\\n",
       "\\end{tabular}\n"
      ],
      "text/markdown": [
       "\n",
       "A matrix: 3 × 3 of type dbl\n",
       "\n",
       "| <!--/--> | beta0 | G | H |\n",
       "|---|---|---|---|\n",
       "| beta0 |  0.003333538 | -0.003333538 | -0.003333538 |\n",
       "| G | -0.003333538 |  0.007737745 |  0.003333538 |\n",
       "| H | -0.003333538 |  0.003333538 |  0.006458143 |\n",
       "\n"
      ],
      "text/plain": [
       "      beta0        G            H           \n",
       "beta0  0.003333538 -0.003333538 -0.003333538\n",
       "G     -0.003333538  0.007737745  0.003333538\n",
       "H     -0.003333538  0.003333538  0.006458143"
      ]
     },
     "metadata": {},
     "output_type": "display_data"
    }
   ],
   "source": [
    "# estimativa da matriz de covariâncias dos betas sem levar em conta phi\n",
    "solve(QML$hessian)"
   ]
  },
  {
   "cell_type": "code",
   "execution_count": 42,
   "metadata": {},
   "outputs": [
    {
     "data": {
      "text/html": [
       "<table class=\"dataframe\">\n",
       "<caption>A matrix: 3 × 3 of type dbl</caption>\n",
       "<thead>\n",
       "\t<tr><th></th><th scope=col>(Intercept)</th><th scope=col>herbicidaG</th><th scope=col>herbicidaH</th></tr>\n",
       "</thead>\n",
       "<tbody>\n",
       "\t<tr><th scope=row>(Intercept)</th><td> 0.003333333</td><td>-0.003333333</td><td>-0.003333333</td></tr>\n",
       "\t<tr><th scope=row>herbicidaG</th><td>-0.003333333</td><td> 0.007738620</td><td> 0.003333333</td></tr>\n",
       "\t<tr><th scope=row>herbicidaH</th><td>-0.003333333</td><td> 0.003333333</td><td> 0.006458333</td></tr>\n",
       "</tbody>\n",
       "</table>\n"
      ],
      "text/latex": [
       "A matrix: 3 × 3 of type dbl\n",
       "\\begin{tabular}{r|lll}\n",
       "  & (Intercept) & herbicidaG & herbicidaH\\\\\n",
       "\\hline\n",
       "\t(Intercept) &  0.003333333 & -0.003333333 & -0.003333333\\\\\n",
       "\therbicidaG & -0.003333333 &  0.007738620 &  0.003333333\\\\\n",
       "\therbicidaH & -0.003333333 &  0.003333333 &  0.006458333\\\\\n",
       "\\end{tabular}\n"
      ],
      "text/markdown": [
       "\n",
       "A matrix: 3 × 3 of type dbl\n",
       "\n",
       "| <!--/--> | (Intercept) | herbicidaG | herbicidaH |\n",
       "|---|---|---|---|\n",
       "| (Intercept) |  0.003333333 | -0.003333333 | -0.003333333 |\n",
       "| herbicidaG | -0.003333333 |  0.007738620 |  0.003333333 |\n",
       "| herbicidaH | -0.003333333 |  0.003333333 |  0.006458333 |\n",
       "\n"
      ],
      "text/plain": [
       "            (Intercept)  herbicidaG   herbicidaH  \n",
       "(Intercept)  0.003333333 -0.003333333 -0.003333333\n",
       "herbicidaG  -0.003333333  0.007738620  0.003333333\n",
       "herbicidaH  -0.003333333  0.003333333  0.006458333"
      ]
     },
     "metadata": {},
     "output_type": "display_data"
    }
   ],
   "source": [
    "# ... conferindo com o modelo ajustado\n",
    "vcov(glm.daninhas)"
   ]
  },
  {
   "cell_type": "code",
   "execution_count": 44,
   "metadata": {},
   "outputs": [
    {
     "data": {
      "text/html": [
       "<table class=\"dataframe\">\n",
       "<caption>A matrix: 3 × 3 of type dbl</caption>\n",
       "<thead>\n",
       "\t<tr><th></th><th scope=col>beta0</th><th scope=col>G</th><th scope=col>H</th></tr>\n",
       "</thead>\n",
       "<tbody>\n",
       "\t<tr><th scope=row>beta0</th><td> 0.01267745</td><td>-0.01267745</td><td>-0.01267745</td></tr>\n",
       "\t<tr><th scope=row>G</th><td>-0.01267745</td><td> 0.02942666</td><td> 0.01267745</td></tr>\n",
       "\t<tr><th scope=row>H</th><td>-0.01267745</td><td> 0.01267745</td><td> 0.02456033</td></tr>\n",
       "</tbody>\n",
       "</table>\n"
      ],
      "text/latex": [
       "A matrix: 3 × 3 of type dbl\n",
       "\\begin{tabular}{r|lll}\n",
       "  & beta0 & G & H\\\\\n",
       "\\hline\n",
       "\tbeta0 &  0.01267745 & -0.01267745 & -0.01267745\\\\\n",
       "\tG & -0.01267745 &  0.02942666 &  0.01267745\\\\\n",
       "\tH & -0.01267745 &  0.01267745 &  0.02456033\\\\\n",
       "\\end{tabular}\n"
      ],
      "text/markdown": [
       "\n",
       "A matrix: 3 × 3 of type dbl\n",
       "\n",
       "| <!--/--> | beta0 | G | H |\n",
       "|---|---|---|---|\n",
       "| beta0 |  0.01267745 | -0.01267745 | -0.01267745 |\n",
       "| G | -0.01267745 |  0.02942666 |  0.01267745 |\n",
       "| H | -0.01267745 |  0.01267745 |  0.02456033 |\n",
       "\n"
      ],
      "text/plain": [
       "      beta0       G           H          \n",
       "beta0  0.01267745 -0.01267745 -0.01267745\n",
       "G     -0.01267745  0.02942666  0.01267745\n",
       "H     -0.01267745  0.01267745  0.02456033"
      ]
     },
     "metadata": {},
     "output_type": "display_data"
    }
   ],
   "source": [
    "# obtenção da matriz de covariâncias levando em conta phi (abordagem correta)\n",
    "solve(QML$hessian) * phi"
   ]
  },
  {
   "cell_type": "markdown",
   "metadata": {},
   "source": [
    "Estimação por QV considerando a função de variância $V(\\mu) = \\mu^2$"
   ]
  },
  {
   "cell_type": "code",
   "execution_count": 45,
   "metadata": {},
   "outputs": [
    {
     "data": {
      "text/html": [
       "<style>\n",
       ".dl-inline {width: auto; margin:0; padding: 0}\n",
       ".dl-inline>dt, .dl-inline>dd {float: none; width: auto; display: inline-block}\n",
       ".dl-inline>dt::after {content: \":\\0020\"; padding-right: .5ex}\n",
       ".dl-inline>dt:not(:first-of-type) {padding-left: .5ex}\n",
       "</style><dl class=dl-inline><dt>beta0</dt><dd>5.01040575627849</dd><dt>G</dt><dd>-0.278427584597123</dd><dt>H</dt><dd>0.0645250181757038</dd></dl>\n"
      ],
      "text/latex": [
       "\\begin{description*}\n",
       "\\item[beta0] 5.01040575627849\n",
       "\\item[G] -0.278427584597123\n",
       "\\item[H] 0.0645250181757038\n",
       "\\end{description*}\n"
      ],
      "text/markdown": [
       "beta0\n",
       ":   5.01040575627849G\n",
       ":   -0.278427584597123H\n",
       ":   0.0645250181757038\n",
       "\n"
      ],
      "text/plain": [
       "      beta0           G           H \n",
       " 5.01040576 -0.27842758  0.06452502 "
      ]
     },
     "metadata": {},
     "output_type": "display_data"
    }
   ],
   "source": [
    "# computando a função de quasi-verossimilhança\n",
    "minusQL <- function(betas) {\n",
    "    mu <- exp( X %*% betas )\n",
    "    Q <- log(y/mu) - y/mu + 1\n",
    "    -sum(Q)\n",
    "}\n",
    "\n",
    "# computando as estimativas beta de QV\n",
    "QML <- optim(par = c(beta0 = 3, G = 0.1, H = 0.1), \n",
    "    fn = minusQL, hessian = TRUE)\n",
    "betas <- QML$par\n",
    "betas"
   ]
  },
  {
   "cell_type": "code",
   "execution_count": 46,
   "metadata": {},
   "outputs": [
    {
     "data": {
      "text/html": [
       "0.0280928716042838"
      ],
      "text/latex": [
       "0.0280928716042838"
      ],
      "text/markdown": [
       "0.0280928716042838"
      ],
      "text/plain": [
       "[1] 0.02809287"
      ]
     },
     "metadata": {},
     "output_type": "display_data"
    }
   ],
   "source": [
    "# estimando o parâmetro phi\n",
    "mu <- exp(X %*% betas)\n",
    "rP <- (y - mu)/sqrt(mu^2)    # resíduos de Pearson\n",
    "phi <- sum(rP^2)/3           # phi = X2/(n - p)\n",
    "phi"
   ]
  },
  {
   "cell_type": "code",
   "execution_count": 47,
   "metadata": {},
   "outputs": [
    {
     "data": {
      "text/html": [
       "<table class=\"dataframe\">\n",
       "<caption>A matrix: 3 × 3 of type dbl</caption>\n",
       "<thead>\n",
       "\t<tr><th></th><th scope=col>beta0</th><th scope=col>G</th><th scope=col>H</th></tr>\n",
       "</thead>\n",
       "<tbody>\n",
       "\t<tr><th scope=row>beta0</th><td> 0.01404321</td><td>-0.01404321</td><td>-0.01404321</td></tr>\n",
       "\t<tr><th scope=row>G</th><td>-0.01404321</td><td> 0.02809210</td><td> 0.01404321</td></tr>\n",
       "\t<tr><th scope=row>H</th><td>-0.01404321</td><td> 0.01404321</td><td> 0.02808622</td></tr>\n",
       "</tbody>\n",
       "</table>\n"
      ],
      "text/latex": [
       "A matrix: 3 × 3 of type dbl\n",
       "\\begin{tabular}{r|lll}\n",
       "  & beta0 & G & H\\\\\n",
       "\\hline\n",
       "\tbeta0 &  0.01404321 & -0.01404321 & -0.01404321\\\\\n",
       "\tG & -0.01404321 &  0.02809210 &  0.01404321\\\\\n",
       "\tH & -0.01404321 &  0.01404321 &  0.02808622\\\\\n",
       "\\end{tabular}\n"
      ],
      "text/markdown": [
       "\n",
       "A matrix: 3 × 3 of type dbl\n",
       "\n",
       "| <!--/--> | beta0 | G | H |\n",
       "|---|---|---|---|\n",
       "| beta0 |  0.01404321 | -0.01404321 | -0.01404321 |\n",
       "| G | -0.01404321 |  0.02809210 |  0.01404321 |\n",
       "| H | -0.01404321 |  0.01404321 |  0.02808622 |\n",
       "\n"
      ],
      "text/plain": [
       "      beta0       G           H          \n",
       "beta0  0.01404321 -0.01404321 -0.01404321\n",
       "G     -0.01404321  0.02809210  0.01404321\n",
       "H     -0.01404321  0.01404321  0.02808622"
      ]
     },
     "metadata": {},
     "output_type": "display_data"
    }
   ],
   "source": [
    "# matriz de covariâncias dos betas\n",
    "solve(QML$hessian) * phi "
   ]
  },
  {
   "cell_type": "code",
   "execution_count": 48,
   "metadata": {},
   "outputs": [
    {
     "data": {
      "text/plain": [
       "\n",
       "Call:\n",
       "glm(formula = nplantas ~ herbicida, family = quasi(link = \"log\", \n",
       "    variance = \"mu^2\"), data = daninhas)\n",
       "\n",
       "Deviance Residuals: \n",
       "       1         2         3         4         5         6  \n",
       "-0.07521   0.07161   0.13887  -0.15308   0.12014  -0.13062  \n",
       "\n",
       "Coefficients:\n",
       "            Estimate Std. Error t value Pr(>|t|)    \n",
       "(Intercept)  5.01064    0.11851  42.279 2.91e-05 ***\n",
       "herbicidaG  -0.27883    0.16760  -1.664    0.195    \n",
       "herbicidaH   0.06454    0.16760   0.385    0.726    \n",
       "---\n",
       "Signif. codes:  0 ‘***’ 0.001 ‘**’ 0.01 ‘*’ 0.05 ‘.’ 0.1 ‘ ’ 1\n",
       "\n",
       "(Dispersion parameter for quasi family taken to be 0.02809101)\n",
       "\n",
       "    Null deviance: 0.213849  on 5  degrees of freedom\n",
       "Residual deviance: 0.085002  on 3  degrees of freedom\n",
       "AIC: NA\n",
       "\n",
       "Number of Fisher Scoring iterations: 4\n"
      ]
     },
     "metadata": {},
     "output_type": "display_data"
    }
   ],
   "source": [
    "# agora usando a implementação do R\n",
    "quasi.daninhas <- update(glm.daninhas, family = quasi(link = \"log\", variance = \"mu^2\"))\n",
    "summary(quasi.daninhas)"
   ]
  },
  {
   "cell_type": "markdown",
   "metadata": {},
   "source": [
    "____\n",
    "**Os MLG e a heterocedasticidade**"
   ]
  },
  {
   "cell_type": "code",
   "execution_count": 50,
   "metadata": {},
   "outputs": [
    {
     "name": "stdout",
     "output_type": "stream",
     "text": [
      "  herbicida  nplantas.m  nplantas.v nplantas.se nplantas.rmv\n",
      "1         C 150.0000000 242.0000000  11.0000000    0.6198347\n",
      "2         G 113.5000000 544.5000000  16.5000000    0.2084481\n",
      "3         H 160.0000000 800.0000000  20.0000000    0.2000000\n"
     ]
    }
   ],
   "source": [
    "# médias (m), variâncias (v), erros padrão (se) e razão variância/média dos dados 'daninhas'\n",
    "mvs <- function(x) c(m = mean(x), v = var(x), se = sqrt(var(x)/length(x)), rmv = mean(x)/var(x))\n",
    "print(aggregate(nplantas ~ herbicida, data = daninhas, FUN = mvs))"
   ]
  },
  {
   "cell_type": "code",
   "execution_count": 52,
   "metadata": {},
   "outputs": [
    {
     "data": {
      "text/plain": [
       " herbicida rate   SE  df asymp.LCL asymp.UCL\n",
       " C          150 8.66 Inf     134.0       168\n",
       " G          114 7.53 Inf      99.7       129\n",
       " H          160 8.94 Inf     143.4       179\n",
       "\n",
       "Confidence level used: 0.95 \n",
       "Intervals are back-transformed from the log scale "
      ]
     },
     "metadata": {},
     "output_type": "display_data"
    }
   ],
   "source": [
    "# observando os erros padrão das médias dos herbicidas\n",
    "library(emmeans)\n",
    "lsmeans(glm.daninhas, specs = \"herbicida\", type = \"response\")"
   ]
  },
  {
   "cell_type": "code",
   "execution_count": null,
   "metadata": {},
   "outputs": [],
   "source": []
  }
 ],
 "metadata": {
  "kernelspec": {
   "display_name": "R",
   "language": "R",
   "name": "ir"
  },
  "language_info": {
   "codemirror_mode": "r",
   "file_extension": ".r",
   "mimetype": "text/x-r-source",
   "name": "R",
   "pygments_lexer": "r",
   "version": "3.6.3"
  }
 },
 "nbformat": 4,
 "nbformat_minor": 4
}
