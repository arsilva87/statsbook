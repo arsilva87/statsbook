{
 "cells": [
  {
   "cell_type": "markdown",
   "metadata": {},
   "source": [
    "<img align=\"right\" src = \"https://raw.githubusercontent.com/arsilva87/statsbook/main/figs/figura_thumbnail.png\" width=\"25%\" height=\"25%\">\n",
    "\n",
    "Códigos em R do livro: **Estatística Decodificada** (Silva, A.R. 2021) \n",
    "\n",
    "Capítulo 14: **Análise de variância**\n",
    "____"
   ]
  },
  {
   "cell_type": "markdown",
   "metadata": {},
   "source": [
    "**One-way ANOVA**"
   ]
  },
  {
   "cell_type": "code",
   "execution_count": 2,
   "metadata": {},
   "outputs": [
    {
     "name": "stdout",
     "output_type": "stream",
     "text": [
      "'data.frame':\t20 obs. of  2 variables:\n",
      " $ variedade: Factor w/ 4 levels \"A\",\"B\",\"C\",\"D\": 1 1 1 1 1 2 2 2 2 2 ...\n",
      " $ prod     : int  25 26 20 23 21 31 25 28 27 24 ...\n"
     ]
    }
   ],
   "source": [
    "# Exemplo\n",
    "milho <- read.table(\"https://raw.githubusercontent.com/arsilva87/statsbook/main/datasets/milho.txt\", header = TRUE)\n",
    "str(milho)"
   ]
  },
  {
   "cell_type": "code",
   "execution_count": 3,
   "metadata": {},
   "outputs": [
    {
     "data": {
      "text/plain": [
       "\n",
       "Call:\n",
       "lm(formula = prod ~ variedade, data = milho)\n",
       "\n",
       "Coefficients:\n",
       "(Intercept)   variedadeB   variedadeC   variedadeD  \n",
       "         23            4            3            8  \n"
      ]
     },
     "metadata": {},
     "output_type": "display_data"
    }
   ],
   "source": [
    "# ajuste do modelo\n",
    "lm.milho <- lm(prod ~ variedade, data = milho)\n",
    "lm.milho"
   ]
  },
  {
   "cell_type": "code",
   "execution_count": 4,
   "metadata": {},
   "outputs": [
    {
     "data": {
      "text/plain": [
       "\n",
       "Call:\n",
       "lm(formula = prod ~ -1 + variedade, data = milho)\n",
       "\n",
       "Coefficients:\n",
       "variedadeA  variedadeB  variedadeC  variedadeD  \n",
       "        23          27          26          31  \n"
      ]
     },
     "metadata": {},
     "output_type": "display_data"
    }
   ],
   "source": [
    "# modelo de médias (sem o intercepto)\n",
    "lm(prod ~ -1 + variedade, data = milho)"
   ]
  },
  {
   "cell_type": "code",
   "execution_count": 5,
   "metadata": {},
   "outputs": [
    {
     "data": {
      "text/html": [
       "<table class=\"dataframe\">\n",
       "<caption>A anova: 2 × 5</caption>\n",
       "<thead>\n",
       "\t<tr><th></th><th scope=col>Df</th><th scope=col>Sum Sq</th><th scope=col>Mean Sq</th><th scope=col>F value</th><th scope=col>Pr(&gt;F)</th></tr>\n",
       "\t<tr><th></th><th scope=col>&lt;int&gt;</th><th scope=col>&lt;dbl&gt;</th><th scope=col>&lt;dbl&gt;</th><th scope=col>&lt;dbl&gt;</th><th scope=col>&lt;dbl&gt;</th></tr>\n",
       "</thead>\n",
       "<tbody>\n",
       "\t<tr><th scope=row>variedade</th><td> 3</td><td>163.75</td><td>54.58333</td><td>7.797619</td><td>0.001975594</td></tr>\n",
       "\t<tr><th scope=row>Residuals</th><td>16</td><td>112.00</td><td> 7.00000</td><td>      NA</td><td>         NA</td></tr>\n",
       "</tbody>\n",
       "</table>\n"
      ],
      "text/latex": [
       "A anova: 2 × 5\n",
       "\\begin{tabular}{r|lllll}\n",
       "  & Df & Sum Sq & Mean Sq & F value & Pr(>F)\\\\\n",
       "  & <int> & <dbl> & <dbl> & <dbl> & <dbl>\\\\\n",
       "\\hline\n",
       "\tvariedade &  3 & 163.75 & 54.58333 & 7.797619 & 0.001975594\\\\\n",
       "\tResiduals & 16 & 112.00 &  7.00000 &       NA &          NA\\\\\n",
       "\\end{tabular}\n"
      ],
      "text/markdown": [
       "\n",
       "A anova: 2 × 5\n",
       "\n",
       "| <!--/--> | Df &lt;int&gt; | Sum Sq &lt;dbl&gt; | Mean Sq &lt;dbl&gt; | F value &lt;dbl&gt; | Pr(&gt;F) &lt;dbl&gt; |\n",
       "|---|---|---|---|---|---|\n",
       "| variedade |  3 | 163.75 | 54.58333 | 7.797619 | 0.001975594 |\n",
       "| Residuals | 16 | 112.00 |  7.00000 |       NA |          NA |\n",
       "\n"
      ],
      "text/plain": [
       "          Df Sum Sq Mean Sq  F value  Pr(>F)     \n",
       "variedade  3 163.75 54.58333 7.797619 0.001975594\n",
       "Residuals 16 112.00  7.00000       NA          NA"
      ]
     },
     "metadata": {},
     "output_type": "display_data"
    }
   ],
   "source": [
    "# tabela de ANOVA\n",
    "anova(lm.milho)"
   ]
  },
  {
   "cell_type": "markdown",
   "metadata": {},
   "source": [
    "____\n",
    "**Teste de homocedasticidade**\n",
    "\n",
    "$H_0: \\sigma_1^2 = \\sigma_2^2 = ... = \\sigma_I^2 = \\sigma^2$"
   ]
  },
  {
   "cell_type": "code",
   "execution_count": 6,
   "metadata": {},
   "outputs": [
    {
     "data": {
      "text/plain": [
       "\n",
       "\tBartlett test of homogeneity of variances\n",
       "\n",
       "data:  residuals(lm.milho) by variedade\n",
       "Bartlett's K-squared = 0.03706, df = 3, p-value = 0.9981\n"
      ]
     },
     "metadata": {},
     "output_type": "display_data"
    }
   ],
   "source": [
    "bartlett.test(residuals(lm.milho) ~ variedade, data = milho)"
   ]
  },
  {
   "cell_type": "markdown",
   "metadata": {},
   "source": [
    "___\n",
    "**Two-way ANOVA**"
   ]
  },
  {
   "cell_type": "code",
   "execution_count": 7,
   "metadata": {},
   "outputs": [
    {
     "name": "stdout",
     "output_type": "stream",
     "text": [
      "'data.frame':\t12 obs. of  3 variables:\n",
      " $ cultivar: Factor w/ 4 levels \"1\",\"2\",\"3\",\"4\": 1 1 1 2 2 2 3 3 3 4 ...\n",
      " $ bloco   : Factor w/ 3 levels \"1\",\"2\",\"3\": 1 2 3 1 2 3 1 2 3 1 ...\n",
      " $ prod    : num  50.9 50.6 51.2 49.1 49.3 49.9 49.9 49.8 49.5 49.2 ...\n"
     ]
    }
   ],
   "source": [
    "# dados de exemplo: experimento em DBC\n",
    "batata <- read.table(file = \"https://raw.githubusercontent.com/arsilva87/statsbook/main/datasets/batata.txt\", \n",
    "                     header = TRUE, colClasses = c(\"factor\", \"factor\", \"numeric\"))\n",
    "str(batata)"
   ]
  },
  {
   "cell_type": "code",
   "execution_count": 8,
   "metadata": {},
   "outputs": [
    {
     "data": {
      "text/html": [
       "<table class=\"dataframe\">\n",
       "<caption>A anova: 3 × 5</caption>\n",
       "<thead>\n",
       "\t<tr><th></th><th scope=col>Df</th><th scope=col>Sum Sq</th><th scope=col>Mean Sq</th><th scope=col>F value</th><th scope=col>Pr(&gt;F)</th></tr>\n",
       "\t<tr><th></th><th scope=col>&lt;int&gt;</th><th scope=col>&lt;dbl&gt;</th><th scope=col>&lt;dbl&gt;</th><th scope=col>&lt;dbl&gt;</th><th scope=col>&lt;dbl&gt;</th></tr>\n",
       "</thead>\n",
       "<tbody>\n",
       "\t<tr><th scope=row>cultivar</th><td>3</td><td>4.3825</td><td>1.4608333</td><td>13.80315</td><td>0.00421805</td></tr>\n",
       "\t<tr><th scope=row>bloco</th><td>2</td><td>0.4650</td><td>0.2325000</td><td> 2.19685</td><td>0.19237256</td></tr>\n",
       "\t<tr><th scope=row>Residuals</th><td>6</td><td>0.6350</td><td>0.1058333</td><td>      NA</td><td>        NA</td></tr>\n",
       "</tbody>\n",
       "</table>\n"
      ],
      "text/latex": [
       "A anova: 3 × 5\n",
       "\\begin{tabular}{r|lllll}\n",
       "  & Df & Sum Sq & Mean Sq & F value & Pr(>F)\\\\\n",
       "  & <int> & <dbl> & <dbl> & <dbl> & <dbl>\\\\\n",
       "\\hline\n",
       "\tcultivar & 3 & 4.3825 & 1.4608333 & 13.80315 & 0.00421805\\\\\n",
       "\tbloco & 2 & 0.4650 & 0.2325000 &  2.19685 & 0.19237256\\\\\n",
       "\tResiduals & 6 & 0.6350 & 0.1058333 &       NA &         NA\\\\\n",
       "\\end{tabular}\n"
      ],
      "text/markdown": [
       "\n",
       "A anova: 3 × 5\n",
       "\n",
       "| <!--/--> | Df &lt;int&gt; | Sum Sq &lt;dbl&gt; | Mean Sq &lt;dbl&gt; | F value &lt;dbl&gt; | Pr(&gt;F) &lt;dbl&gt; |\n",
       "|---|---|---|---|---|---|\n",
       "| cultivar | 3 | 4.3825 | 1.4608333 | 13.80315 | 0.00421805 |\n",
       "| bloco | 2 | 0.4650 | 0.2325000 |  2.19685 | 0.19237256 |\n",
       "| Residuals | 6 | 0.6350 | 0.1058333 |       NA |         NA |\n",
       "\n"
      ],
      "text/plain": [
       "          Df Sum Sq Mean Sq   F value  Pr(>F)    \n",
       "cultivar  3  4.3825 1.4608333 13.80315 0.00421805\n",
       "bloco     2  0.4650 0.2325000  2.19685 0.19237256\n",
       "Residuals 6  0.6350 0.1058333       NA         NA"
      ]
     },
     "metadata": {},
     "output_type": "display_data"
    }
   ],
   "source": [
    "# ANOVA\n",
    "lm.batata <- lm(prod ~ cultivar + bloco, data = batata)\n",
    "anova(lm.batata)"
   ]
  },
  {
   "cell_type": "markdown",
   "metadata": {},
   "source": [
    "___\n",
    "**O teste da aditividade**"
   ]
  },
  {
   "cell_type": "code",
   "execution_count": 9,
   "metadata": {},
   "outputs": [
    {
     "data": {
      "text/html": [
       "<table class=\"dataframe\">\n",
       "<caption>A anova: 4 × 5</caption>\n",
       "<thead>\n",
       "\t<tr><th></th><th scope=col>Df</th><th scope=col>Sum Sq</th><th scope=col>Mean Sq</th><th scope=col>F value</th><th scope=col>Pr(&gt;F)</th></tr>\n",
       "\t<tr><th></th><th scope=col>&lt;int&gt;</th><th scope=col>&lt;dbl&gt;</th><th scope=col>&lt;dbl&gt;</th><th scope=col>&lt;dbl&gt;</th><th scope=col>&lt;dbl&gt;</th></tr>\n",
       "</thead>\n",
       "<tbody>\n",
       "\t<tr><th scope=row>cultivar</th><td>3</td><td>4.382500000</td><td>1.460833333</td><td>11.63574969</td><td>0.01079993</td></tr>\n",
       "\t<tr><th scope=row>bloco</th><td>2</td><td>0.465000000</td><td>0.232500000</td><td> 1.85189627</td><td>0.25012303</td></tr>\n",
       "\t<tr><th scope=row>lambda</th><td>1</td><td>0.007265057</td><td>0.007265057</td><td> 0.05786724</td><td>0.81945134</td></tr>\n",
       "\t<tr><th scope=row>Residuals</th><td>5</td><td>0.627734943</td><td>0.125546989</td><td>         NA</td><td>        NA</td></tr>\n",
       "</tbody>\n",
       "</table>\n"
      ],
      "text/latex": [
       "A anova: 4 × 5\n",
       "\\begin{tabular}{r|lllll}\n",
       "  & Df & Sum Sq & Mean Sq & F value & Pr(>F)\\\\\n",
       "  & <int> & <dbl> & <dbl> & <dbl> & <dbl>\\\\\n",
       "\\hline\n",
       "\tcultivar & 3 & 4.382500000 & 1.460833333 & 11.63574969 & 0.01079993\\\\\n",
       "\tbloco & 2 & 0.465000000 & 0.232500000 &  1.85189627 & 0.25012303\\\\\n",
       "\tlambda & 1 & 0.007265057 & 0.007265057 &  0.05786724 & 0.81945134\\\\\n",
       "\tResiduals & 5 & 0.627734943 & 0.125546989 &          NA &         NA\\\\\n",
       "\\end{tabular}\n"
      ],
      "text/markdown": [
       "\n",
       "A anova: 4 × 5\n",
       "\n",
       "| <!--/--> | Df &lt;int&gt; | Sum Sq &lt;dbl&gt; | Mean Sq &lt;dbl&gt; | F value &lt;dbl&gt; | Pr(&gt;F) &lt;dbl&gt; |\n",
       "|---|---|---|---|---|---|\n",
       "| cultivar | 3 | 4.382500000 | 1.460833333 | 11.63574969 | 0.01079993 |\n",
       "| bloco | 2 | 0.465000000 | 0.232500000 |  1.85189627 | 0.25012303 |\n",
       "| lambda | 1 | 0.007265057 | 0.007265057 |  0.05786724 | 0.81945134 |\n",
       "| Residuals | 5 | 0.627734943 | 0.125546989 |          NA |         NA |\n",
       "\n"
      ],
      "text/plain": [
       "          Df Sum Sq      Mean Sq     F value     Pr(>F)    \n",
       "cultivar  3  4.382500000 1.460833333 11.63574969 0.01079993\n",
       "bloco     2  0.465000000 0.232500000  1.85189627 0.25012303\n",
       "lambda    1  0.007265057 0.007265057  0.05786724 0.81945134\n",
       "Residuals 5  0.627734943 0.125546989          NA         NA"
      ]
     },
     "metadata": {},
     "output_type": "display_data"
    }
   ],
   "source": [
    "lambda <- predict(lm.batata)^2                                  # efeito de interação cultivar x bloco\n",
    "anova(lm(prod ~ cultivar + bloco + lambda, data = batata))"
   ]
  },
  {
   "cell_type": "markdown",
   "metadata": {},
   "source": [
    "___\n",
    "**Bootstrap na ANOVA**"
   ]
  },
  {
   "cell_type": "markdown",
   "metadata": {},
   "source": [
    "*Exemplo 1: milho*"
   ]
  },
  {
   "cell_type": "code",
   "execution_count": 10,
   "metadata": {},
   "outputs": [],
   "source": [
    "pred <- fitted(lm.milho)   # valores preditos\n",
    "res <- residuals(lm.milho) # resíduos"
   ]
  },
  {
   "cell_type": "code",
   "execution_count": 11,
   "metadata": {},
   "outputs": [
    {
     "data": {
      "text/html": [
       "<table class=\"dataframe\">\n",
       "<caption>A matrix: 2 × 4 of type dbl</caption>\n",
       "<thead>\n",
       "\t<tr><th></th><th scope=col>(Intercept)</th><th scope=col>variedadeB</th><th scope=col>variedadeC</th><th scope=col>variedadeD</th></tr>\n",
       "</thead>\n",
       "<tbody>\n",
       "\t<tr><th scope=row>2.5%</th><td>21</td><td>0.8</td><td>-0.2</td><td> 4.995</td></tr>\n",
       "\t<tr><th scope=row>97.5%</th><td>25</td><td>6.8</td><td> 5.8</td><td>11.000</td></tr>\n",
       "</tbody>\n",
       "</table>\n"
      ],
      "text/latex": [
       "A matrix: 2 × 4 of type dbl\n",
       "\\begin{tabular}{r|llll}\n",
       "  & (Intercept) & variedadeB & variedadeC & variedadeD\\\\\n",
       "\\hline\n",
       "\t2.5\\% & 21 & 0.8 & -0.2 &  4.995\\\\\n",
       "\t97.5\\% & 25 & 6.8 &  5.8 & 11.000\\\\\n",
       "\\end{tabular}\n"
      ],
      "text/markdown": [
       "\n",
       "A matrix: 2 × 4 of type dbl\n",
       "\n",
       "| <!--/--> | (Intercept) | variedadeB | variedadeC | variedadeD |\n",
       "|---|---|---|---|---|\n",
       "| 2.5% | 21 | 0.8 | -0.2 |  4.995 |\n",
       "| 97.5% | 25 | 6.8 |  5.8 | 11.000 |\n",
       "\n"
      ],
      "text/plain": [
       "      (Intercept) variedadeB variedadeC variedadeD\n",
       "2.5%  21          0.8        -0.2        4.995    \n",
       "97.5% 25          6.8         5.8       11.000    "
      ]
     },
     "metadata": {},
     "output_type": "display_data"
    }
   ],
   "source": [
    "nboot <- 1000  # n reamostragens\n",
    "\n",
    "# matriz para rebeber as estimativas bootstrap\n",
    "pars <- matrix(nrow = nboot, ncol = 4)\n",
    "colnames(pars) <- names(coef(lm.milho))\n",
    "\n",
    "# loop\n",
    "for(i in 1:nboot) {\n",
    "   obs <- pred + sample(res, replace = TRUE)\n",
    "   pars[i, ] <- coef(lm(obs ~ variedade, data = milho))\n",
    "}\n",
    "\n",
    "# percentis 2.5 e 97.5\n",
    "apply(pars, 2, quantile, p = c(0.025, 0.975))"
   ]
  },
  {
   "cell_type": "code",
   "execution_count": 12,
   "metadata": {},
   "outputs": [
    {
     "data": {
      "text/html": [
       "<table class=\"dataframe\">\n",
       "<caption>A matrix: 4 × 2 of type dbl</caption>\n",
       "<thead>\n",
       "\t<tr><th></th><th scope=col>2.5 %</th><th scope=col>97.5 %</th></tr>\n",
       "</thead>\n",
       "<tbody>\n",
       "\t<tr><th scope=row>(Intercept)</th><td>20.49169</td><td>25.50831</td></tr>\n",
       "\t<tr><th scope=row>variedadeB</th><td> 0.45272</td><td> 7.54728</td></tr>\n",
       "\t<tr><th scope=row>variedadeC</th><td>-0.54728</td><td> 6.54728</td></tr>\n",
       "\t<tr><th scope=row>variedadeD</th><td> 4.45272</td><td>11.54728</td></tr>\n",
       "</tbody>\n",
       "</table>\n"
      ],
      "text/latex": [
       "A matrix: 4 × 2 of type dbl\n",
       "\\begin{tabular}{r|ll}\n",
       "  & 2.5 \\% & 97.5 \\%\\\\\n",
       "\\hline\n",
       "\t(Intercept) & 20.49169 & 25.50831\\\\\n",
       "\tvariedadeB &  0.45272 &  7.54728\\\\\n",
       "\tvariedadeC & -0.54728 &  6.54728\\\\\n",
       "\tvariedadeD &  4.45272 & 11.54728\\\\\n",
       "\\end{tabular}\n"
      ],
      "text/markdown": [
       "\n",
       "A matrix: 4 × 2 of type dbl\n",
       "\n",
       "| <!--/--> | 2.5 % | 97.5 % |\n",
       "|---|---|---|\n",
       "| (Intercept) | 20.49169 | 25.50831 |\n",
       "| variedadeB |  0.45272 |  7.54728 |\n",
       "| variedadeC | -0.54728 |  6.54728 |\n",
       "| variedadeD |  4.45272 | 11.54728 |\n",
       "\n"
      ],
      "text/plain": [
       "            2.5 %    97.5 %  \n",
       "(Intercept) 20.49169 25.50831\n",
       "variedadeB   0.45272  7.54728\n",
       "variedadeC  -0.54728  6.54728\n",
       "variedadeD   4.45272 11.54728"
      ]
     },
     "metadata": {},
     "output_type": "display_data"
    }
   ],
   "source": [
    "# IC paramétrico\n",
    "confint(lm.milho)"
   ]
  },
  {
   "cell_type": "code",
   "execution_count": 13,
   "metadata": {},
   "outputs": [
    {
     "data": {
      "text/plain": [
       "\n",
       "Call:\n",
       "lm(formula = prod ~ variedade, data = milho)\n",
       "\n",
       "Residuals:\n",
       "   Min     1Q Median     3Q    Max \n",
       "    -4     -2      0      2      4 \n",
       "\n",
       "Coefficients:\n",
       "            Estimate Std. Error t value Pr(>|t|)    \n",
       "(Intercept)   23.000      1.183  19.439 1.48e-12 ***\n",
       "variedadeB     4.000      1.673   2.390 0.029473 *  \n",
       "variedadeC     3.000      1.673   1.793 0.091923 .  \n",
       "variedadeD     8.000      1.673   4.781 0.000204 ***\n",
       "---\n",
       "Signif. codes:  0 ‘***’ 0.001 ‘**’ 0.01 ‘*’ 0.05 ‘.’ 0.1 ‘ ’ 1\n",
       "\n",
       "Residual standard error: 2.646 on 16 degrees of freedom\n",
       "Multiple R-squared:  0.5938,\tAdjusted R-squared:  0.5177 \n",
       "F-statistic: 7.798 on 3 and 16 DF,  p-value: 0.001976\n"
      ]
     },
     "metadata": {},
     "output_type": "display_data"
    },
    {
     "data": {
      "text/html": [
       "<style>\n",
       ".dl-inline {width: auto; margin:0; padding: 0}\n",
       ".dl-inline>dt, .dl-inline>dd {float: none; width: auto; display: inline-block}\n",
       ".dl-inline>dt::after {content: \":\\0020\"; padding-right: .5ex}\n",
       ".dl-inline>dt:not(:first-of-type) {padding-left: .5ex}\n",
       "</style><dl class=dl-inline><dt>(Intercept)</dt><dd>1.04532016829977</dd><dt>variedadeB</dt><dd>1.43927219957327</dd><dt>variedadeC</dt><dd>1.48450257928638</dd><dt>variedadeD</dt><dd>1.4859793048675</dd></dl>\n"
      ],
      "text/latex": [
       "\\begin{description*}\n",
       "\\item[(Intercept)] 1.04532016829977\n",
       "\\item[variedadeB] 1.43927219957327\n",
       "\\item[variedadeC] 1.48450257928638\n",
       "\\item[variedadeD] 1.4859793048675\n",
       "\\end{description*}\n"
      ],
      "text/markdown": [
       "(Intercept)\n",
       ":   1.04532016829977variedadeB\n",
       ":   1.43927219957327variedadeC\n",
       ":   1.48450257928638variedadeD\n",
       ":   1.4859793048675\n",
       "\n"
      ],
      "text/plain": [
       "(Intercept)  variedadeB  variedadeC  variedadeD \n",
       "   1.045320    1.439272    1.484503    1.485979 "
      ]
     },
     "metadata": {},
     "output_type": "display_data"
    }
   ],
   "source": [
    "# comparação dos erros padrão das estimativas\n",
    "summary(lm.milho)\n",
    "\n",
    "# desvios padrao bootstrap\n",
    "apply(pars, 2, sd)"
   ]
  },
  {
   "cell_type": "markdown",
   "metadata": {},
   "source": [
    "*Exemplo 2: dadosboot.txt*"
   ]
  },
  {
   "cell_type": "code",
   "execution_count": 14,
   "metadata": {},
   "outputs": [
    {
     "name": "stdout",
     "output_type": "stream",
     "text": [
      "'data.frame':\t16 obs. of  2 variables:\n",
      " $ trt: Factor w/ 4 levels \"a\",\"b\",\"c\",\"d\": 1 2 3 4 1 2 3 4 1 2 ...\n",
      " $ y  : num  18.2 18.6 22.8 17.7 19.5 21.6 22 17 22.2 23.1 ...\n"
     ]
    }
   ],
   "source": [
    "dados <- read.table(\"https://raw.githubusercontent.com/arsilva87/statsbook/main/datasets/dadosboot.txt\", header = TRUE)\n",
    "str(dados)"
   ]
  },
  {
   "cell_type": "code",
   "execution_count": 15,
   "metadata": {},
   "outputs": [
    {
     "data": {
      "image/png": "[encoded data removed]",
      "text/plain": [
       "plot without title"
      ]
     },
     "metadata": {
      "image/png": {
       "height": 420,
       "width": 420
      },
      "text/plain": {
       "height": 420,
       "width": 420
      }
     },
     "output_type": "display_data"
    }
   ],
   "source": [
    "boxplot(y ~ trt, data = dados)"
   ]
  },
  {
   "cell_type": "code",
   "execution_count": 16,
   "metadata": {},
   "outputs": [
    {
     "data": {
      "text/plain": [
       "\n",
       "\tShapiro-Wilk normality test\n",
       "\n",
       "data:  res\n",
       "W = 0.90835, p-value = 0.1095\n"
      ]
     },
     "metadata": {},
     "output_type": "display_data"
    }
   ],
   "source": [
    "# Teste de normalidade\n",
    "m <- lm(y ~ -1 + trt, data = dados)\n",
    "res <- residuals(m)\n",
    "shapiro.test(res)"
   ]
  },
  {
   "cell_type": "code",
   "execution_count": 17,
   "metadata": {},
   "outputs": [
    {
     "data": {
      "text/plain": [
       "\n",
       "\tBartlett test of homogeneity of variances\n",
       "\n",
       "data:  res by trt\n",
       "Bartlett's K-squared = 9.606, df = 3, p-value = 0.02223\n"
      ]
     },
     "metadata": {},
     "output_type": "display_data"
    }
   ],
   "source": [
    "# Teste de homocedasticidade\n",
    "bartlett.test(res ~ trt, data = dados)"
   ]
  },
  {
   "cell_type": "code",
   "execution_count": 18,
   "metadata": {},
   "outputs": [
    {
     "data": {
      "text/html": [
       "<table class=\"dataframe\">\n",
       "<caption>A matrix: 2 × 4 of type dbl</caption>\n",
       "<thead>\n",
       "\t<tr><th></th><th scope=col>trta</th><th scope=col>trtb</th><th scope=col>trtc</th><th scope=col>trtd</th></tr>\n",
       "</thead>\n",
       "<tbody>\n",
       "\t<tr><th scope=row>2.5%</th><td>19.61828</td><td>20.51750</td><td>20.19906</td><td>15.33672</td></tr>\n",
       "\t<tr><th scope=row>97.5%</th><td>24.22000</td><td>25.14375</td><td>24.81875</td><td>20.04453</td></tr>\n",
       "</tbody>\n",
       "</table>\n"
      ],
      "text/latex": [
       "A matrix: 2 × 4 of type dbl\n",
       "\\begin{tabular}{r|llll}\n",
       "  & trta & trtb & trtc & trtd\\\\\n",
       "\\hline\n",
       "\t2.5\\% & 19.61828 & 20.51750 & 20.19906 & 15.33672\\\\\n",
       "\t97.5\\% & 24.22000 & 25.14375 & 24.81875 & 20.04453\\\\\n",
       "\\end{tabular}\n"
      ],
      "text/markdown": [
       "\n",
       "A matrix: 2 × 4 of type dbl\n",
       "\n",
       "| <!--/--> | trta | trtb | trtc | trtd |\n",
       "|---|---|---|---|---|\n",
       "| 2.5% | 19.61828 | 20.51750 | 20.19906 | 15.33672 |\n",
       "| 97.5% | 24.22000 | 25.14375 | 24.81875 | 20.04453 |\n",
       "\n"
      ],
      "text/plain": [
       "      trta     trtb     trtc     trtd    \n",
       "2.5%  19.61828 20.51750 20.19906 15.33672\n",
       "97.5% 24.22000 25.14375 24.81875 20.04453"
      ]
     },
     "metadata": {},
     "output_type": "display_data"
    }
   ],
   "source": [
    "# Construção de intervalos de 95% de confiança por bootstrap percentílico\n",
    "pred <- fitted(m)\n",
    "nboot <- 1000\n",
    "pars <- matrix(nrow = nboot, ncol = length(coef(m)))\n",
    "colnames(pars) <- names(coef(m))\n",
    "for(i in 1:nboot) {\n",
    "   obs <- pred + sample(res, rep = T)\n",
    "   pars[i, ] <- coef(lm(obs ~ -1 + trt, data = dados))\n",
    "}\n",
    "\n",
    "# ICs bootstrap percentil \n",
    "apply(pars, 2, quantile, p = c(0.025, 0.975))"
   ]
  },
  {
   "cell_type": "markdown",
   "metadata": {},
   "source": [
    "____\n",
    "**Outros tipos de decomposição**"
   ]
  },
  {
   "cell_type": "code",
   "execution_count": 19,
   "metadata": {},
   "outputs": [
    {
     "data": {
      "text/html": [
       "5.48250000000012"
      ],
      "text/latex": [
       "5.48250000000012"
      ],
      "text/markdown": [
       "5.48250000000012"
      ],
      "text/plain": [
       "[1] 5.4825"
      ]
     },
     "metadata": {},
     "output_type": "display_data"
    },
    {
     "data": {
      "text/html": [
       "5.01750000000013"
      ],
      "text/latex": [
       "5.01750000000013"
      ],
      "text/markdown": [
       "5.01750000000013"
      ],
      "text/plain": [
       "[1] 5.0175"
      ]
     },
     "metadata": {},
     "output_type": "display_data"
    },
    {
     "data": {
      "text/html": [
       "1.1"
      ],
      "text/latex": [
       "1.1"
      ],
      "text/markdown": [
       "1.1"
      ],
      "text/plain": [
       "[1] 1.1"
      ]
     },
     "metadata": {},
     "output_type": "display_data"
    }
   ],
   "source": [
    "# SQ residuais dos modelos\n",
    "deviance(lm(prod ~ 1, data = batata))         # modelo nulo (apenas com a constante mu)\n",
    "deviance(lm(prod ~ bloco, data = batata))     # modelo com bloco apenas\n",
    "deviance(lm(prod ~ cultivar, data = batata))  # modelo com cultivar apenas"
   ]
  },
  {
   "cell_type": "code",
   "execution_count": 20,
   "metadata": {},
   "outputs": [
    {
     "data": {
      "text/html": [
       "<table class=\"dataframe\">\n",
       "<caption>A anova: 2 × 4</caption>\n",
       "<thead>\n",
       "\t<tr><th></th><th scope=col>Df</th><th scope=col>Sum of Sq</th><th scope=col>RSS</th><th scope=col>AIC</th></tr>\n",
       "\t<tr><th></th><th scope=col>&lt;dbl&gt;</th><th scope=col>&lt;dbl&gt;</th><th scope=col>&lt;dbl&gt;</th><th scope=col>&lt;dbl&gt;</th></tr>\n",
       "</thead>\n",
       "<tbody>\n",
       "\t<tr><th scope=row>&lt;none&gt;</th><td>NA</td><td>   NA</td><td>5.4825</td><td>-7.400145</td></tr>\n",
       "\t<tr><th scope=row>bloco</th><td> 2</td><td>0.465</td><td>5.0175</td><td>-4.463698</td></tr>\n",
       "</tbody>\n",
       "</table>\n"
      ],
      "text/latex": [
       "A anova: 2 × 4\n",
       "\\begin{tabular}{r|llll}\n",
       "  & Df & Sum of Sq & RSS & AIC\\\\\n",
       "  & <dbl> & <dbl> & <dbl> & <dbl>\\\\\n",
       "\\hline\n",
       "\t<none> & NA &    NA & 5.4825 & -7.400145\\\\\n",
       "\tbloco &  2 & 0.465 & 5.0175 & -4.463698\\\\\n",
       "\\end{tabular}\n"
      ],
      "text/markdown": [
       "\n",
       "A anova: 2 × 4\n",
       "\n",
       "| <!--/--> | Df &lt;dbl&gt; | Sum of Sq &lt;dbl&gt; | RSS &lt;dbl&gt; | AIC &lt;dbl&gt; |\n",
       "|---|---|---|---|---|\n",
       "| &lt;none&gt; | NA |    NA | 5.4825 | -7.400145 |\n",
       "| bloco |  2 | 0.465 | 5.0175 | -4.463698 |\n",
       "\n"
      ],
      "text/plain": [
       "       Df Sum of Sq RSS    AIC      \n",
       "<none> NA    NA     5.4825 -7.400145\n",
       "bloco   2 0.465     5.0175 -4.463698"
      ]
     },
     "metadata": {},
     "output_type": "display_data"
    },
    {
     "data": {
      "text/html": [
       "<table class=\"dataframe\">\n",
       "<caption>A anova: 2 × 4</caption>\n",
       "<thead>\n",
       "\t<tr><th></th><th scope=col>Df</th><th scope=col>Sum of Sq</th><th scope=col>RSS</th><th scope=col>AIC</th></tr>\n",
       "\t<tr><th></th><th scope=col>&lt;dbl&gt;</th><th scope=col>&lt;dbl&gt;</th><th scope=col>&lt;dbl&gt;</th><th scope=col>&lt;dbl&gt;</th></tr>\n",
       "</thead>\n",
       "<tbody>\n",
       "\t<tr><th scope=row>&lt;none&gt;</th><td>NA</td><td>    NA</td><td>5.4825</td><td> -7.400145</td></tr>\n",
       "\t<tr><th scope=row>cultivar</th><td> 3</td><td>4.3825</td><td>1.1000</td><td>-20.675158</td></tr>\n",
       "</tbody>\n",
       "</table>\n"
      ],
      "text/latex": [
       "A anova: 2 × 4\n",
       "\\begin{tabular}{r|llll}\n",
       "  & Df & Sum of Sq & RSS & AIC\\\\\n",
       "  & <dbl> & <dbl> & <dbl> & <dbl>\\\\\n",
       "\\hline\n",
       "\t<none> & NA &     NA & 5.4825 &  -7.400145\\\\\n",
       "\tcultivar &  3 & 4.3825 & 1.1000 & -20.675158\\\\\n",
       "\\end{tabular}\n"
      ],
      "text/markdown": [
       "\n",
       "A anova: 2 × 4\n",
       "\n",
       "| <!--/--> | Df &lt;dbl&gt; | Sum of Sq &lt;dbl&gt; | RSS &lt;dbl&gt; | AIC &lt;dbl&gt; |\n",
       "|---|---|---|---|---|\n",
       "| &lt;none&gt; | NA |     NA | 5.4825 |  -7.400145 |\n",
       "| cultivar |  3 | 4.3825 | 1.1000 | -20.675158 |\n",
       "\n"
      ],
      "text/plain": [
       "         Df Sum of Sq RSS    AIC       \n",
       "<none>   NA     NA    5.4825  -7.400145\n",
       "cultivar  3 4.3825    1.1000 -20.675158"
      ]
     },
     "metadata": {},
     "output_type": "display_data"
    }
   ],
   "source": [
    "# SQ de bloco e cultivar por redução da SQ residual (RSS)\n",
    "add1(lm(prod ~ 1, data = batata), \"bloco\")\n",
    "add1(lm(prod ~ 1, data = batata), \"cultivar\")"
   ]
  },
  {
   "cell_type": "code",
   "execution_count": 21,
   "metadata": {},
   "outputs": [
    {
     "data": {
      "text/html": [
       "<table class=\"dataframe\">\n",
       "<caption>A anova: 3 × 5</caption>\n",
       "<thead>\n",
       "\t<tr><th></th><th scope=col>Df</th><th scope=col>Sum Sq</th><th scope=col>Mean Sq</th><th scope=col>F value</th><th scope=col>Pr(&gt;F)</th></tr>\n",
       "\t<tr><th></th><th scope=col>&lt;int&gt;</th><th scope=col>&lt;dbl&gt;</th><th scope=col>&lt;dbl&gt;</th><th scope=col>&lt;dbl&gt;</th><th scope=col>&lt;dbl&gt;</th></tr>\n",
       "</thead>\n",
       "<tbody>\n",
       "\t<tr><th scope=row>bloco</th><td>2</td><td>0.4650</td><td>0.2325000</td><td> 2.19685</td><td>0.19237256</td></tr>\n",
       "\t<tr><th scope=row>cultivar</th><td>3</td><td>4.3825</td><td>1.4608333</td><td>13.80315</td><td>0.00421805</td></tr>\n",
       "\t<tr><th scope=row>Residuals</th><td>6</td><td>0.6350</td><td>0.1058333</td><td>      NA</td><td>        NA</td></tr>\n",
       "</tbody>\n",
       "</table>\n"
      ],
      "text/latex": [
       "A anova: 3 × 5\n",
       "\\begin{tabular}{r|lllll}\n",
       "  & Df & Sum Sq & Mean Sq & F value & Pr(>F)\\\\\n",
       "  & <int> & <dbl> & <dbl> & <dbl> & <dbl>\\\\\n",
       "\\hline\n",
       "\tbloco & 2 & 0.4650 & 0.2325000 &  2.19685 & 0.19237256\\\\\n",
       "\tcultivar & 3 & 4.3825 & 1.4608333 & 13.80315 & 0.00421805\\\\\n",
       "\tResiduals & 6 & 0.6350 & 0.1058333 &       NA &         NA\\\\\n",
       "\\end{tabular}\n"
      ],
      "text/markdown": [
       "\n",
       "A anova: 3 × 5\n",
       "\n",
       "| <!--/--> | Df &lt;int&gt; | Sum Sq &lt;dbl&gt; | Mean Sq &lt;dbl&gt; | F value &lt;dbl&gt; | Pr(&gt;F) &lt;dbl&gt; |\n",
       "|---|---|---|---|---|---|\n",
       "| bloco | 2 | 0.4650 | 0.2325000 |  2.19685 | 0.19237256 |\n",
       "| cultivar | 3 | 4.3825 | 1.4608333 | 13.80315 | 0.00421805 |\n",
       "| Residuals | 6 | 0.6350 | 0.1058333 |       NA |         NA |\n",
       "\n"
      ],
      "text/plain": [
       "          Df Sum Sq Mean Sq   F value  Pr(>F)    \n",
       "bloco     2  0.4650 0.2325000  2.19685 0.19237256\n",
       "cultivar  3  4.3825 1.4608333 13.80315 0.00421805\n",
       "Residuals 6  0.6350 0.1058333       NA         NA"
      ]
     },
     "metadata": {},
     "output_type": "display_data"
    },
    {
     "data": {
      "text/html": [
       "<table class=\"dataframe\">\n",
       "<caption>A anova: 3 × 5</caption>\n",
       "<thead>\n",
       "\t<tr><th></th><th scope=col>Df</th><th scope=col>Sum Sq</th><th scope=col>Mean Sq</th><th scope=col>F value</th><th scope=col>Pr(&gt;F)</th></tr>\n",
       "\t<tr><th></th><th scope=col>&lt;int&gt;</th><th scope=col>&lt;dbl&gt;</th><th scope=col>&lt;dbl&gt;</th><th scope=col>&lt;dbl&gt;</th><th scope=col>&lt;dbl&gt;</th></tr>\n",
       "</thead>\n",
       "<tbody>\n",
       "\t<tr><th scope=row>cultivar</th><td>3</td><td>4.3825</td><td>1.4608333</td><td>13.80315</td><td>0.00421805</td></tr>\n",
       "\t<tr><th scope=row>bloco</th><td>2</td><td>0.4650</td><td>0.2325000</td><td> 2.19685</td><td>0.19237256</td></tr>\n",
       "\t<tr><th scope=row>Residuals</th><td>6</td><td>0.6350</td><td>0.1058333</td><td>      NA</td><td>        NA</td></tr>\n",
       "</tbody>\n",
       "</table>\n"
      ],
      "text/latex": [
       "A anova: 3 × 5\n",
       "\\begin{tabular}{r|lllll}\n",
       "  & Df & Sum Sq & Mean Sq & F value & Pr(>F)\\\\\n",
       "  & <int> & <dbl> & <dbl> & <dbl> & <dbl>\\\\\n",
       "\\hline\n",
       "\tcultivar & 3 & 4.3825 & 1.4608333 & 13.80315 & 0.00421805\\\\\n",
       "\tbloco & 2 & 0.4650 & 0.2325000 &  2.19685 & 0.19237256\\\\\n",
       "\tResiduals & 6 & 0.6350 & 0.1058333 &       NA &         NA\\\\\n",
       "\\end{tabular}\n"
      ],
      "text/markdown": [
       "\n",
       "A anova: 3 × 5\n",
       "\n",
       "| <!--/--> | Df &lt;int&gt; | Sum Sq &lt;dbl&gt; | Mean Sq &lt;dbl&gt; | F value &lt;dbl&gt; | Pr(&gt;F) &lt;dbl&gt; |\n",
       "|---|---|---|---|---|---|\n",
       "| cultivar | 3 | 4.3825 | 1.4608333 | 13.80315 | 0.00421805 |\n",
       "| bloco | 2 | 0.4650 | 0.2325000 |  2.19685 | 0.19237256 |\n",
       "| Residuals | 6 | 0.6350 | 0.1058333 |       NA |         NA |\n",
       "\n"
      ],
      "text/plain": [
       "          Df Sum Sq Mean Sq   F value  Pr(>F)    \n",
       "cultivar  3  4.3825 1.4608333 13.80315 0.00421805\n",
       "bloco     2  0.4650 0.2325000  2.19685 0.19237256\n",
       "Residuals 6  0.6350 0.1058333       NA         NA"
      ]
     },
     "metadata": {},
     "output_type": "display_data"
    }
   ],
   "source": [
    "# verificando que as SQ não são afetadas pela ordem dos fatores em dados balanceados\n",
    "anova(lm(prod ~ bloco + cultivar, data = batata))\n",
    "anova(lm(prod ~ cultivar + bloco, data = batata))"
   ]
  },
  {
   "cell_type": "markdown",
   "metadata": {},
   "source": [
    "*Um exemplo de blocos aumentados (de Federer)*"
   ]
  },
  {
   "cell_type": "code",
   "execution_count": 22,
   "metadata": {},
   "outputs": [
    {
     "name": "stdout",
     "output_type": "stream",
     "text": [
      "'data.frame':\t56 obs. of  3 variables:\n",
      " $ genotipo: Factor w/ 44 levels \"01\",\"02\",\"03\",..: 41 42 43 44 1 2 3 4 5 6 ...\n",
      " $ bloco   : Factor w/ 4 levels \"1\",\"2\",\"3\",\"4\": 1 1 1 1 1 1 1 1 1 1 ...\n",
      " $ resp    : num  20 22.7 16 22.3 30.7 ...\n"
     ]
    }
   ],
   "source": [
    "# dados caupi (40 acessos + 4 variedades), em 4 blocos\n",
    "caupi <- read.csv(\"https://raw.githubusercontent.com/arsilva87/statsbook/main/datasets/caupi.csv\", \n",
    "                  colClasses = c(\"factor\", \"factor\", \"numeric\"))\n",
    "str(caupi)"
   ]
  },
  {
   "cell_type": "code",
   "execution_count": 25,
   "metadata": {},
   "outputs": [
    {
     "name": "stdout",
     "output_type": "stream",
     "text": [
      "4 x 44 sparse Matrix of class \"dgCMatrix\"\n"
     ]
    },
    {
     "name": "stderr",
     "output_type": "stream",
     "text": [
      "   [[ suppressing 44 column names ‘01’, ‘02’, ‘03’ ... ]]\n",
      "\n"
     ]
    },
    {
     "name": "stdout",
     "output_type": "stream",
     "text": [
      "                                                                               \n",
      "1 1 1 1 1 1 1 1 1 1 1 . . . . . . . . . . . . . . . . . . . . . . . . . . . . .\n",
      "2 . . . . . . . . . . 1 1 1 1 1 1 1 1 1 1 . . . . . . . . . . . . . . . . . . .\n",
      "3 . . . . . . . . . . . . . . . . . . . . 1 1 1 1 1 1 1 1 1 1 . . . . . . . . .\n",
      "4 . . . . . . . . . . . . . . . . . . . . . . . . . . . . . . 1 1 1 1 1 1 1 1 1\n",
      "           \n",
      "1 . 1 1 1 1\n",
      "2 . 1 1 1 1\n",
      "3 . 1 1 1 1\n",
      "4 1 1 1 1 1\n"
     ]
    }
   ],
   "source": [
    "# verificando o desbalanceamento (blocos incompletos)\n",
    "xtabs( ~ bloco + genotipo, data = caupi, sparse = TRUE)"
   ]
  },
  {
   "cell_type": "code",
   "execution_count": 26,
   "metadata": {},
   "outputs": [
    {
     "data": {
      "text/html": [
       "<table class=\"dataframe\">\n",
       "<caption>A anova: 3 × 5</caption>\n",
       "<thead>\n",
       "\t<tr><th></th><th scope=col>Df</th><th scope=col>Sum Sq</th><th scope=col>Mean Sq</th><th scope=col>F value</th><th scope=col>Pr(&gt;F)</th></tr>\n",
       "\t<tr><th></th><th scope=col>&lt;int&gt;</th><th scope=col>&lt;dbl&gt;</th><th scope=col>&lt;dbl&gt;</th><th scope=col>&lt;dbl&gt;</th><th scope=col>&lt;dbl&gt;</th></tr>\n",
       "</thead>\n",
       "<tbody>\n",
       "\t<tr><th scope=row>bloco</th><td> 3</td><td> 148.29867</td><td>49.432890</td><td>11.95936</td><td>0.0017128868</td></tr>\n",
       "\t<tr><th scope=row>genotipo</th><td>43</td><td>2177.50122</td><td>50.639563</td><td>12.25129</td><td>0.0002080085</td></tr>\n",
       "\t<tr><th scope=row>Residuals</th><td> 9</td><td>  37.20066</td><td> 4.133406</td><td>      NA</td><td>          NA</td></tr>\n",
       "</tbody>\n",
       "</table>\n"
      ],
      "text/latex": [
       "A anova: 3 × 5\n",
       "\\begin{tabular}{r|lllll}\n",
       "  & Df & Sum Sq & Mean Sq & F value & Pr(>F)\\\\\n",
       "  & <int> & <dbl> & <dbl> & <dbl> & <dbl>\\\\\n",
       "\\hline\n",
       "\tbloco &  3 &  148.29867 & 49.432890 & 11.95936 & 0.0017128868\\\\\n",
       "\tgenotipo & 43 & 2177.50122 & 50.639563 & 12.25129 & 0.0002080085\\\\\n",
       "\tResiduals &  9 &   37.20066 &  4.133406 &       NA &           NA\\\\\n",
       "\\end{tabular}\n"
      ],
      "text/markdown": [
       "\n",
       "A anova: 3 × 5\n",
       "\n",
       "| <!--/--> | Df &lt;int&gt; | Sum Sq &lt;dbl&gt; | Mean Sq &lt;dbl&gt; | F value &lt;dbl&gt; | Pr(&gt;F) &lt;dbl&gt; |\n",
       "|---|---|---|---|---|---|\n",
       "| bloco |  3 |  148.29867 | 49.432890 | 11.95936 | 0.0017128868 |\n",
       "| genotipo | 43 | 2177.50122 | 50.639563 | 12.25129 | 0.0002080085 |\n",
       "| Residuals |  9 |   37.20066 |  4.133406 |       NA |           NA |\n",
       "\n"
      ],
      "text/plain": [
       "          Df Sum Sq     Mean Sq   F value  Pr(>F)      \n",
       "bloco      3  148.29867 49.432890 11.95936 0.0017128868\n",
       "genotipo  43 2177.50122 50.639563 12.25129 0.0002080085\n",
       "Residuals  9   37.20066  4.133406       NA           NA"
      ]
     },
     "metadata": {},
     "output_type": "display_data"
    },
    {
     "data": {
      "text/html": [
       "<table class=\"dataframe\">\n",
       "<caption>A anova: 3 × 5</caption>\n",
       "<thead>\n",
       "\t<tr><th></th><th scope=col>Df</th><th scope=col>Sum Sq</th><th scope=col>Mean Sq</th><th scope=col>F value</th><th scope=col>Pr(&gt;F)</th></tr>\n",
       "\t<tr><th></th><th scope=col>&lt;int&gt;</th><th scope=col>&lt;dbl&gt;</th><th scope=col>&lt;dbl&gt;</th><th scope=col>&lt;dbl&gt;</th><th scope=col>&lt;dbl&gt;</th></tr>\n",
       "</thead>\n",
       "<tbody>\n",
       "\t<tr><th scope=row>genotipo</th><td>43</td><td>2315.49337</td><td>53.848683</td><td>13.0276773</td><td>0.0001611241</td></tr>\n",
       "\t<tr><th scope=row>bloco</th><td> 3</td><td>  10.30652</td><td> 3.435506</td><td> 0.8311562</td><td>0.5095706061</td></tr>\n",
       "\t<tr><th scope=row>Residuals</th><td> 9</td><td>  37.20066</td><td> 4.133406</td><td>        NA</td><td>          NA</td></tr>\n",
       "</tbody>\n",
       "</table>\n"
      ],
      "text/latex": [
       "A anova: 3 × 5\n",
       "\\begin{tabular}{r|lllll}\n",
       "  & Df & Sum Sq & Mean Sq & F value & Pr(>F)\\\\\n",
       "  & <int> & <dbl> & <dbl> & <dbl> & <dbl>\\\\\n",
       "\\hline\n",
       "\tgenotipo & 43 & 2315.49337 & 53.848683 & 13.0276773 & 0.0001611241\\\\\n",
       "\tbloco &  3 &   10.30652 &  3.435506 &  0.8311562 & 0.5095706061\\\\\n",
       "\tResiduals &  9 &   37.20066 &  4.133406 &         NA &           NA\\\\\n",
       "\\end{tabular}\n"
      ],
      "text/markdown": [
       "\n",
       "A anova: 3 × 5\n",
       "\n",
       "| <!--/--> | Df &lt;int&gt; | Sum Sq &lt;dbl&gt; | Mean Sq &lt;dbl&gt; | F value &lt;dbl&gt; | Pr(&gt;F) &lt;dbl&gt; |\n",
       "|---|---|---|---|---|---|\n",
       "| genotipo | 43 | 2315.49337 | 53.848683 | 13.0276773 | 0.0001611241 |\n",
       "| bloco |  3 |   10.30652 |  3.435506 |  0.8311562 | 0.5095706061 |\n",
       "| Residuals |  9 |   37.20066 |  4.133406 |         NA |           NA |\n",
       "\n"
      ],
      "text/plain": [
       "          Df Sum Sq     Mean Sq   F value    Pr(>F)      \n",
       "genotipo  43 2315.49337 53.848683 13.0276773 0.0001611241\n",
       "bloco      3   10.30652  3.435506  0.8311562 0.5095706061\n",
       "Residuals  9   37.20066  4.133406         NA           NA"
      ]
     },
     "metadata": {},
     "output_type": "display_data"
    }
   ],
   "source": [
    "# ANOVAs com SQs tipo I (sequencial)\n",
    "mod1.caupi <- lm(resp ~ bloco + genotipo, data = caupi)   # modelo 1 (bloco primeiro)\n",
    "anova(mod1.caupi)\n",
    "mod2.caupi <- lm(resp ~ genotipo + bloco, data = caupi)   # modelo 2 (genotipo primeiro)\n",
    "anova(mod2.caupi)"
   ]
  },
  {
   "cell_type": "code",
   "execution_count": 30,
   "metadata": {},
   "outputs": [
    {
     "name": "stderr",
     "output_type": "stream",
     "text": [
      "Loading required package: carData\n",
      "\n"
     ]
    },
    {
     "data": {
      "text/html": [
       "<table class=\"dataframe\">\n",
       "<caption>A anova: 3 × 4</caption>\n",
       "<thead>\n",
       "\t<tr><th></th><th scope=col>Sum Sq</th><th scope=col>Df</th><th scope=col>F value</th><th scope=col>Pr(&gt;F)</th></tr>\n",
       "\t<tr><th></th><th scope=col>&lt;dbl&gt;</th><th scope=col>&lt;dbl&gt;</th><th scope=col>&lt;dbl&gt;</th><th scope=col>&lt;dbl&gt;</th></tr>\n",
       "</thead>\n",
       "<tbody>\n",
       "\t<tr><th scope=row>bloco</th><td>  10.30652</td><td> 3</td><td> 0.8311562</td><td>0.5095706061</td></tr>\n",
       "\t<tr><th scope=row>genotipo</th><td>2177.50122</td><td>43</td><td>12.2512911</td><td>0.0002080085</td></tr>\n",
       "\t<tr><th scope=row>Residuals</th><td>  37.20066</td><td> 9</td><td>        NA</td><td>          NA</td></tr>\n",
       "</tbody>\n",
       "</table>\n"
      ],
      "text/latex": [
       "A anova: 3 × 4\n",
       "\\begin{tabular}{r|llll}\n",
       "  & Sum Sq & Df & F value & Pr(>F)\\\\\n",
       "  & <dbl> & <dbl> & <dbl> & <dbl>\\\\\n",
       "\\hline\n",
       "\tbloco &   10.30652 &  3 &  0.8311562 & 0.5095706061\\\\\n",
       "\tgenotipo & 2177.50122 & 43 & 12.2512911 & 0.0002080085\\\\\n",
       "\tResiduals &   37.20066 &  9 &         NA &           NA\\\\\n",
       "\\end{tabular}\n"
      ],
      "text/markdown": [
       "\n",
       "A anova: 3 × 4\n",
       "\n",
       "| <!--/--> | Sum Sq &lt;dbl&gt; | Df &lt;dbl&gt; | F value &lt;dbl&gt; | Pr(&gt;F) &lt;dbl&gt; |\n",
       "|---|---|---|---|---|\n",
       "| bloco |   10.30652 |  3 |  0.8311562 | 0.5095706061 |\n",
       "| genotipo | 2177.50122 | 43 | 12.2512911 | 0.0002080085 |\n",
       "| Residuals |   37.20066 |  9 |         NA |           NA |\n",
       "\n"
      ],
      "text/plain": [
       "          Sum Sq     Df F value    Pr(>F)      \n",
       "bloco       10.30652  3  0.8311562 0.5095706061\n",
       "genotipo  2177.50122 43 12.2512911 0.0002080085\n",
       "Residuals   37.20066  9         NA           NA"
      ]
     },
     "metadata": {},
     "output_type": "display_data"
    }
   ],
   "source": [
    "# ANOVA com SQs tipo II (parcial)\n",
    "library(car)\n",
    "Anova(mod1.caupi, type = \"II\")"
   ]
  },
  {
   "cell_type": "markdown",
   "metadata": {},
   "source": [
    "*As médias ajustadas*"
   ]
  },
  {
   "cell_type": "code",
   "execution_count": 33,
   "metadata": {},
   "outputs": [
    {
     "data": {
      "text/plain": [
       " genotipo lsmean   SE df lower.CL upper.CL\n",
       " 01         31.4 2.22  9    26.39     36.4\n",
       " 02         17.4 2.22  9    12.34     22.4\n",
       " 03         21.0 2.22  9    15.97     26.0\n",
       " 04         47.3 2.22  9    42.32     52.3\n",
       " 05         18.9 2.22  9    13.85     23.9\n",
       " 06         18.4 2.22  9    13.37     23.4\n",
       " 07         18.2 2.22  9    13.20     23.2\n",
       " 08         16.9 2.22  9    11.89     21.9\n",
       " 09         21.9 2.22  9    16.85     26.9\n",
       " 10         16.6 2.22  9    11.54     21.6\n",
       " 11         16.5 2.22  9    11.51     21.5\n",
       " 12         44.6 2.22  9    39.60     49.6\n",
       " 13         18.0 2.22  9    12.99     23.0\n",
       " 14         15.0 2.22  9     9.95     20.0\n",
       " 15         15.4 2.22  9    10.36     20.4\n",
       " 16         17.4 2.22  9    12.40     22.4\n",
       " 17         15.2 2.22  9    10.17     20.2\n",
       " 18         23.4 2.22  9    18.42     28.4\n",
       " 19         14.1 2.22  9     9.06     19.1\n",
       " 20         18.1 2.22  9    13.05     23.1\n",
       " 21         18.9 2.22  9    13.85     23.9\n",
       " 22         18.5 2.22  9    13.51     23.5\n",
       " 23         16.0 2.22  9    11.00     21.0\n",
       " 24         36.9 2.22  9    31.89     41.9\n",
       " 25         14.2 2.22  9     9.15     19.2\n",
       " 26         20.3 2.22  9    15.29     25.3\n",
       " 27         24.0 2.22  9    18.94     29.0\n",
       " 28         22.0 2.22  9    16.96     27.0\n",
       " 29         19.5 2.22  9    14.51     24.5\n",
       " 30         16.3 2.22  9    11.29     21.3\n",
       " 31         23.4 2.22  9    18.35     28.4\n",
       " 32         11.7 2.22  9     6.73     16.7\n",
       " 33         16.8 2.22  9    11.75     21.8\n",
       " 34         11.5 2.22  9     6.53     16.5\n",
       " 35         19.0 2.22  9    14.04     24.1\n",
       " 36         18.7 2.22  9    13.65     23.7\n",
       " 37         16.9 2.22  9    11.89     21.9\n",
       " 38         24.2 2.22  9    19.17     29.2\n",
       " 39         15.3 2.22  9    10.29     20.3\n",
       " 40         17.5 2.22  9    12.53     22.5\n",
       " W          19.9 1.02  9    17.62     22.2\n",
       " X          22.0 1.02  9    19.74     24.3\n",
       " Y          20.2 1.02  9    17.88     22.5\n",
       " Z          21.9 1.02  9    19.58     24.2\n",
       "\n",
       "Results are averaged over the levels of: bloco \n",
       "Confidence level used: 0.95 "
      ]
     },
     "metadata": {},
     "output_type": "display_data"
    }
   ],
   "source": [
    "library(emmeans)\n",
    "lsmeans(mod1.caupi, specs = \"genotipo\")"
   ]
  },
  {
   "cell_type": "code",
   "execution_count": 34,
   "metadata": {},
   "outputs": [
    {
     "data": {
      "text/plain": [
       " contrast estimate   SE df t.ratio p.value\n",
       " 40 - Z     -4.338 2.44  9 -1.780  0.5887 \n",
       " W - X      -2.127 1.44  9 -1.480  0.7501 \n",
       " W - Y      -0.260 1.44  9 -0.181  1.0000 \n",
       " W - Z      -1.960 1.44  9 -1.363  0.8077 \n",
       " X - Y       1.867 1.44  9  1.299  0.8371 \n",
       " X - Z       0.168 1.44  9  0.117  1.0000 \n",
       " Y - Z      -1.700 1.44  9 -1.183  0.8846 \n",
       "\n",
       "Results are averaged over the levels of: bloco \n",
       "P value adjustment: tukey method for comparing a family of 7 estimates "
      ]
     },
     "metadata": {},
     "output_type": "display_data"
    }
   ],
   "source": [
    "# comparações de médias aos pares\n",
    "pairs(lsmeans(mod1.caupi, specs = \"genotipo\"))[940:946]   # mostrando apenas as 7 últimas comparações"
   ]
  },
  {
   "cell_type": "code",
   "execution_count": null,
   "metadata": {},
   "outputs": [],
   "source": []
  }
 ],
 "metadata": {
  "kernelspec": {
   "display_name": "R",
   "language": "R",
   "name": "ir"
  },
  "language_info": {
   "codemirror_mode": "r",
   "file_extension": ".r",
   "mimetype": "text/x-r-source",
   "name": "R",
   "pygments_lexer": "r",
   "version": "3.6.3"
  }
 },
 "nbformat": 4,
 "nbformat_minor": 4
}
