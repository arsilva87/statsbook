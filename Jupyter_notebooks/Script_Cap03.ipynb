{
 "cells": [
  {
   "cell_type": "markdown",
   "metadata": {},
   "source": [
    "<img align=\"right\" src = \"https://raw.githubusercontent.com/arsilva87/statsbook/main/figs/figura_thumbnail.png\" width=\"25%\" height=\"25%\">\n",
    "\n",
    "Códigos em R do livro: **Estatística Decodificada** (Silva, A.R. 2021) \n",
    "\n",
    "Capítulo 3: **Distribuições de probabilidade**\n",
    "___"
   ]
  },
  {
   "cell_type": "markdown",
   "metadata": {},
   "source": [
    "**Modelos discretos**"
   ]
  },
  {
   "cell_type": "code",
   "execution_count": 1,
   "metadata": {},
   "outputs": [
    {
     "data": {
      "text/html": [
       "<style>\n",
       ".list-inline {list-style: none; margin:0; padding: 0}\n",
       ".list-inline>li {display: inline-block}\n",
       ".list-inline>li:not(:last-child)::after {content: \"\\00b7\"; padding: 0 .5ex}\n",
       "</style>\n",
       "<ol class=list-inline><li>1</li><li>0</li><li>0</li><li>1</li><li>1</li><li>0</li><li>1</li><li>1</li><li>1</li><li>1</li></ol>\n"
      ],
      "text/latex": [
       "\\begin{enumerate*}\n",
       "\\item 1\n",
       "\\item 0\n",
       "\\item 0\n",
       "\\item 1\n",
       "\\item 1\n",
       "\\item 0\n",
       "\\item 1\n",
       "\\item 1\n",
       "\\item 1\n",
       "\\item 1\n",
       "\\end{enumerate*}\n"
      ],
      "text/markdown": [
       "1. 1\n",
       "2. 0\n",
       "3. 0\n",
       "4. 1\n",
       "5. 1\n",
       "6. 0\n",
       "7. 1\n",
       "8. 1\n",
       "9. 1\n",
       "10. 1\n",
       "\n",
       "\n"
      ],
      "text/plain": [
       " [1] 1 0 0 1 1 0 1 1 1 1"
      ]
     },
     "metadata": {},
     "output_type": "display_data"
    }
   ],
   "source": [
    "# simulação de 10 valores Bernoulli com p = 0.7\n",
    "rbinom(n = 10, size = 1, prob = 0.7)"
   ]
  },
  {
   "cell_type": "code",
   "execution_count": 3,
   "metadata": {},
   "outputs": [
    {
     "data": {
      "text/html": [
       "0.324135"
      ],
      "text/latex": [
       "0.324135"
      ],
      "text/markdown": [
       "0.324135"
      ],
      "text/plain": [
       "[1] 0.324135"
      ]
     },
     "metadata": {},
     "output_type": "display_data"
    },
    {
     "data": {
      "text/html": [
       "0.579825"
      ],
      "text/latex": [
       "0.579825"
      ],
      "text/markdown": [
       "0.579825"
      ],
      "text/plain": [
       "[1] 0.579825"
      ]
     },
     "metadata": {},
     "output_type": "display_data"
    },
    {
     "data": {
      "text/html": [
       "3"
      ],
      "text/latex": [
       "3"
      ],
      "text/markdown": [
       "3"
      ],
      "text/plain": [
       "[1] 3"
      ]
     },
     "metadata": {},
     "output_type": "display_data"
    },
    {
     "data": {
      "text/html": [
       "<style>\n",
       ".list-inline {list-style: none; margin:0; padding: 0}\n",
       ".list-inline>li {display: inline-block}\n",
       ".list-inline>li:not(:last-child)::after {content: \"\\00b7\"; padding: 0 .5ex}\n",
       "</style>\n",
       "<ol class=list-inline><li>4</li><li>5</li><li>4</li><li>3</li><li>4</li><li>5</li><li>5</li><li>4</li><li>4</li><li>3</li></ol>\n"
      ],
      "text/latex": [
       "\\begin{enumerate*}\n",
       "\\item 4\n",
       "\\item 5\n",
       "\\item 4\n",
       "\\item 3\n",
       "\\item 4\n",
       "\\item 5\n",
       "\\item 5\n",
       "\\item 4\n",
       "\\item 4\n",
       "\\item 3\n",
       "\\end{enumerate*}\n"
      ],
      "text/markdown": [
       "1. 4\n",
       "2. 5\n",
       "3. 4\n",
       "4. 3\n",
       "5. 4\n",
       "6. 5\n",
       "7. 5\n",
       "8. 4\n",
       "9. 4\n",
       "10. 3\n",
       "\n",
       "\n"
      ],
      "text/plain": [
       " [1] 4 5 4 3 4 5 5 4 4 3"
      ]
     },
     "metadata": {},
     "output_type": "display_data"
    }
   ],
   "source": [
    "# Binomial(N = 6, p = 0.7)\n",
    "dbinom(x = 4, size = 6, prob = 0.7)    # P(X = 4)\n",
    "pbinom(q = 4, size = 6, prob = 0.7)    # P(X ≤ 4)\n",
    "qbinom(p = 0.1, size = 6, prob = 0.7)  # Quantil 0.1 = percentil 10\n",
    "rbinom(n = 10, size = 6, prob = 0.7)   # simulando 10 valores aleatórios "
   ]
  },
  {
   "cell_type": "code",
   "execution_count": 4,
   "metadata": {},
   "outputs": [
    {
     "data": {
      "text/html": [
       "<table class=\"dataframe\">\n",
       "<caption>A matrix: 3 × 10 of type int</caption>\n",
       "<tbody>\n",
       "\t<tr><td>1</td><td>1</td><td>1</td><td>1</td><td>0</td><td>0</td><td>0</td><td>2</td><td>0</td><td>0</td></tr>\n",
       "\t<tr><td>0</td><td>0</td><td>2</td><td>2</td><td>4</td><td>2</td><td>4</td><td>3</td><td>3</td><td>2</td></tr>\n",
       "\t<tr><td>5</td><td>5</td><td>3</td><td>3</td><td>2</td><td>4</td><td>2</td><td>1</td><td>3</td><td>4</td></tr>\n",
       "</tbody>\n",
       "</table>\n"
      ],
      "text/latex": [
       "A matrix: 3 × 10 of type int\n",
       "\\begin{tabular}{llllllllll}\n",
       "\t 1 & 1 & 1 & 1 & 0 & 0 & 0 & 2 & 0 & 0\\\\\n",
       "\t 0 & 0 & 2 & 2 & 4 & 2 & 4 & 3 & 3 & 2\\\\\n",
       "\t 5 & 5 & 3 & 3 & 2 & 4 & 2 & 1 & 3 & 4\\\\\n",
       "\\end{tabular}\n"
      ],
      "text/markdown": [
       "\n",
       "A matrix: 3 × 10 of type int\n",
       "\n",
       "| 1 | 1 | 1 | 1 | 0 | 0 | 0 | 2 | 0 | 0 |\n",
       "| 0 | 0 | 2 | 2 | 4 | 2 | 4 | 3 | 3 | 2 |\n",
       "| 5 | 5 | 3 | 3 | 2 | 4 | 2 | 1 | 3 | 4 |\n",
       "\n"
      ],
      "text/plain": [
       "     [,1] [,2] [,3] [,4] [,5] [,6] [,7] [,8] [,9] [,10]\n",
       "[1,] 1    1    1    1    0    0    0    2    0    0    \n",
       "[2,] 0    0    2    2    4    2    4    3    3    2    \n",
       "[3,] 5    5    3    3    2    4    2    1    3    4    "
      ]
     },
     "metadata": {},
     "output_type": "display_data"
    },
    {
     "data": {
      "text/html": [
       "0.1776536009608"
      ],
      "text/latex": [
       "0.1776536009608"
      ],
      "text/markdown": [
       "0.1776536009608"
      ],
      "text/plain": [
       "[1] 0.1776536"
      ]
     },
     "metadata": {},
     "output_type": "display_data"
    }
   ],
   "source": [
    "# Multinomial com p1 = 0.1, p2 = 0.5, p3 = 0.7 e N = 6 ensaios\n",
    "rmultinom(n = 10, size = 6, prob = c(0.1, 0.5, 0.7))        # simulando 10 vetores aleatórios\n",
    "dmultinom(x =c(0, 3, 3), size =6, prob = c(0.1, 0.5, 0.7))  # P(X1 = 0, X2 = 3, X3 = 3)         "
   ]
  },
  {
   "cell_type": "code",
   "execution_count": 5,
   "metadata": {},
   "outputs": [
    {
     "data": {
      "text/html": [
       "<style>\n",
       ".list-inline {list-style: none; margin:0; padding: 0}\n",
       ".list-inline>li {display: inline-block}\n",
       ".list-inline>li:not(:last-child)::after {content: \"\\00b7\"; padding: 0 .5ex}\n",
       "</style>\n",
       "<ol class=list-inline><li>4</li><li>3</li><li>3</li><li>4</li><li>4</li><li>4</li><li>4</li><li>4</li><li>5</li><li>5</li></ol>\n"
      ],
      "text/latex": [
       "\\begin{enumerate*}\n",
       "\\item 4\n",
       "\\item 3\n",
       "\\item 3\n",
       "\\item 4\n",
       "\\item 4\n",
       "\\item 4\n",
       "\\item 4\n",
       "\\item 4\n",
       "\\item 5\n",
       "\\item 5\n",
       "\\end{enumerate*}\n"
      ],
      "text/markdown": [
       "1. 4\n",
       "2. 3\n",
       "3. 3\n",
       "4. 4\n",
       "5. 4\n",
       "6. 4\n",
       "7. 4\n",
       "8. 4\n",
       "9. 5\n",
       "10. 5\n",
       "\n",
       "\n"
      ],
      "text/plain": [
       " [1] 4 3 3 4 4 4 4 4 5 5"
      ]
     },
     "metadata": {},
     "output_type": "display_data"
    },
    {
     "data": {
      "text/html": [
       "0.146525111109873"
      ],
      "text/latex": [
       "0.146525111109873"
      ],
      "text/markdown": [
       "0.146525111109873"
      ],
      "text/plain": [
       "[1] 0.1465251"
      ]
     },
     "metadata": {},
     "output_type": "display_data"
    },
    {
     "data": {
      "text/html": [
       "0.908421805556329"
      ],
      "text/latex": [
       "0.908421805556329"
      ],
      "text/markdown": [
       "0.908421805556329"
      ],
      "text/plain": [
       "[1] 0.9084218"
      ]
     },
     "metadata": {},
     "output_type": "display_data"
    }
   ],
   "source": [
    "# Poisson(lambda = 4)\n",
    "rpois(n = 10, lambda = 4)                     # simulando 10 valores aleatórios\n",
    "dpois(x = 2, lambda = 4)                      # P(X = 2)\n",
    "ppois(q = 1, lambda = 4, lower.tail = FALSE)  # P(X > 1"
   ]
  },
  {
   "cell_type": "code",
   "execution_count": 6,
   "metadata": {},
   "outputs": [
    {
     "data": {
      "text/html": [
       "0.0214311052881262"
      ],
      "text/latex": [
       "0.0214311052881262"
      ],
      "text/markdown": [
       "0.0214311052881262"
      ],
      "text/plain": [
       "[1] 0.02143111"
      ]
     },
     "metadata": {},
     "output_type": "display_data"
    }
   ],
   "source": [
    "# P(X = 50) da Binomial negativa (theta = 10, p = 0.15)\n",
    "dnbinom(x = 50, size = 10, prob = 0.15)  "
   ]
  },
  {
   "cell_type": "markdown",
   "metadata": {},
   "source": [
    "___\n",
    "**Modelos contínuos**"
   ]
  },
  {
   "cell_type": "code",
   "execution_count": 7,
   "metadata": {},
   "outputs": [
    {
     "data": {
      "text/html": [
       "<style>\n",
       ".list-inline {list-style: none; margin:0; padding: 0}\n",
       ".list-inline>li {display: inline-block}\n",
       ".list-inline>li:not(:last-child)::after {content: \"\\00b7\"; padding: 0 .5ex}\n",
       "</style>\n",
       "<ol class=list-inline><li>0.333333333333333</li><li>0.333333333333333</li><li>0.333333333333333</li></ol>\n"
      ],
      "text/latex": [
       "\\begin{enumerate*}\n",
       "\\item 0.333333333333333\n",
       "\\item 0.333333333333333\n",
       "\\item 0.333333333333333\n",
       "\\end{enumerate*}\n"
      ],
      "text/markdown": [
       "1. 0.333333333333333\n",
       "2. 0.333333333333333\n",
       "3. 0.333333333333333\n",
       "\n",
       "\n"
      ],
      "text/plain": [
       "[1] 0.3333333 0.3333333 0.3333333"
      ]
     },
     "metadata": {},
     "output_type": "display_data"
    },
    {
     "data": {
      "text/html": [
       "1.5"
      ],
      "text/latex": [
       "1.5"
      ],
      "text/markdown": [
       "1.5"
      ],
      "text/plain": [
       "[1] 1.5"
      ]
     },
     "metadata": {},
     "output_type": "display_data"
    }
   ],
   "source": [
    "# Uniforme(a = 0, b = 3)\n",
    "dunif(x = c(0.5, 1, 1.5), min = 0, max = 3)  # densidades f(x)\n",
    "qunif(p = 0.5, min = 0, max = 3)             # mediana"
   ]
  },
  {
   "cell_type": "code",
   "execution_count": 10,
   "metadata": {},
   "outputs": [
    {
     "data": {
      "text/html": [
       "0.167834699001666"
      ],
      "text/latex": [
       "0.167834699001666"
      ],
      "text/markdown": [
       "0.167834699001666"
      ],
      "text/plain": [
       "[1] 0.1678347"
      ]
     },
     "metadata": {},
     "output_type": "display_data"
    },
    {
     "data": {
      "image/png": "[encoded data removed]",
      "text/plain": [
       "plot without title"
      ]
     },
     "metadata": {
      "image/png": {
       "height": 420,
       "width": 420
      },
      "text/plain": {
       "height": 420,
       "width": 420
      }
     },
     "output_type": "display_data"
    }
   ],
   "source": [
    "# Gama (alpha = 2, beta = 0.1)\n",
    "curve(dgamma(x, shape = 2, scale = 0.1))  # gráfico de densidade de probabilidade\n",
    "qgamma(p = 0.5, shape = 2, scale = 0.1)   # mediana"
   ]
  },
  {
   "cell_type": "code",
   "execution_count": 11,
   "metadata": {},
   "outputs": [
    {
     "data": {
      "text/html": [
       "0.0693147180559945"
      ],
      "text/latex": [
       "0.0693147180559945"
      ],
      "text/markdown": [
       "0.0693147180559945"
      ],
      "text/plain": [
       "[1] 0.06931472"
      ]
     },
     "metadata": {},
     "output_type": "display_data"
    },
    {
     "data": {
      "image/png": "[encoded data removed]",
      "text/plain": [
       "plot without title"
      ]
     },
     "metadata": {
      "image/png": {
       "height": 420,
       "width": 420
      },
      "text/plain": {
       "height": 420,
       "width": 420
      }
     },
     "output_type": "display_data"
    }
   ],
   "source": [
    "# Exponencial(beta = 0.1)\n",
    "curve(dexp(x, rate = 10))  # gráfico de densidade de probabilidaed\n",
    "qexp(p = 0.5, rate = 10)   # mediana"
   ]
  },
  {
   "cell_type": "code",
   "execution_count": 12,
   "metadata": {},
   "outputs": [
    {
     "data": {
      "text/html": [
       "<style>\n",
       ".list-inline {list-style: none; margin:0; padding: 0}\n",
       ".list-inline>li {display: inline-block}\n",
       ".list-inline>li:not(:last-child)::after {content: \"\\00b7\"; padding: 0 .5ex}\n",
       "</style>\n",
       "<ol class=list-inline><li>6.71029274609706</li><li>13.2897072539029</li></ol>\n"
      ],
      "text/latex": [
       "\\begin{enumerate*}\n",
       "\\item 6.71029274609706\n",
       "\\item 13.2897072539029\n",
       "\\end{enumerate*}\n"
      ],
      "text/markdown": [
       "1. 6.71029274609706\n",
       "2. 13.2897072539029\n",
       "\n",
       "\n"
      ],
      "text/plain": [
       "[1]  6.710293 13.289707"
      ]
     },
     "metadata": {},
     "output_type": "display_data"
    },
    {
     "data": {
      "text/html": [
       "<style>\n",
       ".list-inline {list-style: none; margin:0; padding: 0}\n",
       ".list-inline>li {display: inline-block}\n",
       ".list-inline>li:not(:last-child)::after {content: \"\\00b7\"; padding: 0 .5ex}\n",
       "</style>\n",
       "<ol class=list-inline><li>9.62105659993824</li><li>11.0877000352417</li><li>12.6051327937871</li><li>11.7866122380055</li><li>11.2439401458955</li><li>11.500995169837</li><li>7.45621449214027</li><li>12.2996391826062</li><li>8.27210643331859</li><li>9.46827447059972</li></ol>\n"
      ],
      "text/latex": [
       "\\begin{enumerate*}\n",
       "\\item 9.62105659993824\n",
       "\\item 11.0877000352417\n",
       "\\item 12.6051327937871\n",
       "\\item 11.7866122380055\n",
       "\\item 11.2439401458955\n",
       "\\item 11.500995169837\n",
       "\\item 7.45621449214027\n",
       "\\item 12.2996391826062\n",
       "\\item 8.27210643331859\n",
       "\\item 9.46827447059972\n",
       "\\end{enumerate*}\n"
      ],
      "text/markdown": [
       "1. 9.62105659993824\n",
       "2. 11.0877000352417\n",
       "3. 12.6051327937871\n",
       "4. 11.7866122380055\n",
       "5. 11.2439401458955\n",
       "6. 11.500995169837\n",
       "7. 7.45621449214027\n",
       "8. 12.2996391826062\n",
       "9. 8.27210643331859\n",
       "10. 9.46827447059972\n",
       "\n",
       "\n"
      ],
      "text/plain": [
       " [1]  9.621057 11.087700 12.605133 11.786612 11.243940 11.500995  7.456214\n",
       " [8] 12.299639  8.272106  9.468274"
      ]
     },
     "metadata": {},
     "output_type": "display_data"
    },
    {
     "data": {
      "image/png": "[encoded data removed]",
      "text/plain": [
       "plot without title"
      ]
     },
     "metadata": {
      "image/png": {
       "height": 420,
       "width": 420
      },
      "text/plain": {
       "height": 420,
       "width": 420
      }
     },
     "output_type": "display_data"
    }
   ],
   "source": [
    "# Normal(mu = 10, sigma = 2)\n",
    "qnorm(p = c(0.05,  0.95) , mean = 10, sd = 2)           # quantis 0.05 e 0.95\n",
    "rnorm(n = 10, mean = 10, sd = 2)                        # 10 valores aleatórios\n",
    "curve(dnorm(x, mean = 10, sd = 2), from = 0, to = 20)   # gráfico de densidade de probabilidade"
   ]
  },
  {
   "cell_type": "code",
   "execution_count": 14,
   "metadata": {},
   "outputs": [
    {
     "data": {
      "text/html": [
       "7.38905609893065"
      ],
      "text/latex": [
       "7.38905609893065"
      ],
      "text/markdown": [
       "7.38905609893065"
      ],
      "text/plain": [
       "[1] 7.389056"
      ]
     },
     "metadata": {},
     "output_type": "display_data"
    },
    {
     "data": {
      "image/png": "[encoded data removed]",
      "text/plain": [
       "plot without title"
      ]
     },
     "metadata": {
      "image/png": {
       "height": 420,
       "width": 420
      },
      "text/plain": {
       "height": 420,
       "width": 420
      }
     },
     "output_type": "display_data"
    }
   ],
   "source": [
    "# Lognormal(mu = 2, sigma = 1)\n",
    "qlnorm(p = 0.5,  meanlog = 2, sdlog = 1)                                    # mediana\n",
    "curve(dlnorm(x, meanlog = 2, sdlog = 1), from = 0, to = 50, ylab = \"f(x)\")  # gráfico de densidade de probabilidade\n",
    "abline(v = c(exp(2 + 1/2), exp(2)), lty = 2, col = \"gray\")                  # linhas verticais no gráfico"
   ]
  },
  {
   "cell_type": "code",
   "execution_count": 15,
   "metadata": {},
   "outputs": [
    {
     "name": "stderr",
     "output_type": "stream",
     "text": [
      "Installing package into ‘/srv/rlibs’\n",
      "(as ‘lib’ is unspecified)\n",
      "\n"
     ]
    }
   ],
   "source": [
    "# Instalar pacote mvtnorm para implementações da Normal multivariada\n",
    "install.packages('mvtnorm')"
   ]
  },
  {
   "cell_type": "code",
   "execution_count": 16,
   "metadata": {},
   "outputs": [
    {
     "data": {
      "text/html": [
       "<table class=\"dataframe\">\n",
       "<caption>A matrix: 2 × 2 of type dbl</caption>\n",
       "<tbody>\n",
       "\t<tr><td>2.0</td><td>1.4</td></tr>\n",
       "\t<tr><td>1.4</td><td>3.5</td></tr>\n",
       "</tbody>\n",
       "</table>\n"
      ],
      "text/latex": [
       "A matrix: 2 × 2 of type dbl\n",
       "\\begin{tabular}{ll}\n",
       "\t 2.0 & 1.4\\\\\n",
       "\t 1.4 & 3.5\\\\\n",
       "\\end{tabular}\n"
      ],
      "text/markdown": [
       "\n",
       "A matrix: 2 × 2 of type dbl\n",
       "\n",
       "| 2.0 | 1.4 |\n",
       "| 1.4 | 3.5 |\n",
       "\n"
      ],
      "text/plain": [
       "     [,1] [,2]\n",
       "[1,] 2.0  1.4 \n",
       "[2,] 1.4  3.5 "
      ]
     },
     "metadata": {},
     "output_type": "display_data"
    },
    {
     "data": {
      "text/html": [
       "<table class=\"dataframe\">\n",
       "<caption>A matrix: 2 × 2 of type dbl</caption>\n",
       "<tbody>\n",
       "\t<tr><td>1.0000000</td><td>0.5291503</td></tr>\n",
       "\t<tr><td>0.5291503</td><td>1.0000000</td></tr>\n",
       "</tbody>\n",
       "</table>\n"
      ],
      "text/latex": [
       "A matrix: 2 × 2 of type dbl\n",
       "\\begin{tabular}{ll}\n",
       "\t 1.0000000 & 0.5291503\\\\\n",
       "\t 0.5291503 & 1.0000000\\\\\n",
       "\\end{tabular}\n"
      ],
      "text/markdown": [
       "\n",
       "A matrix: 2 × 2 of type dbl\n",
       "\n",
       "| 1.0000000 | 0.5291503 |\n",
       "| 0.5291503 | 1.0000000 |\n",
       "\n"
      ],
      "text/plain": [
       "     [,1]      [,2]     \n",
       "[1,] 1.0000000 0.5291503\n",
       "[2,] 0.5291503 1.0000000"
      ]
     },
     "metadata": {},
     "output_type": "display_data"
    },
    {
     "data": {
      "text/html": [
       "<table class=\"dataframe\">\n",
       "<caption>A matrix: 10 × 2 of type dbl</caption>\n",
       "<tbody>\n",
       "\t<tr><td> 8.044280</td><td>9.099869</td></tr>\n",
       "\t<tr><td> 8.481495</td><td>6.671424</td></tr>\n",
       "\t<tr><td> 6.564592</td><td>5.260182</td></tr>\n",
       "\t<tr><td>10.321595</td><td>7.844032</td></tr>\n",
       "\t<tr><td> 8.432498</td><td>6.367260</td></tr>\n",
       "\t<tr><td> 8.339759</td><td>9.354149</td></tr>\n",
       "\t<tr><td> 6.174451</td><td>4.951955</td></tr>\n",
       "\t<tr><td> 8.963018</td><td>9.933710</td></tr>\n",
       "\t<tr><td> 9.725170</td><td>8.590729</td></tr>\n",
       "\t<tr><td> 9.232686</td><td>9.536703</td></tr>\n",
       "</tbody>\n",
       "</table>\n"
      ],
      "text/latex": [
       "A matrix: 10 × 2 of type dbl\n",
       "\\begin{tabular}{ll}\n",
       "\t  8.044280 & 9.099869\\\\\n",
       "\t  8.481495 & 6.671424\\\\\n",
       "\t  6.564592 & 5.260182\\\\\n",
       "\t 10.321595 & 7.844032\\\\\n",
       "\t  8.432498 & 6.367260\\\\\n",
       "\t  8.339759 & 9.354149\\\\\n",
       "\t  6.174451 & 4.951955\\\\\n",
       "\t  8.963018 & 9.933710\\\\\n",
       "\t  9.725170 & 8.590729\\\\\n",
       "\t  9.232686 & 9.536703\\\\\n",
       "\\end{tabular}\n"
      ],
      "text/markdown": [
       "\n",
       "A matrix: 10 × 2 of type dbl\n",
       "\n",
       "|  8.044280 | 9.099869 |\n",
       "|  8.481495 | 6.671424 |\n",
       "|  6.564592 | 5.260182 |\n",
       "| 10.321595 | 7.844032 |\n",
       "|  8.432498 | 6.367260 |\n",
       "|  8.339759 | 9.354149 |\n",
       "|  6.174451 | 4.951955 |\n",
       "|  8.963018 | 9.933710 |\n",
       "|  9.725170 | 8.590729 |\n",
       "|  9.232686 | 9.536703 |\n",
       "\n"
      ],
      "text/plain": [
       "      [,1]      [,2]    \n",
       " [1,]  8.044280 9.099869\n",
       " [2,]  8.481495 6.671424\n",
       " [3,]  6.564592 5.260182\n",
       " [4,] 10.321595 7.844032\n",
       " [5,]  8.432498 6.367260\n",
       " [6,]  8.339759 9.354149\n",
       " [7,]  6.174451 4.951955\n",
       " [8,]  8.963018 9.933710\n",
       " [9,]  9.725170 8.590729\n",
       "[10,]  9.232686 9.536703"
      ]
     },
     "metadata": {},
     "output_type": "display_data"
    }
   ],
   "source": [
    "# Simulando 10 vetores da normal multivariada\n",
    "library(mvtnorm)                                 # carregar pacote\n",
    "M <- c(9, 8.5)                                   # vetor de médias\n",
    "S <- matrix(c(2, 1.4, 1.4, 3.5), nrow = 2)       # matriz de covariâncias\n",
    "S\n",
    "cov2cor(S)                                       # matriz de correlação\n",
    "X <- rmvnorm(n = 10, mean = M, sigma = S)        # dados simulados\n",
    "X"
   ]
  },
  {
   "cell_type": "markdown",
   "metadata": {},
   "source": [
    "____\n",
    "**Distribuição empírica**"
   ]
  },
  {
   "cell_type": "code",
   "execution_count": 19,
   "metadata": {},
   "outputs": [],
   "source": [
    "# Dados de exemplo\n",
    "x <- c(2.50, 1.07, 1.43, 0.95, 1.44, 2.81, 2.45, 1.13, 1.36, 1.30, \n",
    "       3.99, 1.85, 1.55, 1.40, 0.75, 0.73, 1.12, 1.50, 1.01, 1.48)"
   ]
  },
  {
   "cell_type": "code",
   "execution_count": 23,
   "metadata": {},
   "outputs": [
    {
     "data": {
      "text/html": [
       "0.95"
      ],
      "text/latex": [
       "0.95"
      ],
      "text/markdown": [
       "0.95"
      ],
      "text/plain": [
       "[1] 0.95"
      ]
     },
     "metadata": {},
     "output_type": "display_data"
    },
    {
     "data": {
      "text/html": [
       "0.970747311923039"
      ],
      "text/latex": [
       "0.970747311923039"
      ],
      "text/markdown": [
       "0.970747311923039"
      ],
      "text/plain": [
       "[1] 0.9707473"
      ]
     },
     "metadata": {},
     "output_type": "display_data"
    },
    {
     "data": {
      "image/png": "[encoded data removed]",
      "text/plain": [
       "Plot with title “ecdf(x)”"
      ]
     },
     "metadata": {
      "image/png": {
       "height": 420,
       "width": 420
      },
      "text/plain": {
       "height": 420,
       "width": 420
      }
     },
     "output_type": "display_data"
    }
   ],
   "source": [
    "# Função de distribuição empírica acumulada Fn\n",
    "Fn <- ecdf(x)                              \n",
    "Fn(3)                                      # P(X <= 3)\n",
    "plot(Fn)                                   # gráfico de Fn\n",
    "pgamma(q = 3, shape = 5, scale = 0.3)      # P(X <= 3) pela Gama(alfa = 5, beta = 0.3)\n",
    "curve(pgamma(x, shape = 5, scale = 0.3), add = TRUE, col = \"blue\", lty = 2)  # Gama(alfa = 5, beta = 0.3)"
   ]
  },
  {
   "cell_type": "code",
   "execution_count": 24,
   "metadata": {},
   "outputs": [
    {
     "data": {
      "text/html": [
       "0.0688323540325735"
      ],
      "text/latex": [
       "0.0688323540325735"
      ],
      "text/markdown": [
       "0.0688323540325735"
      ],
      "text/plain": [
       "[1] 0.06883235"
      ]
     },
     "metadata": {},
     "output_type": "display_data"
    },
    {
     "data": {
      "text/html": [
       "0.0630554580034512"
      ],
      "text/latex": [
       "0.0630554580034512"
      ],
      "text/markdown": [
       "0.0630554580034512"
      ],
      "text/plain": [
       "[1] 0.06305546"
      ]
     },
     "metadata": {},
     "output_type": "display_data"
    },
    {
     "data": {
      "image/png": "[encoded data removed]",
      "text/plain": [
       "plot without title"
      ]
     },
     "metadata": {
      "image/png": {
       "height": 420,
       "width": 420
      },
      "text/plain": {
       "height": 420,
       "width": 420
      }
     },
     "output_type": "display_data"
    }
   ],
   "source": [
    "# Densidade kernel de x\n",
    "d <- density(x)                                                               # densidade  kernel  de x\n",
    "fn <- approxfun(d$x, d$y)                                                     # interpolacao no intervalo de x\n",
    "plot(fn, xlim = c(0, 5))                                                      # gráfico de fn\n",
    "curve(dgamma(x, shape = 5, scale = 0.3), add = TRUE , col= \"blue\", lty = 2)   # curva da Gama(alfa = 5, beta = 0.3)\n",
    "fn(3)                                                                         # fn(X = 3)\n",
    "dgamma(x = 3, shape = 5, scale = 0.3)                                         # f(X = 3) pela Gama"
   ]
  },
  {
   "cell_type": "code",
   "execution_count": null,
   "metadata": {},
   "outputs": [],
   "source": []
  }
 ],
 "metadata": {
  "kernelspec": {
   "display_name": "R",
   "language": "R",
   "name": "ir"
  },
  "language_info": {
   "codemirror_mode": "r",
   "file_extension": ".r",
   "mimetype": "text/x-r-source",
   "name": "R",
   "pygments_lexer": "r",
   "version": "3.6.3"
  }
 },
 "nbformat": 4,
 "nbformat_minor": 4
}
