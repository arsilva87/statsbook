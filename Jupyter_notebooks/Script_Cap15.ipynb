{
 "cells": [
  {
   "cell_type": "markdown",
   "metadata": {},
   "source": [
    "<img align=\"right\" src = \"https://raw.githubusercontent.com/arsilva87/statsbook/main/figs/figura_thumbnail.png\" width=\"25%\" height=\"25%\">\n",
    "\n",
    "Códigos em R do livro: **Estatística Decodificada** (Silva, A.R. 2021) \n",
    "\n",
    "Capítulo 15: **Comparações múltiplas de médias**\n",
    "____"
   ]
  },
  {
   "cell_type": "markdown",
   "metadata": {},
   "source": [
    "**Teste t para contrastes**"
   ]
  },
  {
   "cell_type": "code",
   "execution_count": 4,
   "metadata": {},
   "outputs": [
    {
     "name": "stdout",
     "output_type": "stream",
     "text": [
      "'data.frame':\t12 obs. of  3 variables:\n",
      " $ cultivar: Factor w/ 4 levels \"1\",\"2\",\"3\",\"4\": 1 1 1 2 2 2 3 3 3 4 ...\n",
      " $ bloco   : Factor w/ 3 levels \"1\",\"2\",\"3\": 1 2 3 1 2 3 1 2 3 1 ...\n",
      " $ prod    : num  50.9 50.6 51.2 49.1 49.3 49.9 49.9 49.8 49.5 49.2 ...\n"
     ]
    }
   ],
   "source": [
    "# exemplo com dados batata.txt\n",
    "batata <- read.table(\"https://raw.githubusercontent.com/arsilva87/statsbook/main/datasets/batata.txt\", \n",
    "     header = TRUE, colClasses = c(\"factor\", \"factor\", \"numeric\"))\n",
    "str(batata)"
   ]
  },
  {
   "cell_type": "code",
   "execution_count": 8,
   "metadata": {},
   "outputs": [],
   "source": [
    "# ajuste do modelo de ANOVA\n",
    "lm.batata <- lm(prod ~ cultivar + bloco, data = batata)"
   ]
  },
  {
   "cell_type": "code",
   "execution_count": 9,
   "metadata": {},
   "outputs": [
    {
     "data": {
      "text/plain": [
       "\n",
       "\t Simultaneous Tests for General Linear Hypotheses\n",
       "\n",
       "Multiple Comparisons of Means: User-defined Contrasts\n",
       "\n",
       "\n",
       "Fit: lm(formula = prod ~ cultivar + bloco, data = batata)\n",
       "\n",
       "Linear Hypotheses:\n",
       "       Estimate Std. Error t value Pr(>|t|)   \n",
       "1 == 0   1.7667     0.3756   4.703  0.00332 **\n",
       "---\n",
       "Signif. codes:  0 ‘***’ 0.001 ‘**’ 0.01 ‘*’ 0.05 ‘.’ 0.1 ‘ ’ 1\n",
       "(Adjusted p values reported -- single-step method)\n"
      ]
     },
     "metadata": {},
     "output_type": "display_data"
    }
   ],
   "source": [
    "# teste do contraste C = m1 + m3 - m2 - m4, com o pacote multcomp\n",
    "library(multcomp)\n",
    "c1 <- glht(lm.batata, linfct = mcp(cultivar = c(1, -1, 1, -1)))\n",
    "summary(c1)"
   ]
  },
  {
   "cell_type": "code",
   "execution_count": 17,
   "metadata": {},
   "outputs": [
    {
     "data": {
      "text/plain": [
       "$lsmeans\n",
       " cultivar lsmean    SE df lower.CL upper.CL\n",
       " 1          50.9 0.188  6     50.4     51.4\n",
       " 2          49.4 0.188  6     49.0     49.9\n",
       " 3          49.7 0.188  6     49.3     50.2\n",
       " 4          49.4 0.188  6     49.0     49.9\n",
       "\n",
       "Results are averaged over the levels of: bloco \n",
       "Confidence level used: 0.95 \n",
       "\n",
       "$contrasts\n",
       " contrast estimate    SE df t.ratio p.value\n",
       " c1           1.77 0.376  6 4.703   0.0033 \n",
       "\n",
       "Results are averaged over the levels of: bloco \n"
      ]
     },
     "metadata": {},
     "output_type": "display_data"
    }
   ],
   "source": [
    "# teste do contraste C = m1 + m3 - m2 - m4, com o pacote emmeans\n",
    "library(emmeans)\n",
    "lsmeans(lm.batata, specs = \"cultivar\", contr = list(c1 = c(1, -1, 1, -1)))"
   ]
  },
  {
   "cell_type": "markdown",
   "metadata": {},
   "source": [
    "____\n",
    "**Teste LSD de Fisher**"
   ]
  },
  {
   "cell_type": "code",
   "execution_count": 18,
   "metadata": {},
   "outputs": [
    {
     "name": "stdout",
     "output_type": "stream",
     "text": [
      "------------------------------------------------------------------------\n",
      "Analysis of Variance Table\n",
      "------------------------------------------------------------------------\n",
      "           DF     SS      MS      Fc    Pr>Fc\n",
      "Treatament  3 4.3825 1.46083 13.8031 0.004218\n",
      "Block       2 0.4650 0.23250  2.1969 0.192373\n",
      "Residuals   6 0.6350 0.10583                 \n",
      "Total      11 5.4825                         \n",
      "------------------------------------------------------------------------\n",
      "CV = 0.65 %\n",
      "\n",
      "------------------------------------------------------------------------\n",
      "Shapiro-Wilk normality test\n",
      "p-value:  0.4490271 \n",
      "According to Shapiro-Wilk normality test at 5% of significance, residuals can be considered normal.\n",
      "------------------------------------------------------------------------\n",
      "\n",
      "------------------------------------------------------------------------\n",
      "Homogeneity of variances test\n",
      "p-value:  0.2233449 \n",
      "According to the test of oneillmathews at 5% of significance, the variances can be considered homocedastic.\n",
      "------------------------------------------------------------------------\n",
      "\n",
      "T test (LSD)\n",
      "------------------------------------------------------------------------\n",
      "Groups  Treatments  Means\n",
      "a \t 1 \t 50.9 \n",
      " b \t 3 \t 49.73333 \n",
      " b \t 4 \t 49.43333 \n",
      " b \t 2 \t 49.43333 \n",
      "------------------------------------------------------------------------\n"
     ]
    }
   ],
   "source": [
    "# com o pacote ExpDes\n",
    "library(ExpDes)\n",
    "with(batata, \n",
    "     rbd(treat = cultivar, block = bloco, resp = prod, \n",
    "        quali = TRUE, mcomp = \"lsd\", sigT = 0.05, sigF = 0.05))"
   ]
  },
  {
   "cell_type": "code",
   "execution_count": 14,
   "metadata": {},
   "outputs": [
    {
     "ename": "ERROR",
     "evalue": "Error in library(agricolae): there is no package called ‘agricolae’\n",
     "output_type": "error",
     "traceback": [
      "Error in library(agricolae): there is no package called ‘agricolae’\nTraceback:\n",
      "1. library(agricolae)"
     ]
    }
   ],
   "source": [
    "# com o pacote agricolae\n",
    "library(agricolae)\n",
    "with(batata, \n",
    "     LSD.test(y = prod, trt = cultivar, DFerror = 6, \n",
    "              MSerror = 0.10583, alpha = 0.05, \n",
    "              group = FALSE, console = TRUE))"
   ]
  },
  {
   "cell_type": "markdown",
   "metadata": {},
   "source": [
    "____\n",
    "**A correção de Bonferroni**"
   ]
  },
  {
   "cell_type": "code",
   "execution_count": 19,
   "metadata": {},
   "outputs": [
    {
     "ename": "ERROR",
     "evalue": "Error in LSD.test(y = prod, trt = cultivar, DFerror = 6, MSerror = 0.10583, : could not find function \"LSD.test\"\n",
     "output_type": "error",
     "traceback": [
      "Error in LSD.test(y = prod, trt = cultivar, DFerror = 6, MSerror = 0.10583, : could not find function \"LSD.test\"\nTraceback:\n",
      "1. with(batata, LSD.test(y = prod, trt = cultivar, DFerror = 6, \n .     MSerror = 0.10583, alpha = 0.05, group = FALSE, console = TRUE, \n .     p.adj = \"bonferroni\"))",
      "2. with.default(batata, LSD.test(y = prod, trt = cultivar, DFerror = 6, \n .     MSerror = 0.10583, alpha = 0.05, group = FALSE, console = TRUE, \n .     p.adj = \"bonferroni\"))",
      "3. eval(substitute(expr), data, enclos = parent.frame())",
      "4. eval(substitute(expr), data, enclos = parent.frame())"
     ]
    }
   ],
   "source": [
    "with(batata, \n",
    "    LSD.test(y = prod, trt = cultivar, DFerror = 6, \n",
    "       MSerror = 0.10583, alpha = 0.05, group = FALSE, \n",
    "       console = TRUE, p.adj = \"bonferroni\"))"
   ]
  },
  {
   "cell_type": "markdown",
   "metadata": {},
   "source": [
    "___\n",
    "**Teste HSD de Tukey**"
   ]
  },
  {
   "cell_type": "code",
   "execution_count": 20,
   "metadata": {},
   "outputs": [
    {
     "data": {
      "text/html": [
       "4.89559918405749"
      ],
      "text/latex": [
       "4.89559918405749"
      ],
      "text/markdown": [
       "4.89559918405749"
      ],
      "text/plain": [
       "[1] 4.895599"
      ]
     },
     "metadata": {},
     "output_type": "display_data"
    }
   ],
   "source": [
    "# quantil da distribuição ou valor tabelado para o exemplo\n",
    "qtukey(p = 0.95, nmeans = 4, df = 6)"
   ]
  },
  {
   "cell_type": "code",
   "execution_count": 21,
   "metadata": {},
   "outputs": [
    {
     "ename": "ERROR",
     "evalue": "Error in library(agricolae): there is no package called ‘agricolae’\n",
     "output_type": "error",
     "traceback": [
      "Error in library(agricolae): there is no package called ‘agricolae’\nTraceback:\n",
      "1. library(agricolae)"
     ]
    }
   ],
   "source": [
    "library(agricolae)\n",
    "with(batata, \n",
    "    HSD.test(y = prod, trt = cultivar, DFerror = 6, \n",
    "       MSerror = 0.10583, alpha = 0.05, \n",
    "       group = FALSE, console = TRUE))"
   ]
  },
  {
   "cell_type": "markdown",
   "metadata": {},
   "source": [
    "___\n",
    "**Teste SNK**"
   ]
  },
  {
   "cell_type": "code",
   "execution_count": 22,
   "metadata": {},
   "outputs": [
    {
     "ename": "ERROR",
     "evalue": "Error in SNK.test(y = prod, trt = cultivar, DFerror = 6, MSerror = 0.10583, : could not find function \"SNK.test\"\n",
     "output_type": "error",
     "traceback": [
      "Error in SNK.test(y = prod, trt = cultivar, DFerror = 6, MSerror = 0.10583, : could not find function \"SNK.test\"\nTraceback:\n",
      "1. with(batata, SNK.test(y = prod, trt = cultivar, DFerror = 6, \n .     MSerror = 0.10583, alpha = 0.05, group = FALSE, console = TRUE))",
      "2. with.default(batata, SNK.test(y = prod, trt = cultivar, DFerror = 6, \n .     MSerror = 0.10583, alpha = 0.05, group = FALSE, console = TRUE))",
      "3. eval(substitute(expr), data, enclos = parent.frame())",
      "4. eval(substitute(expr), data, enclos = parent.frame())"
     ]
    }
   ],
   "source": [
    "with(batata, \n",
    "    SNK.test(y = prod, trt = cultivar, DFerror = 6, \n",
    "       MSerror = 0.10583, alpha = 0.05, \n",
    "       group = FALSE, console = TRUE))"
   ]
  },
  {
   "cell_type": "markdown",
   "metadata": {},
   "source": [
    "___\n",
    "**O critério de Scott-Knott**"
   ]
  },
  {
   "cell_type": "code",
   "execution_count": 23,
   "metadata": {},
   "outputs": [
    {
     "name": "stdout",
     "output_type": "stream",
     "text": [
      " Levels    Means SK(5%)\n",
      "      1 50.90000      a\n",
      "      3 49.73333      b\n",
      "      4 49.43333      b\n",
      "      2 49.43333      b\n"
     ]
    }
   ],
   "source": [
    "library(ScottKnott)\n",
    "sk <- SK(aov(lm.batata), which = \"cultivar\")\n",
    "summary(sk)"
   ]
  }
 ],
 "metadata": {
  "kernelspec": {
   "display_name": "R",
   "language": "R",
   "name": "ir"
  },
  "language_info": {
   "codemirror_mode": "r",
   "file_extension": ".r",
   "mimetype": "text/x-r-source",
   "name": "R",
   "pygments_lexer": "r",
   "version": "3.6.3"
  }
 },
 "nbformat": 4,
 "nbformat_minor": 4
}
