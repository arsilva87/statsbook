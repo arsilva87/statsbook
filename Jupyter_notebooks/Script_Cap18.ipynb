{
 "cells": [
  {
   "cell_type": "markdown",
   "metadata": {},
   "source": [
    "<img align=\"right\" src = \"https://raw.githubusercontent.com/arsilva87/statsbook/main/figs/figura_thumbnail.png\" width=\"25%\" height=\"25%\">\n",
    "\n",
    "Códigos em R do livro: **Estatística Decodificada** (Silva, A.R. 2021) \n",
    "\n",
    "Capítulo 18: **Grupos de experimentos**\n",
    "____"
   ]
  },
  {
   "cell_type": "code",
   "execution_count": 4,
   "metadata": {},
   "outputs": [
    {
     "name": "stdout",
     "output_type": "stream",
     "text": [
      "'data.frame':\t70 obs. of  4 variables:\n",
      " $ local: Factor w/ 2 levels \"A\",\"B\": 1 1 1 1 1 1 1 1 1 1 ...\n",
      " $ trat : num  0 0 0 0 0 0 0 250 250 250 ...\n",
      " $ bloco: Factor w/ 7 levels \"1\",\"2\",\"3\",\"4\",..: 1 2 3 4 5 6 7 1 2 3 ...\n",
      " $ resp : num  1.58 2.14 1.27 2.34 2.24 ...\n"
     ]
    }
   ],
   "source": [
    "# dados do exemplo de aplicação\n",
    "conj4 <- read.csv(\"https://raw.githubusercontent.com/arsilva87/statsbook/main/datasets/conjunta.csv\",\n",
    "                 colClasses = c(\"factor\", \"numeric\", \"factor\", \"numeric\"))\n",
    "str(conj4)"
   ]
  },
  {
   "cell_type": "code",
   "execution_count": 5,
   "metadata": {},
   "outputs": [
    {
     "data": {
      "text/html": [
       "<dl>\n",
       "\t<dt>$A</dt>\n",
       "\t\t<dd><table>\n",
       "<caption>A anova: 3 × 5</caption>\n",
       "<thead>\n",
       "\t<tr><th></th><th scope=col>Df</th><th scope=col>Sum Sq</th><th scope=col>Mean Sq</th><th scope=col>F value</th><th scope=col>Pr(&gt;F)</th></tr>\n",
       "\t<tr><th></th><th scope=col>&lt;int&gt;</th><th scope=col>&lt;dbl&gt;</th><th scope=col>&lt;dbl&gt;</th><th scope=col>&lt;dbl&gt;</th><th scope=col>&lt;dbl&gt;</th></tr>\n",
       "</thead>\n",
       "<tbody>\n",
       "\t<tr><th scope=row>bloco</th><td> 6</td><td>4.1504462</td><td>0.6917410</td><td>3.340836</td><td>0.01549526</td></tr>\n",
       "\t<tr><th scope=row>ordered(trat)</th><td> 4</td><td>0.7691718</td><td>0.1922930</td><td>0.928699</td><td>0.46384761</td></tr>\n",
       "\t<tr><th scope=row>Residuals</th><td>24</td><td>4.9693506</td><td>0.2070563</td><td>      NA</td><td>        NA</td></tr>\n",
       "</tbody>\n",
       "</table>\n",
       "</dd>\n",
       "\t<dt>$B</dt>\n",
       "\t\t<dd><table>\n",
       "<caption>A anova: 3 × 5</caption>\n",
       "<thead>\n",
       "\t<tr><th></th><th scope=col>Df</th><th scope=col>Sum Sq</th><th scope=col>Mean Sq</th><th scope=col>F value</th><th scope=col>Pr(&gt;F)</th></tr>\n",
       "\t<tr><th></th><th scope=col>&lt;int&gt;</th><th scope=col>&lt;dbl&gt;</th><th scope=col>&lt;dbl&gt;</th><th scope=col>&lt;dbl&gt;</th><th scope=col>&lt;dbl&gt;</th></tr>\n",
       "</thead>\n",
       "<tbody>\n",
       "\t<tr><th scope=row>bloco</th><td> 6</td><td>0.5005733</td><td>0.08342888</td><td>1.1491145</td><td>0.3652633</td></tr>\n",
       "\t<tr><th scope=row>ordered(trat)</th><td> 4</td><td>0.2838724</td><td>0.07096810</td><td>0.9774849</td><td>0.4382687</td></tr>\n",
       "\t<tr><th scope=row>Residuals</th><td>24</td><td>1.7424662</td><td>0.07260276</td><td>       NA</td><td>       NA</td></tr>\n",
       "</tbody>\n",
       "</table>\n",
       "</dd>\n",
       "</dl>\n"
      ],
      "text/latex": [
       "\\begin{description}\n",
       "\\item[\\$A] A anova: 3 × 5\n",
       "\\begin{tabular}{r|lllll}\n",
       "  & Df & Sum Sq & Mean Sq & F value & Pr(>F)\\\\\n",
       "  & <int> & <dbl> & <dbl> & <dbl> & <dbl>\\\\\n",
       "\\hline\n",
       "\tbloco &  6 & 4.1504462 & 0.6917410 & 3.340836 & 0.01549526\\\\\n",
       "\tordered(trat) &  4 & 0.7691718 & 0.1922930 & 0.928699 & 0.46384761\\\\\n",
       "\tResiduals & 24 & 4.9693506 & 0.2070563 &       NA &         NA\\\\\n",
       "\\end{tabular}\n",
       "\n",
       "\\item[\\$B] A anova: 3 × 5\n",
       "\\begin{tabular}{r|lllll}\n",
       "  & Df & Sum Sq & Mean Sq & F value & Pr(>F)\\\\\n",
       "  & <int> & <dbl> & <dbl> & <dbl> & <dbl>\\\\\n",
       "\\hline\n",
       "\tbloco &  6 & 0.5005733 & 0.08342888 & 1.1491145 & 0.3652633\\\\\n",
       "\tordered(trat) &  4 & 0.2838724 & 0.07096810 & 0.9774849 & 0.4382687\\\\\n",
       "\tResiduals & 24 & 1.7424662 & 0.07260276 &        NA &        NA\\\\\n",
       "\\end{tabular}\n",
       "\n",
       "\\end{description}\n"
      ],
      "text/markdown": [
       "$A\n",
       ":   \n",
       "A anova: 3 × 5\n",
       "\n",
       "| <!--/--> | Df &lt;int&gt; | Sum Sq &lt;dbl&gt; | Mean Sq &lt;dbl&gt; | F value &lt;dbl&gt; | Pr(&gt;F) &lt;dbl&gt; |\n",
       "|---|---|---|---|---|---|\n",
       "| bloco |  6 | 4.1504462 | 0.6917410 | 3.340836 | 0.01549526 |\n",
       "| ordered(trat) |  4 | 0.7691718 | 0.1922930 | 0.928699 | 0.46384761 |\n",
       "| Residuals | 24 | 4.9693506 | 0.2070563 |       NA |         NA |\n",
       "\n",
       "\n",
       "$B\n",
       ":   \n",
       "A anova: 3 × 5\n",
       "\n",
       "| <!--/--> | Df &lt;int&gt; | Sum Sq &lt;dbl&gt; | Mean Sq &lt;dbl&gt; | F value &lt;dbl&gt; | Pr(&gt;F) &lt;dbl&gt; |\n",
       "|---|---|---|---|---|---|\n",
       "| bloco |  6 | 0.5005733 | 0.08342888 | 1.1491145 | 0.3652633 |\n",
       "| ordered(trat) |  4 | 0.2838724 | 0.07096810 | 0.9774849 | 0.4382687 |\n",
       "| Residuals | 24 | 1.7424662 | 0.07260276 |        NA |        NA |\n",
       "\n",
       "\n",
       "\n",
       "\n"
      ],
      "text/plain": [
       "$A\n",
       "Analysis of Variance Table\n",
       "\n",
       "Response: resp\n",
       "              Df Sum Sq Mean Sq F value Pr(>F)  \n",
       "bloco          6 4.1504 0.69174  3.3408 0.0155 *\n",
       "ordered(trat)  4 0.7692 0.19229  0.9287 0.4638  \n",
       "Residuals     24 4.9694 0.20706                 \n",
       "---\n",
       "Signif. codes:  0 ‘***’ 0.001 ‘**’ 0.01 ‘*’ 0.05 ‘.’ 0.1 ‘ ’ 1\n",
       "\n",
       "$B\n",
       "Analysis of Variance Table\n",
       "\n",
       "Response: resp\n",
       "              Df  Sum Sq  Mean Sq F value Pr(>F)\n",
       "bloco          6 0.50057 0.083429  1.1491 0.3653\n",
       "ordered(trat)  4 0.28387 0.070968  0.9775 0.4383\n",
       "Residuals     24 1.74247 0.072603               \n"
      ]
     },
     "metadata": {},
     "output_type": "display_data"
    }
   ],
   "source": [
    "# ANOVAs individuais (por local)\n",
    "lexp <- split(conj4, conj4$local)\n",
    "mods <- lapply(lexp, aov, formula = resp ~ bloco + ordered(trat))\n",
    "anovas <- lapply(mods, anova)\n",
    "anovas"
   ]
  },
  {
   "cell_type": "code",
   "execution_count": 6,
   "metadata": {},
   "outputs": [
    {
     "data": {
      "text/html": [
       "<table>\n",
       "<caption>A anova: 5 × 5</caption>\n",
       "<thead>\n",
       "\t<tr><th></th><th scope=col>Df</th><th scope=col>Sum Sq</th><th scope=col>Mean Sq</th><th scope=col>F value</th><th scope=col>Pr(&gt;F)</th></tr>\n",
       "\t<tr><th></th><th scope=col>&lt;int&gt;</th><th scope=col>&lt;dbl&gt;</th><th scope=col>&lt;dbl&gt;</th><th scope=col>&lt;dbl&gt;</th><th scope=col>&lt;dbl&gt;</th></tr>\n",
       "</thead>\n",
       "<tbody>\n",
       "\t<tr><th scope=row>local</th><td> 1</td><td>28.3755542</td><td>28.37555424</td><td>202.9296449</td><td>7.305862e-19</td></tr>\n",
       "\t<tr><th scope=row>ordered(trat)</th><td> 4</td><td> 0.3833937</td><td> 0.09584841</td><td>  0.6854662</td><td>6.055204e-01</td></tr>\n",
       "\t<tr><th scope=row>local:bloco</th><td>12</td><td> 4.6510195</td><td> 0.38758496</td><td>  2.7718394</td><td>6.057298e-03</td></tr>\n",
       "\t<tr><th scope=row>local:ordered(trat)</th><td> 4</td><td> 0.6696505</td><td> 0.16741264</td><td>  1.1972625</td><td>3.241862e-01</td></tr>\n",
       "\t<tr><th scope=row>Residuals</th><td>48</td><td> 6.7118168</td><td> 0.13982952</td><td>         NA</td><td>          NA</td></tr>\n",
       "</tbody>\n",
       "</table>\n"
      ],
      "text/latex": [
       "A anova: 5 × 5\n",
       "\\begin{tabular}{r|lllll}\n",
       "  & Df & Sum Sq & Mean Sq & F value & Pr(>F)\\\\\n",
       "  & <int> & <dbl> & <dbl> & <dbl> & <dbl>\\\\\n",
       "\\hline\n",
       "\tlocal &  1 & 28.3755542 & 28.37555424 & 202.9296449 & 7.305862e-19\\\\\n",
       "\tordered(trat) &  4 &  0.3833937 &  0.09584841 &   0.6854662 & 6.055204e-01\\\\\n",
       "\tlocal:bloco & 12 &  4.6510195 &  0.38758496 &   2.7718394 & 6.057298e-03\\\\\n",
       "\tlocal:ordered(trat) &  4 &  0.6696505 &  0.16741264 &   1.1972625 & 3.241862e-01\\\\\n",
       "\tResiduals & 48 &  6.7118168 &  0.13982952 &          NA &           NA\\\\\n",
       "\\end{tabular}\n"
      ],
      "text/markdown": [
       "\n",
       "A anova: 5 × 5\n",
       "\n",
       "| <!--/--> | Df &lt;int&gt; | Sum Sq &lt;dbl&gt; | Mean Sq &lt;dbl&gt; | F value &lt;dbl&gt; | Pr(&gt;F) &lt;dbl&gt; |\n",
       "|---|---|---|---|---|---|\n",
       "| local |  1 | 28.3755542 | 28.37555424 | 202.9296449 | 7.305862e-19 |\n",
       "| ordered(trat) |  4 |  0.3833937 |  0.09584841 |   0.6854662 | 6.055204e-01 |\n",
       "| local:bloco | 12 |  4.6510195 |  0.38758496 |   2.7718394 | 6.057298e-03 |\n",
       "| local:ordered(trat) |  4 |  0.6696505 |  0.16741264 |   1.1972625 | 3.241862e-01 |\n",
       "| Residuals | 48 |  6.7118168 |  0.13982952 |          NA |           NA |\n",
       "\n"
      ],
      "text/plain": [
       "                    Df Sum Sq     Mean Sq     F value     Pr(>F)      \n",
       "local                1 28.3755542 28.37555424 202.9296449 7.305862e-19\n",
       "ordered(trat)        4  0.3833937  0.09584841   0.6854662 6.055204e-01\n",
       "local:bloco         12  4.6510195  0.38758496   2.7718394 6.057298e-03\n",
       "local:ordered(trat)  4  0.6696505  0.16741264   1.1972625 3.241862e-01\n",
       "Residuals           48  6.7118168  0.13982952          NA           NA"
      ]
     },
     "metadata": {},
     "output_type": "display_data"
    }
   ],
   "source": [
    "# ANOVA conjunta\n",
    "mod <- lm(resp ~ local/bloco + local*ordered(trat), data = conj4)\n",
    "anova(mod)"
   ]
  },
  {
   "cell_type": "code",
   "execution_count": 8,
   "metadata": {},
   "outputs": [
    {
     "name": "stderr",
     "output_type": "stream",
     "text": [
      "\n",
      "Attaching package: ‘ExpDes’\n",
      "\n",
      "\n",
      "The following object is masked from ‘package:stats’:\n",
      "\n",
      "    ccf\n",
      "\n",
      "\n"
     ]
    },
    {
     "name": "stdout",
     "output_type": "stream",
     "text": [
      "\n",
      "Adjustment of polynomial models of regression\n",
      "------------------------------------------------------------------------\n",
      "\n",
      "Linear Model\n",
      "==========================================\n",
      "   Estimate Standard.Error   tc    p.value\n",
      "------------------------------------------\n",
      "b0  1.8388      0.1095     16.7954    0   \n",
      "b1 -0.0002      0.0002     -0.8865 0.3798 \n",
      "------------------------------------------\n",
      "\n",
      "R2 of linear model\n",
      "--------\n",
      "0.286940\n",
      "--------\n",
      "\n",
      "Analysis of Variance of linear model\n",
      "===========================================\n",
      "              DF   SS     MS    Fc  p.value\n",
      "-------------------------------------------\n",
      "Linear Effect 1  0.1099 0.1099 0.79 0.37976\n",
      "Lack of fit   3  0.2731 0.0910 0.65 0.5862 \n",
      "Residuals     48 6.7120 0.1398             \n",
      "-------------------------------------------\n",
      "------------------------------------------------------------------------\n",
      "\n",
      "Quadratic Model\n",
      "===========================================\n",
      "   Estimate  Standard.Error   tc    p.value\n",
      "-------------------------------------------\n",
      "b0  1.7755       0.1330     13.3483    0   \n",
      "b1  0.0003       0.0006     0.5510  0.5842 \n",
      "b2 -0.000001       0        -0.8368 0.4068 \n",
      "-------------------------------------------\n",
      "\n",
      "R2 of quadratic model\n",
      "--------\n",
      "0.542611\n",
      "--------\n",
      "\n",
      "Analysis of Variance of quadratic model\n",
      "==============================================\n",
      "                 DF   SS     MS    Fc  p.value\n",
      "----------------------------------------------\n",
      "Linear Effect    1  0.1099 0.1099 0.79 0.37976\n",
      "Quadratic Effect 1  0.0979 0.0979 0.7  0.40684\n",
      "Lack of fit      2  0.1752 0.0876 0.63 0.53883\n",
      "Residuals        48 6.7120 0.1398             \n",
      "----------------------------------------------\n",
      "------------------------------------------------------------------------\n",
      "\n",
      "Cubic Model\n",
      "==========================================\n",
      "   Estimate Standard.Error   tc    p.value\n",
      "------------------------------------------\n",
      "b0  0.0001     0.00001     9.5576     0   \n",
      "b1  0.0110      0.0012     9.5576     0   \n",
      "b2 -0.00002       0        -5.6583    0   \n",
      "b3    0           0        4.1718  0.0001 \n",
      "------------------------------------------\n",
      "\n",
      "R2 of cubic model\n",
      "--------\n",
      "0.545226\n",
      "--------\n",
      "\n",
      "Analysis of Variance of cubic model\n",
      "==============================================\n",
      "                 DF   SS     MS    Fc  p.value\n",
      "----------------------------------------------\n",
      "Linear Effect    1  0.1099 0.1099 0.79 0.37976\n",
      "Quadratic Effect 1  0.0979 0.0979 0.7  0.40684\n",
      "Cubic Effect     1  0.0010 0.0010 0.01 0.9329 \n",
      "Lack of fit      1  0.1742 0.1742 1.25 0.26995\n",
      "Residuals        48 6.7120 0.1398             \n",
      "----------------------------------------------\n",
      "------------------------------------------------------------------------\n"
     ]
    }
   ],
   "source": [
    "# exemplo de análise de regressão polinomial para o local A\n",
    "library(ExpDes)\n",
    "regA <- with(subset(conj4, local == \"A\"), \n",
    "             reg.poly(resp = resp, treat = trat, DFerror = 48, \n",
    "                      SSerror = 6.712, DFtreat = 4, SStreat = 0.383))"
   ]
  },
  {
   "cell_type": "code",
   "execution_count": null,
   "metadata": {},
   "outputs": [],
   "source": []
  }
 ],
 "metadata": {
  "kernelspec": {
   "display_name": "R",
   "language": "R",
   "name": "ir"
  },
  "language_info": {
   "codemirror_mode": "r",
   "file_extension": ".r",
   "mimetype": "text/x-r-source",
   "name": "R",
   "pygments_lexer": "r",
   "version": "3.6.3"
  }
 },
 "nbformat": 4,
 "nbformat_minor": 4
}
