{
 "cells": [
  {
   "cell_type": "markdown",
   "metadata": {},
   "source": [
    "<img align=\"right\" src = \"https://raw.githubusercontent.com/arsilva87/statsbook/main/figs/figura_thumbnail.png\" width=\"25%\" height=\"25%\">\n",
    "\n",
    "Códigos em R do livro: **Estatística Decodificada** (Silva, A.R. 2021) \n",
    "\n",
    "Capítulo 13: **Análise de resíduos**\n",
    "____"
   ]
  },
  {
   "cell_type": "code",
   "execution_count": 1,
   "metadata": {},
   "outputs": [
    {
     "data": {
      "text/html": [
       "<table>\n",
       "<caption>A data.frame: 6 × 7</caption>\n",
       "<thead>\n",
       "\t<tr><th></th><th scope=col>US</th><th scope=col>DS</th><th scope=col>RP</th><th scope=col>CO</th><th scope=col>Argila</th><th scope=col>Tensao</th><th scope=col>Camada</th></tr>\n",
       "\t<tr><th></th><th scope=col>&lt;dbl&gt;</th><th scope=col>&lt;dbl&gt;</th><th scope=col>&lt;dbl&gt;</th><th scope=col>&lt;dbl&gt;</th><th scope=col>&lt;int&gt;</th><th scope=col>&lt;dbl&gt;</th><th scope=col>&lt;fct&gt;</th></tr>\n",
       "</thead>\n",
       "<tbody>\n",
       "\t<tr><th scope=row>1</th><td> 6.85</td><td>1.77</td><td>4.37</td><td> 9.94</td><td>16</td><td>83.0</td><td>0-20</td></tr>\n",
       "\t<tr><th scope=row>2</th><td>10.61</td><td>1.58</td><td>1.64</td><td>26.89</td><td>13</td><td>64.7</td><td>0-20</td></tr>\n",
       "\t<tr><th scope=row>3</th><td> 6.63</td><td>1.79</td><td>5.15</td><td> 9.94</td><td>18</td><td>93.5</td><td>0-20</td></tr>\n",
       "\t<tr><th scope=row>4</th><td> 6.63</td><td>1.78</td><td>4.83</td><td> 9.94</td><td>18</td><td>87.5</td><td>0-20</td></tr>\n",
       "\t<tr><th scope=row>5</th><td>10.72</td><td>1.57</td><td>0.40</td><td>27.80</td><td>12</td><td>61.0</td><td>0-20</td></tr>\n",
       "\t<tr><th scope=row>6</th><td>11.93</td><td>1.56</td><td>0.74</td><td>24.18</td><td>12</td><td>61.9</td><td>0-20</td></tr>\n",
       "</tbody>\n",
       "</table>\n"
      ],
      "text/latex": [
       "A data.frame: 6 × 7\n",
       "\\begin{tabular}{r|lllllll}\n",
       "  & US & DS & RP & CO & Argila & Tensao & Camada\\\\\n",
       "  & <dbl> & <dbl> & <dbl> & <dbl> & <int> & <dbl> & <fct>\\\\\n",
       "\\hline\n",
       "\t1 &  6.85 & 1.77 & 4.37 &  9.94 & 16 & 83.0 & 0-20\\\\\n",
       "\t2 & 10.61 & 1.58 & 1.64 & 26.89 & 13 & 64.7 & 0-20\\\\\n",
       "\t3 &  6.63 & 1.79 & 5.15 &  9.94 & 18 & 93.5 & 0-20\\\\\n",
       "\t4 &  6.63 & 1.78 & 4.83 &  9.94 & 18 & 87.5 & 0-20\\\\\n",
       "\t5 & 10.72 & 1.57 & 0.40 & 27.80 & 12 & 61.0 & 0-20\\\\\n",
       "\t6 & 11.93 & 1.56 & 0.74 & 24.18 & 12 & 61.9 & 0-20\\\\\n",
       "\\end{tabular}\n"
      ],
      "text/markdown": [
       "\n",
       "A data.frame: 6 × 7\n",
       "\n",
       "| <!--/--> | US &lt;dbl&gt; | DS &lt;dbl&gt; | RP &lt;dbl&gt; | CO &lt;dbl&gt; | Argila &lt;int&gt; | Tensao &lt;dbl&gt; | Camada &lt;fct&gt; |\n",
       "|---|---|---|---|---|---|---|---|\n",
       "| 1 |  6.85 | 1.77 | 4.37 |  9.94 | 16 | 83.0 | 0-20 |\n",
       "| 2 | 10.61 | 1.58 | 1.64 | 26.89 | 13 | 64.7 | 0-20 |\n",
       "| 3 |  6.63 | 1.79 | 5.15 |  9.94 | 18 | 93.5 | 0-20 |\n",
       "| 4 |  6.63 | 1.78 | 4.83 |  9.94 | 18 | 87.5 | 0-20 |\n",
       "| 5 | 10.72 | 1.57 | 0.40 | 27.80 | 12 | 61.0 | 0-20 |\n",
       "| 6 | 11.93 | 1.56 | 0.74 | 24.18 | 12 | 61.9 | 0-20 |\n",
       "\n"
      ],
      "text/plain": [
       "  US    DS   RP   CO    Argila Tensao Camada\n",
       "1  6.85 1.77 4.37  9.94 16     83.0   0-20  \n",
       "2 10.61 1.58 1.64 26.89 13     64.7   0-20  \n",
       "3  6.63 1.79 5.15  9.94 18     93.5   0-20  \n",
       "4  6.63 1.78 4.83  9.94 18     87.5   0-20  \n",
       "5 10.72 1.57 0.40 27.80 12     61.0   0-20  \n",
       "6 11.93 1.56 0.74 24.18 12     61.9   0-20  "
      ]
     },
     "metadata": {},
     "output_type": "display_data"
    }
   ],
   "source": [
    "# Dados camadassolo.csv\n",
    "solo <- read.csv(\"https://raw.githubusercontent.com/arsilva87/statsbook/main/datasets/camadassolo.csv\")\n",
    "head(solo)"
   ]
  },
  {
   "cell_type": "code",
   "execution_count": 2,
   "metadata": {},
   "outputs": [
    {
     "data": {
      "text/plain": [
       "\n",
       "Call:\n",
       "lm(formula = RP ~ DS, data = solo)\n",
       "\n",
       "Coefficients:\n",
       "(Intercept)           DS  \n",
       "     -19.62        13.49  \n"
      ]
     },
     "metadata": {},
     "output_type": "display_data"
    }
   ],
   "source": [
    "# modelo linear\n",
    "m1 <- lm(RP ~ DS, data = solo)\n",
    "m1"
   ]
  },
  {
   "cell_type": "markdown",
   "metadata": {},
   "source": [
    "____\n",
    "**Resíduos ordinários**"
   ]
  },
  {
   "cell_type": "code",
   "execution_count": 3,
   "metadata": {},
   "outputs": [
    {
     "data": {
      "text/html": [
       "<table>\n",
       "<caption>A matrix: 5 × 5 of type dbl</caption>\n",
       "<thead>\n",
       "\t<tr><th></th><th scope=col>1</th><th scope=col>2</th><th scope=col>3</th><th scope=col>4</th><th scope=col>5</th></tr>\n",
       "</thead>\n",
       "<tbody>\n",
       "\t<tr><th scope=row>1</th><td> 0.028711485</td><td>-0.003221289</td><td> 0.032072829</td><td> 0.030392157</td><td>-0.004901961</td></tr>\n",
       "\t<tr><th scope=row>2</th><td>-0.003221289</td><td> 0.025518207</td><td>-0.006246499</td><td>-0.004733894</td><td> 0.027030812</td></tr>\n",
       "\t<tr><th scope=row>3</th><td> 0.032072829</td><td>-0.006246499</td><td> 0.036106443</td><td> 0.034089636</td><td>-0.008263305</td></tr>\n",
       "\t<tr><th scope=row>4</th><td> 0.030392157</td><td>-0.004733894</td><td> 0.034089636</td><td> 0.032240896</td><td>-0.006582633</td></tr>\n",
       "\t<tr><th scope=row>5</th><td>-0.004901961</td><td> 0.027030812</td><td>-0.008263305</td><td>-0.006582633</td><td> 0.028711485</td></tr>\n",
       "</tbody>\n",
       "</table>\n"
      ],
      "text/latex": [
       "A matrix: 5 × 5 of type dbl\n",
       "\\begin{tabular}{r|lllll}\n",
       "  & 1 & 2 & 3 & 4 & 5\\\\\n",
       "\\hline\n",
       "\t1 &  0.028711485 & -0.003221289 &  0.032072829 &  0.030392157 & -0.004901961\\\\\n",
       "\t2 & -0.003221289 &  0.025518207 & -0.006246499 & -0.004733894 &  0.027030812\\\\\n",
       "\t3 &  0.032072829 & -0.006246499 &  0.036106443 &  0.034089636 & -0.008263305\\\\\n",
       "\t4 &  0.030392157 & -0.004733894 &  0.034089636 &  0.032240896 & -0.006582633\\\\\n",
       "\t5 & -0.004901961 &  0.027030812 & -0.008263305 & -0.006582633 &  0.028711485\\\\\n",
       "\\end{tabular}\n"
      ],
      "text/markdown": [
       "\n",
       "A matrix: 5 × 5 of type dbl\n",
       "\n",
       "| <!--/--> | 1 | 2 | 3 | 4 | 5 |\n",
       "|---|---|---|---|---|---|\n",
       "| 1 |  0.028711485 | -0.003221289 |  0.032072829 |  0.030392157 | -0.004901961 |\n",
       "| 2 | -0.003221289 |  0.025518207 | -0.006246499 | -0.004733894 |  0.027030812 |\n",
       "| 3 |  0.032072829 | -0.006246499 |  0.036106443 |  0.034089636 | -0.008263305 |\n",
       "| 4 |  0.030392157 | -0.004733894 |  0.034089636 |  0.032240896 | -0.006582633 |\n",
       "| 5 | -0.004901961 |  0.027030812 | -0.008263305 | -0.006582633 |  0.028711485 |\n",
       "\n"
      ],
      "text/plain": [
       "  1            2            3            4            5           \n",
       "1  0.028711485 -0.003221289  0.032072829  0.030392157 -0.004901961\n",
       "2 -0.003221289  0.025518207 -0.006246499 -0.004733894  0.027030812\n",
       "3  0.032072829 -0.006246499  0.036106443  0.034089636 -0.008263305\n",
       "4  0.030392157 -0.004733894  0.034089636  0.032240896 -0.006582633\n",
       "5 -0.004901961  0.027030812 -0.008263305 -0.006582633  0.028711485"
      ]
     },
     "metadata": {},
     "output_type": "display_data"
    },
    {
     "data": {
      "text/html": [
       "<style>\n",
       ".dl-inline {width: auto; margin:0; padding: 0}\n",
       ".dl-inline>dt, .dl-inline>dd {float: none; width: auto; display: inline-block}\n",
       ".dl-inline>dt::after {content: \":\\0020\"; padding-right: .5ex}\n",
       ".dl-inline>dt:not(:first-of-type) {padding-left: .5ex}\n",
       "</style><dl class=dl-inline><dt>1</dt><dd>0.0287114845938387</dd><dt>2</dt><dd>0.0255182072829132</dd><dt>3</dt><dd>0.0361064425770308</dd><dt>4</dt><dd>0.0322408963585434</dd><dt>5</dt><dd>0.0287114845938375</dd></dl>\n"
      ],
      "text/latex": [
       "\\begin{description*}\n",
       "\\item[1] 0.0287114845938387\n",
       "\\item[2] 0.0255182072829132\n",
       "\\item[3] 0.0361064425770308\n",
       "\\item[4] 0.0322408963585434\n",
       "\\item[5] 0.0287114845938375\n",
       "\\end{description*}\n"
      ],
      "text/markdown": [
       "1\n",
       ":   0.02871148459383872\n",
       ":   0.02551820728291323\n",
       ":   0.03610644257703084\n",
       ":   0.03224089635854345\n",
       ":   0.0287114845938375\n",
       "\n"
      ],
      "text/plain": [
       "         1          2          3          4          5 \n",
       "0.02871148 0.02551821 0.03610644 0.03224090 0.02871148 "
      ]
     },
     "metadata": {},
     "output_type": "display_data"
    }
   ],
   "source": [
    "X <- model.matrix(m1)                   # matriz do modelo\n",
    "H <- X %*% solve(t(X) %*% X, t(X))      # hat matrix\n",
    "H[1:5, 1:5]                             # H das 5 primeiras observações\n",
    "h <- hatvalues(m1)                      # checando\n",
    "h[1:5]"
   ]
  },
  {
   "cell_type": "code",
   "execution_count": 4,
   "metadata": {},
   "outputs": [
    {
     "data": {
      "text/html": [
       "<style>\n",
       ".dl-inline {width: auto; margin:0; padding: 0}\n",
       ".dl-inline>dt, .dl-inline>dd {float: none; width: auto; display: inline-block}\n",
       ".dl-inline>dt::after {content: \":\\0020\"; padding-right: .5ex}\n",
       ".dl-inline>dt:not(:first-of-type) {padding-left: .5ex}\n",
       "</style><dl class=dl-inline><dt>1</dt><dd>0.113557422969297</dd><dt>2</dt><dd>-0.0536778711485579</dd><dt>3</dt><dd>0.623792717086963</dd><dt>4</dt><dd>0.438675070028126</dd><dt>5</dt><dd>-1.15879551820739</dd></dl>\n"
      ],
      "text/latex": [
       "\\begin{description*}\n",
       "\\item[1] 0.113557422969297\n",
       "\\item[2] -0.0536778711485579\n",
       "\\item[3] 0.623792717086963\n",
       "\\item[4] 0.438675070028126\n",
       "\\item[5] -1.15879551820739\n",
       "\\end{description*}\n"
      ],
      "text/markdown": [
       "1\n",
       ":   0.1135574229692972\n",
       ":   -0.05367787114855793\n",
       ":   0.6237927170869634\n",
       ":   0.4386750700281265\n",
       ":   -1.15879551820739\n",
       "\n"
      ],
      "text/plain": [
       "          1           2           3           4           5 \n",
       " 0.11355742 -0.05367787  0.62379272  0.43867507 -1.15879552 "
      ]
     },
     "metadata": {},
     "output_type": "display_data"
    },
    {
     "data": {
      "text/html": [
       "<style>\n",
       ".dl-inline {width: auto; margin:0; padding: 0}\n",
       ".dl-inline>dt, .dl-inline>dd {float: none; width: auto; display: inline-block}\n",
       ".dl-inline>dt::after {content: \":\\0020\"; padding-right: .5ex}\n",
       ".dl-inline>dt:not(:first-of-type) {padding-left: .5ex}\n",
       "</style><dl class=dl-inline><dt>1</dt><dd>0.113557422969138</dd><dt>2</dt><dd>-0.0536778711484651</dd><dt>3</dt><dd>0.623792717086836</dd><dt>4</dt><dd>0.438675070028012</dd><dt>5</dt><dd>-1.15879551820728</dd></dl>\n"
      ],
      "text/latex": [
       "\\begin{description*}\n",
       "\\item[1] 0.113557422969138\n",
       "\\item[2] -0.0536778711484651\n",
       "\\item[3] 0.623792717086836\n",
       "\\item[4] 0.438675070028012\n",
       "\\item[5] -1.15879551820728\n",
       "\\end{description*}\n"
      ],
      "text/markdown": [
       "1\n",
       ":   0.1135574229691382\n",
       ":   -0.05367787114846513\n",
       ":   0.6237927170868364\n",
       ":   0.4386750700280125\n",
       ":   -1.15879551820728\n",
       "\n"
      ],
      "text/plain": [
       "          1           2           3           4           5 \n",
       " 0.11355742 -0.05367787  0.62379272  0.43867507 -1.15879552 "
      ]
     },
     "metadata": {},
     "output_type": "display_data"
    }
   ],
   "source": [
    "y <- solo$RP\n",
    "ro <- drop( y - H %*% y )    # residuos ordinarios\n",
    "ro[1:5]\n",
    "residuals(m1)[1:5]           # checando"
   ]
  },
  {
   "cell_type": "code",
   "execution_count": 5,
   "metadata": {},
   "outputs": [
    {
     "data": {
      "text/html": [
       "0.350109535621478"
      ],
      "text/latex": [
       "0.350109535621478"
      ],
      "text/markdown": [
       "0.350109535621478"
      ],
      "text/plain": [
       "[1] 0.3501095"
      ]
     },
     "metadata": {},
     "output_type": "display_data"
    },
    {
     "data": {
      "text/html": [
       "<style>\n",
       ".dl-inline {width: auto; margin:0; padding: 0}\n",
       ".dl-inline>dt, .dl-inline>dd {float: none; width: auto; display: inline-block}\n",
       ".dl-inline>dt::after {content: \":\\0020\"; padding-right: .5ex}\n",
       ".dl-inline>dt:not(:first-of-type) {padding-left: .5ex}\n",
       "</style><dl class=dl-inline><dt>1</dt><dd>0.340057371083326</dd><dt>2</dt><dd>0.341175367919764</dd><dt>3</dt><dd>0.33746832577789</dd><dt>4</dt><dd>0.338821690369368</dd><dt>5</dt><dd>0.340057371083326</dd></dl>\n"
      ],
      "text/latex": [
       "\\begin{description*}\n",
       "\\item[1] 0.340057371083326\n",
       "\\item[2] 0.341175367919764\n",
       "\\item[3] 0.33746832577789\n",
       "\\item[4] 0.338821690369368\n",
       "\\item[5] 0.340057371083326\n",
       "\\end{description*}\n"
      ],
      "text/markdown": [
       "1\n",
       ":   0.3400573710833262\n",
       ":   0.3411753679197643\n",
       ":   0.337468325777894\n",
       ":   0.3388216903693685\n",
       ":   0.340057371083326\n",
       "\n"
      ],
      "text/plain": [
       "        1         2         3         4         5 \n",
       "0.3400574 0.3411754 0.3374683 0.3388217 0.3400574 "
      ]
     },
     "metadata": {},
     "output_type": "display_data"
    }
   ],
   "source": [
    "s2 <- drop( var(ro) )   # variância residual\n",
    "s2\n",
    "var.ro <- (1 - h)*s2    # var dos 'ro'\n",
    "var.ro[1:5]"
   ]
  },
  {
   "cell_type": "markdown",
   "metadata": {},
   "source": [
    "____\n",
    "**Resíduos padronizados**"
   ]
  },
  {
   "cell_type": "code",
   "execution_count": 6,
   "metadata": {},
   "outputs": [
    {
     "data": {
      "text/html": [
       "<style>\n",
       ".dl-inline {width: auto; margin:0; padding: 0}\n",
       ".dl-inline>dt, .dl-inline>dd {float: none; width: auto; display: inline-block}\n",
       ".dl-inline>dt::after {content: \":\\0020\"; padding-right: .5ex}\n",
       ".dl-inline>dt:not(:first-of-type) {padding-left: .5ex}\n",
       "</style><dl class=dl-inline><dt>1</dt><dd>0.193556300058109</dd><dt>2</dt><dd>-0.0913428018883511</dd><dt>3</dt><dd>1.06731268616606</dd><dt>4</dt><dd>0.749074877074545</dd><dt>5</dt><dd>-1.9751432109293</dd></dl>\n"
      ],
      "text/latex": [
       "\\begin{description*}\n",
       "\\item[1] 0.193556300058109\n",
       "\\item[2] -0.0913428018883511\n",
       "\\item[3] 1.06731268616606\n",
       "\\item[4] 0.749074877074545\n",
       "\\item[5] -1.9751432109293\n",
       "\\end{description*}\n"
      ],
      "text/markdown": [
       "1\n",
       ":   0.1935563000581092\n",
       ":   -0.09134280188835113\n",
       ":   1.067312686166064\n",
       ":   0.7490748770745455\n",
       ":   -1.9751432109293\n",
       "\n"
      ],
      "text/plain": [
       "         1          2          3          4          5 \n",
       " 0.1935563 -0.0913428  1.0673127  0.7490749 -1.9751432 "
      ]
     },
     "metadata": {},
     "output_type": "display_data"
    }
   ],
   "source": [
    "rp <- rstandard(m1)\n",
    "rp[1:5]"
   ]
  },
  {
   "cell_type": "markdown",
   "metadata": {},
   "source": [
    "____\n",
    "**Resíduos estudentizados**"
   ]
  },
  {
   "cell_type": "code",
   "execution_count": 7,
   "metadata": {},
   "outputs": [
    {
     "data": {
      "text/html": [
       "<style>\n",
       ".dl-inline {width: auto; margin:0; padding: 0}\n",
       ".dl-inline>dt, .dl-inline>dd {float: none; width: auto; display: inline-block}\n",
       ".dl-inline>dt::after {content: \":\\0020\"; padding-right: .5ex}\n",
       ".dl-inline>dt:not(:first-of-type) {padding-left: .5ex}\n",
       "</style><dl class=dl-inline><dt>1</dt><dd>0.192416418860533</dd><dt>2</dt><dd>-0.0907887440753286</dd><dt>3</dt><dd>1.0682306800155</dd><dt>4</dt><dd>0.747053709785876</dd><dt>5</dt><dd>-2.01149470391627</dd></dl>\n"
      ],
      "text/latex": [
       "\\begin{description*}\n",
       "\\item[1] 0.192416418860533\n",
       "\\item[2] -0.0907887440753286\n",
       "\\item[3] 1.0682306800155\n",
       "\\item[4] 0.747053709785876\n",
       "\\item[5] -2.01149470391627\n",
       "\\end{description*}\n"
      ],
      "text/markdown": [
       "1\n",
       ":   0.1924164188605332\n",
       ":   -0.09078874407532863\n",
       ":   1.06823068001554\n",
       ":   0.7470537097858765\n",
       ":   -2.01149470391627\n",
       "\n"
      ],
      "text/plain": [
       "          1           2           3           4           5 \n",
       " 0.19241642 -0.09078874  1.06823068  0.74705371 -2.01149470 "
      ]
     },
     "metadata": {},
     "output_type": "display_data"
    }
   ],
   "source": [
    "rs <- rstudent(m1)\n",
    "rs[1:5]"
   ]
  },
  {
   "cell_type": "code",
   "execution_count": 8,
   "metadata": {},
   "outputs": [
    {
     "data": {
      "text/html": [
       "84"
      ],
      "text/latex": [
       "84"
      ],
      "text/markdown": [
       "84"
      ],
      "text/plain": [
       "[1] 84"
      ]
     },
     "metadata": {},
     "output_type": "display_data"
    },
    {
     "data": {
      "text/html": [
       "-3.77886975901492"
      ],
      "text/latex": [
       "-3.77886975901492"
      ],
      "text/markdown": [
       "-3.77886975901492"
      ],
      "text/plain": [
       "[1] -3.77887"
      ]
     },
     "metadata": {},
     "output_type": "display_data"
    },
    {
     "data": {
      "text/html": [
       "3.77886975901481"
      ],
      "text/latex": [
       "3.77886975901481"
      ],
      "text/markdown": [
       "3.77886975901481"
      ],
      "text/plain": [
       "[1] 3.77887"
      ]
     },
     "metadata": {},
     "output_type": "display_data"
    },
    {
     "data": {
      "text/html": [],
      "text/latex": [],
      "text/markdown": [],
      "text/plain": [
       "named integer(0)"
      ]
     },
     "metadata": {},
     "output_type": "display_data"
    },
    {
     "data": {
      "text/html": [
       "<strong>78:</strong> 78"
      ],
      "text/latex": [
       "\\textbf{78:} 78"
      ],
      "text/markdown": [
       "**78:** 78"
      ],
      "text/plain": [
       "78 \n",
       "78 "
      ]
     },
     "metadata": {},
     "output_type": "display_data"
    }
   ],
   "source": [
    "n <- nrow(solo)                             # n dados\n",
    "n\n",
    "p <- 2                                      # n parâmetros do modelo\n",
    "li.rs <- qt(0.025/(2*n), df = 84 - 2)       # limite inferior\n",
    "li.rs\n",
    "ls.rs <- qt(1 - 0.025/(2*n), df = 84 - 2)   # limite superior\n",
    "ls.rs\n",
    "\n",
    "which(rs < li.rs)                           # teste: rs abaixo\n",
    "which(rs > ls.rs)                           # teste: rs acima"
   ]
  },
  {
   "cell_type": "markdown",
   "metadata": {},
   "source": [
    "____\n",
    "**Medidas de influência**"
   ]
  },
  {
   "cell_type": "code",
   "execution_count": 9,
   "metadata": {},
   "outputs": [
    {
     "data": {
      "text/html": [
       "<style>\n",
       ".dl-inline {width: auto; margin:0; padding: 0}\n",
       ".dl-inline>dt, .dl-inline>dd {float: none; width: auto; display: inline-block}\n",
       ".dl-inline>dt::after {content: \":\\0020\"; padding-right: .5ex}\n",
       ".dl-inline>dt:not(:first-of-type) {padding-left: .5ex}\n",
       "</style><dl class=dl-inline><dt>1</dt><dd>0.0330823098831354</dd><dt>2</dt><dd>-0.0146916381808552</dd><dt>3</dt><dd>0.206748733958356</dd><dt>4</dt><dd>0.136355213531834</dd><dt>5</dt><dd>-0.345837904672133</dd></dl>\n"
      ],
      "text/latex": [
       "\\begin{description*}\n",
       "\\item[1] 0.0330823098831354\n",
       "\\item[2] -0.0146916381808552\n",
       "\\item[3] 0.206748733958356\n",
       "\\item[4] 0.136355213531834\n",
       "\\item[5] -0.345837904672133\n",
       "\\end{description*}\n"
      ],
      "text/markdown": [
       "1\n",
       ":   0.03308230988313542\n",
       ":   -0.01469163818085523\n",
       ":   0.2067487339583564\n",
       ":   0.1363552135318345\n",
       ":   -0.345837904672133\n",
       "\n"
      ],
      "text/plain": [
       "          1           2           3           4           5 \n",
       " 0.03308231 -0.01469164  0.20674873  0.13635521 -0.34583790 "
      ]
     },
     "metadata": {},
     "output_type": "display_data"
    },
    {
     "data": {
      "text/html": [
       "<style>\n",
       ".dl-inline {width: auto; margin:0; padding: 0}\n",
       ".dl-inline>dt, .dl-inline>dd {float: none; width: auto; display: inline-block}\n",
       ".dl-inline>dt::after {content: \":\\0020\"; padding-right: .5ex}\n",
       ".dl-inline>dt:not(:first-of-type) {padding-left: .5ex}\n",
       "</style><dl class=dl-inline><dt>5</dt><dd>5</dd><dt>18</dt><dd>18</dd><dt>20</dt><dd>20</dd><dt>22</dt><dd>22</dd><dt>78</dt><dd>78</dd><dt>80</dt><dd>80</dd></dl>\n"
      ],
      "text/latex": [
       "\\begin{description*}\n",
       "\\item[5] 5\n",
       "\\item[18] 18\n",
       "\\item[20] 20\n",
       "\\item[22] 22\n",
       "\\item[78] 78\n",
       "\\item[80] 80\n",
       "\\end{description*}\n"
      ],
      "text/markdown": [
       "5\n",
       ":   518\n",
       ":   1820\n",
       ":   2022\n",
       ":   2278\n",
       ":   7880\n",
       ":   80\n",
       "\n"
      ],
      "text/plain": [
       " 5 18 20 22 78 80 \n",
       " 5 18 20 22 78 80 "
      ]
     },
     "metadata": {},
     "output_type": "display_data"
    }
   ],
   "source": [
    "dff <- dffits(m1)\n",
    "dff[1:5]\n",
    "which(abs(dff) > sqrt(4*p/n))  # testando os limites"
   ]
  },
  {
   "cell_type": "markdown",
   "metadata": {},
   "source": [
    "____\n",
    "**Análise gráfica**"
   ]
  },
  {
   "cell_type": "code",
   "execution_count": 10,
   "metadata": {},
   "outputs": [
    {
     "data": {
      "image/png": "[encoded data removed]",
      "text/plain": [
       "plot without title"
      ]
     },
     "metadata": {
      "image/png": {
       "height": 420,
       "width": 420
      },
      "text/plain": {
       "height": 420,
       "width": 420
      }
     },
     "output_type": "display_data"
    }
   ],
   "source": [
    "# Gráfico de índices de resíduos ordinários\n",
    "par(mfrow = c(1, 2), mar = c(4.5, 4.5, 1, 1), las = 1)\n",
    "plot(rs, ylim = c(-5, 5))\n",
    "abline(h = c(li.rs, 0, ls.rs), lty = 2, col = c(2, 4, 2))\n",
    "\n",
    "# Gráfico de índices de DFfits\n",
    "plot(dff)\n",
    "abline(h = c(-sqrt(4*p/n), sqrt(4*p/n)), lty = 2, col = \"red\")"
   ]
  },
  {
   "cell_type": "code",
   "execution_count": 11,
   "metadata": {},
   "outputs": [
    {
     "data": {
      "image/png": "[encoded data removed]",
      "text/plain": [
       "Plot with title “Normal Q-Q Plot”"
      ]
     },
     "metadata": {
      "image/png": {
       "height": 420,
       "width": 420
      },
      "text/plain": {
       "height": 420,
       "width": 420
      }
     },
     "output_type": "display_data"
    }
   ],
   "source": [
    "# QQ-normal\n",
    "qqnorm(ro)\n",
    "qqline(ro)"
   ]
  },
  {
   "cell_type": "code",
   "execution_count": 13,
   "metadata": {},
   "outputs": [
    {
     "name": "stderr",
     "output_type": "stream",
     "text": [
      "Loading required package: MASS\n",
      "\n"
     ]
    },
    {
     "name": "stdout",
     "output_type": "stream",
     "text": [
      "Gaussian model (lm object) \n"
     ]
    },
    {
     "data": {
      "image/png": "[encoded data removed]",
      "text/plain": [
       "Plot with title “”"
      ]
     },
     "metadata": {
      "image/png": {
       "height": 420,
       "width": 420
      },
      "text/plain": {
       "height": 420,
       "width": 420
      }
     },
     "output_type": "display_data"
    }
   ],
   "source": [
    "library(\"hnp\")\n",
    "hnp(m1)"
   ]
  }
 ],
 "metadata": {
  "kernelspec": {
   "display_name": "R",
   "language": "R",
   "name": "ir"
  },
  "language_info": {
   "codemirror_mode": "r",
   "file_extension": ".r",
   "mimetype": "text/x-r-source",
   "name": "R",
   "pygments_lexer": "r",
   "version": "3.6.3"
  }
 },
 "nbformat": 4,
 "nbformat_minor": 4
}
