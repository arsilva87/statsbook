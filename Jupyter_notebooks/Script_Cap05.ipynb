{
 "cells": [
  {
   "cell_type": "markdown",
   "metadata": {},
   "source": [
    "<img align=\"right\" src = \"https://raw.githubusercontent.com/arsilva87/statsbook/main/figs/figura_thumbnail.png\" width=\"25%\" height=\"25%\">\n",
    "\n",
    "Códigos em R do livro: **Estatística Decodificada** (Silva, A.R. 2021) \n",
    "\n",
    "Capítulo 5: **O método delta**\n",
    "____"
   ]
  },
  {
   "cell_type": "markdown",
   "metadata": {},
   "source": [
    "**Exemplo 1: Precisão da média gama**"
   ]
  },
  {
   "cell_type": "code",
   "execution_count": 2,
   "metadata": {},
   "outputs": [],
   "source": [
    "x <- c(7, 6, 6, 4, 4, 3, 2, 5, 2, 4, 3, 4, 3, 2, 1)"
   ]
  },
  {
   "cell_type": "code",
   "execution_count": 3,
   "metadata": {},
   "outputs": [
    {
     "data": {
      "text/html": [
       "<dl>\n",
       "\t<dt>$par</dt>\n",
       "\t\t<dd><style>\n",
       ".dl-inline {width: auto; margin:0; padding: 0}\n",
       ".dl-inline>dt, .dl-inline>dd {float: none; width: auto; display: inline-block}\n",
       ".dl-inline>dt::after {content: \":\\0020\"; padding-right: .5ex}\n",
       ".dl-inline>dt:not(:first-of-type) {padding-left: .5ex}\n",
       "</style><dl class=dl-inline><dt>a</dt><dd>4.57184332997364</dd><dt>b</dt><dd>0.81662937506841</dd></dl>\n",
       "</dd>\n",
       "\t<dt>$value</dt>\n",
       "\t\t<dd>28.4900554680393</dd>\n",
       "\t<dt>$counts</dt>\n",
       "\t\t<dd><style>\n",
       ".dl-inline {width: auto; margin:0; padding: 0}\n",
       ".dl-inline>dt, .dl-inline>dd {float: none; width: auto; display: inline-block}\n",
       ".dl-inline>dt::after {content: \":\\0020\"; padding-right: .5ex}\n",
       ".dl-inline>dt:not(:first-of-type) {padding-left: .5ex}\n",
       "</style><dl class=dl-inline><dt>function</dt><dd>55</dd><dt>gradient</dt><dd>&lt;NA&gt;</dd></dl>\n",
       "</dd>\n",
       "\t<dt>$convergence</dt>\n",
       "\t\t<dd>0</dd>\n",
       "\t<dt>$message</dt>\n",
       "\t\t<dd>NULL</dd>\n",
       "\t<dt>$hessian</dt>\n",
       "\t\t<dd><table class=\"dataframe\">\n",
       "<caption>A matrix: 2 × 2 of type dbl</caption>\n",
       "<thead>\n",
       "\t<tr><th></th><th scope=col>a</th><th scope=col>b</th></tr>\n",
       "</thead>\n",
       "<tbody>\n",
       "\t<tr><th scope=row>a</th><td> 3.665693</td><td> 18.36819</td></tr>\n",
       "\t<tr><th scope=row>b</th><td>18.368195</td><td>102.82468</td></tr>\n",
       "</tbody>\n",
       "</table>\n",
       "</dd>\n",
       "</dl>\n"
      ],
      "text/latex": [
       "\\begin{description}\n",
       "\\item[\\$par] \\begin{description*}\n",
       "\\item[a] 4.57184332997364\n",
       "\\item[b] 0.81662937506841\n",
       "\\end{description*}\n",
       "\n",
       "\\item[\\$value] 28.4900554680393\n",
       "\\item[\\$counts] \\begin{description*}\n",
       "\\item[function] 55\n",
       "\\item[gradient] <NA>\n",
       "\\end{description*}\n",
       "\n",
       "\\item[\\$convergence] 0\n",
       "\\item[\\$message] NULL\n",
       "\\item[\\$hessian] A matrix: 2 × 2 of type dbl\n",
       "\\begin{tabular}{r|ll}\n",
       "  & a & b\\\\\n",
       "\\hline\n",
       "\ta &  3.665693 &  18.36819\\\\\n",
       "\tb & 18.368195 & 102.82468\\\\\n",
       "\\end{tabular}\n",
       "\n",
       "\\end{description}\n"
      ],
      "text/markdown": [
       "$par\n",
       ":   a\n",
       ":   4.57184332997364b\n",
       ":   0.81662937506841\n",
       "\n",
       "\n",
       "$value\n",
       ":   28.4900554680393\n",
       "$counts\n",
       ":   function\n",
       ":   55gradient\n",
       ":   &lt;NA&gt;\n",
       "\n",
       "\n",
       "$convergence\n",
       ":   0\n",
       "$message\n",
       ":   NULL\n",
       "$hessian\n",
       ":   \n",
       "A matrix: 2 × 2 of type dbl\n",
       "\n",
       "| <!--/--> | a | b |\n",
       "|---|---|---|\n",
       "| a |  3.665693 |  18.36819 |\n",
       "| b | 18.368195 | 102.82468 |\n",
       "\n",
       "\n",
       "\n",
       "\n"
      ],
      "text/plain": [
       "$par\n",
       "        a         b \n",
       "4.5718433 0.8166294 \n",
       "\n",
       "$value\n",
       "[1] 28.49006\n",
       "\n",
       "$counts\n",
       "function gradient \n",
       "      55       NA \n",
       "\n",
       "$convergence\n",
       "[1] 0\n",
       "\n",
       "$message\n",
       "NULL\n",
       "\n",
       "$hessian\n",
       "          a         b\n",
       "a  3.665693  18.36819\n",
       "b 18.368195 102.82468\n"
      ]
     },
     "metadata": {},
     "output_type": "display_data"
    }
   ],
   "source": [
    "negLogL <- function(pars) -sum(dgamma(x, shape = pars[1], scale = pars[2], log = TRUE))  # -logL\n",
    "emv <- optim(par = c(a = 6, b = 0.7), fn = negLogL, hessian = TRUE)                      # minimização\n",
    "emv                                                                                      # estimativas de MV"
   ]
  },
  {
   "cell_type": "code",
   "execution_count": 4,
   "metadata": {},
   "outputs": [
    {
     "data": {
      "text/html": [
       "<table class=\"dataframe\">\n",
       "<caption>A matrix: 2 × 2 of type dbl</caption>\n",
       "<thead>\n",
       "\t<tr><th></th><th scope=col>a</th><th scope=col>b</th></tr>\n",
       "</thead>\n",
       "<tbody>\n",
       "\t<tr><th scope=row>a</th><td> 2.6009717</td><td>-0.46462731</td></tr>\n",
       "\t<tr><th scope=row>b</th><td>-0.4646273</td><td> 0.09272448</td></tr>\n",
       "</tbody>\n",
       "</table>\n"
      ],
      "text/latex": [
       "A matrix: 2 × 2 of type dbl\n",
       "\\begin{tabular}{r|ll}\n",
       "  & a & b\\\\\n",
       "\\hline\n",
       "\ta &  2.6009717 & -0.46462731\\\\\n",
       "\tb & -0.4646273 &  0.09272448\\\\\n",
       "\\end{tabular}\n"
      ],
      "text/markdown": [
       "\n",
       "A matrix: 2 × 2 of type dbl\n",
       "\n",
       "| <!--/--> | a | b |\n",
       "|---|---|---|\n",
       "| a |  2.6009717 | -0.46462731 |\n",
       "| b | -0.4646273 |  0.09272448 |\n",
       "\n"
      ],
      "text/plain": [
       "  a          b          \n",
       "a  2.6009717 -0.46462731\n",
       "b -0.4646273  0.09272448"
      ]
     },
     "metadata": {},
     "output_type": "display_data"
    }
   ],
   "source": [
    "S <- solve(emv$hessian) # matriz de covvariância\n",
    "S"
   ]
  },
  {
   "cell_type": "code",
   "execution_count": 5,
   "metadata": {},
   "outputs": [
    {
     "data": {
      "text/plain": [
       "b"
      ]
     },
     "metadata": {},
     "output_type": "display_data"
    }
   ],
   "source": [
    "# derivada parcial de f = a*b em a\n",
    "g1 <- D(expression(a*b), \"a\")\n",
    "g1"
   ]
  },
  {
   "cell_type": "code",
   "execution_count": 6,
   "metadata": {},
   "outputs": [
    {
     "data": {
      "text/plain": [
       "a"
      ]
     },
     "metadata": {},
     "output_type": "display_data"
    }
   ],
   "source": [
    "# derivada parcial de f = a*b em b\n",
    "g2 <- D(expression(a*b), \"b\")\n",
    "g2"
   ]
  },
  {
   "cell_type": "code",
   "execution_count": 7,
   "metadata": {},
   "outputs": [
    {
     "data": {
      "text/html": [
       "<style>\n",
       ".list-inline {list-style: none; margin:0; padding: 0}\n",
       ".list-inline>li {display: inline-block}\n",
       ".list-inline>li:not(:last-child)::after {content: \"\\00b7\"; padding: 0 .5ex}\n",
       "</style>\n",
       "<ol class=list-inline><li>0.816</li><li>4.571</li></ol>\n"
      ],
      "text/latex": [
       "\\begin{enumerate*}\n",
       "\\item 0.816\n",
       "\\item 4.571\n",
       "\\end{enumerate*}\n"
      ],
      "text/markdown": [
       "1. 0.816\n",
       "2. 4.571\n",
       "\n",
       "\n"
      ],
      "text/plain": [
       "[1] 0.816 4.571"
      ]
     },
     "metadata": {},
     "output_type": "display_data"
    }
   ],
   "source": [
    "g <- c(eval(g1, list(a = 4.571, b = 0.816)), \n",
    "       eval(g2, list(a = 4.571, b = 0.816)))\n",
    "g"
   ]
  },
  {
   "cell_type": "code",
   "execution_count": 8,
   "metadata": {},
   "outputs": [
    {
     "data": {
      "text/html": [
       "0.203201413925116"
      ],
      "text/latex": [
       "0.203201413925116"
      ],
      "text/markdown": [
       "0.203201413925116"
      ],
      "text/plain": [
       "[1] 0.2032014"
      ]
     },
     "metadata": {},
     "output_type": "display_data"
    }
   ],
   "source": [
    "# variancia de f = a*b\n",
    "v <- drop( t(g) %*% S %*% g )\n",
    "v"
   ]
  },
  {
   "cell_type": "code",
   "execution_count": 9,
   "metadata": {},
   "outputs": [
    {
     "data": {
      "text/html": [
       "0.2029085184"
      ],
      "text/latex": [
       "0.2029085184"
      ],
      "text/markdown": [
       "0.2029085184"
      ],
      "text/plain": [
       "[1] 0.2029085"
      ]
     },
     "metadata": {},
     "output_type": "display_data"
    }
   ],
   "source": [
    "# Apebas checando a variância da média gama\n",
    "4.571 * 0.816^2 / 15"
   ]
  },
  {
   "cell_type": "code",
   "execution_count": 10,
   "metadata": {},
   "outputs": [
    {
     "data": {
      "text/html": [
       "2.84999159327192"
      ],
      "text/latex": [
       "2.84999159327192"
      ],
      "text/markdown": [
       "2.84999159327192"
      ],
      "text/plain": [
       "[1] 2.849992"
      ]
     },
     "metadata": {},
     "output_type": "display_data"
    },
    {
     "data": {
      "text/html": [
       "4.61701152966218"
      ],
      "text/latex": [
       "4.61701152966218"
      ],
      "text/markdown": [
       "4.61701152966218"
      ],
      "text/plain": [
       "[1] 4.617012"
      ]
     },
     "metadata": {},
     "output_type": "display_data"
    }
   ],
   "source": [
    "# Intervalo de 95% de confiança para f = a*b\n",
    "z <- qnorm(0.975)            # quantil 0.975 da normal padrão\n",
    "prod(emv$par) - z * sqrt(v)  # lim. inferior\n",
    "prod(emv$par) + z * sqrt(v)  # lim. superior"
   ]
  },
  {
   "cell_type": "code",
   "execution_count": null,
   "metadata": {},
   "outputs": [],
   "source": [
    "# Método delta com o pacote car  (instalar antes)\n",
    "# install.packages('car')\n",
    "library(car)\n",
    "deltaMethod(emv$par, \"a*b\", S)"
   ]
  },
  {
   "cell_type": "markdown",
   "metadata": {},
   "source": [
    "____\n",
    "**Exemplo 2: Precisão da DL50**"
   ]
  },
  {
   "cell_type": "markdown",
   "metadata": {},
   "source": [
    "Modelo logístico: $y = \\frac{\\exp(a + bx)}{1 + \\exp(a + bx)} + \\epsilon$\n",
    "\n",
    "Dose letal 50: $DL_{50} = -\\frac{\\hat{a}}{\\hat{b}}$"
   ]
  },
  {
   "cell_type": "code",
   "execution_count": 11,
   "metadata": {},
   "outputs": [],
   "source": [
    "dose <- c(0, 0.25, 0.5, 1, 1.5, 2)           # doses do inseticida (x)\n",
    "mort <- c(0, 0.06, 0.26, 0.89, 0.97, 0.98)   # proporção de insetos mortos (y)"
   ]
  },
  {
   "cell_type": "markdown",
   "metadata": {},
   "source": [
    "Admita as estimativas: $\\hat{a} = -3.82$ e $\\hat{b} = 5.41$\n",
    "\n",
    "Tal que: $DL_{50} = -(-3.82)/5.41 = 0.706$ g/ha"
   ]
  },
  {
   "cell_type": "code",
   "execution_count": 12,
   "metadata": {},
   "outputs": [
    {
     "data": {
      "image/png": "[encoded data removed]",
      "text/plain": [
       "plot without title"
      ]
     },
     "metadata": {
      "image/png": {
       "height": 420,
       "width": 420
      },
      "text/plain": {
       "height": 420,
       "width": 420
      }
     },
     "output_type": "display_data"
    }
   ],
   "source": [
    "# Ajuste do modelo no gráfico\n",
    "plot(mort ~ dose, ylab = \"Mortalidade\", xlab = \"Dose (g/ha)\")\n",
    "curve(exp(-3.82 + 5.41*x)/(1 + exp(-3.82 + 5.41*x)), add = TRUE)\n",
    "abline(v = 0.706, h = 0.5, lty = 2, col = \"gray\")"
   ]
  },
  {
   "cell_type": "code",
   "execution_count": 14,
   "metadata": {},
   "outputs": [
    {
     "data": {
      "text/html": [
       "<table class=\"dataframe\">\n",
       "<caption>A matrix: 2 × 2 of type dbl</caption>\n",
       "<thead>\n",
       "\t<tr><th></th><th scope=col>a</th><th scope=col>b</th></tr>\n",
       "</thead>\n",
       "<tbody>\n",
       "\t<tr><th scope=row>a</th><td> 0.098</td><td>-0.119</td></tr>\n",
       "\t<tr><th scope=row>b</th><td>-0.119</td><td> 0.189</td></tr>\n",
       "</tbody>\n",
       "</table>\n"
      ],
      "text/latex": [
       "A matrix: 2 × 2 of type dbl\n",
       "\\begin{tabular}{r|ll}\n",
       "  & a & b\\\\\n",
       "\\hline\n",
       "\ta &  0.098 & -0.119\\\\\n",
       "\tb & -0.119 &  0.189\\\\\n",
       "\\end{tabular}\n"
      ],
      "text/markdown": [
       "\n",
       "A matrix: 2 × 2 of type dbl\n",
       "\n",
       "| <!--/--> | a | b |\n",
       "|---|---|---|\n",
       "| a |  0.098 | -0.119 |\n",
       "| b | -0.119 |  0.189 |\n",
       "\n"
      ],
      "text/plain": [
       "  a      b     \n",
       "a  0.098 -0.119\n",
       "b -0.119  0.189"
      ]
     },
     "metadata": {},
     "output_type": "display_data"
    }
   ],
   "source": [
    "# Admita a matriz de covariâncias para os parânetros do modelo\n",
    "mcov <- matrix(c(0.098, -0.119, -0.119, 0.189), nrow = 2)\n",
    "rownames(mcov) <- colnames(mcov) <- c(\"a\", \"b\")\n",
    "mcov"
   ]
  },
  {
   "cell_type": "code",
   "execution_count": 15,
   "metadata": {},
   "outputs": [
    {
     "data": {
      "text/plain": [
       "-(1/b)"
      ]
     },
     "metadata": {},
     "output_type": "display_data"
    }
   ],
   "source": [
    "# derivada parcial de DL50 em função de a\n",
    "g1 <- D(expression(-a/b), \"a\")\n",
    "g1"
   ]
  },
  {
   "cell_type": "code",
   "execution_count": 16,
   "metadata": {},
   "outputs": [
    {
     "data": {
      "text/plain": [
       "a/b^2"
      ]
     },
     "metadata": {},
     "output_type": "display_data"
    }
   ],
   "source": [
    "# derivada parcial em função de b\n",
    "g2 <- D(expression(-a/b), \"b\")\n",
    "g2"
   ]
  },
  {
   "cell_type": "code",
   "execution_count": 17,
   "metadata": {},
   "outputs": [
    {
     "data": {
      "text/html": [
       "<style>\n",
       ".list-inline {list-style: none; margin:0; padding: 0}\n",
       ".list-inline>li {display: inline-block}\n",
       ".list-inline>li:not(:last-child)::after {content: \"\\00b7\"; padding: 0 .5ex}\n",
       "</style>\n",
       "<ol class=list-inline><li>-0.184842883548983</li><li>-0.130517525907046</li></ol>\n"
      ],
      "text/latex": [
       "\\begin{enumerate*}\n",
       "\\item -0.184842883548983\n",
       "\\item -0.130517525907046\n",
       "\\end{enumerate*}\n"
      ],
      "text/markdown": [
       "1. -0.184842883548983\n",
       "2. -0.130517525907046\n",
       "\n",
       "\n"
      ],
      "text/plain": [
       "[1] -0.1848429 -0.1305175"
      ]
     },
     "metadata": {},
     "output_type": "display_data"
    }
   ],
   "source": [
    "# vetor de gradientes\n",
    "g <- c(eval(g1, list(a = -3.82, b = 5.41)), \n",
    "       eval(g2, list(a = -3.82, b = 5.41)))\n",
    "g"
   ]
  },
  {
   "cell_type": "code",
   "execution_count": 18,
   "metadata": {},
   "outputs": [
    {
     "data": {
      "text/html": [
       "<table class=\"dataframe\">\n",
       "<caption>A matrix: 1 × 1 of type dbl</caption>\n",
       "<tbody>\n",
       "\t<tr><td>0.0287425</td></tr>\n",
       "</tbody>\n",
       "</table>\n"
      ],
      "text/latex": [
       "A matrix: 1 × 1 of type dbl\n",
       "\\begin{tabular}{l}\n",
       "\t 0.0287425\\\\\n",
       "\\end{tabular}\n"
      ],
      "text/markdown": [
       "\n",
       "A matrix: 1 × 1 of type dbl\n",
       "\n",
       "| 0.0287425 |\n",
       "\n"
      ],
      "text/plain": [
       "     [,1]     \n",
       "[1,] 0.0287425"
      ]
     },
     "metadata": {},
     "output_type": "display_data"
    }
   ],
   "source": [
    "# desvio padrão da DL50\n",
    "sqrt(t(g) %*% mcov %*% g)"
   ]
  },
  {
   "cell_type": "code",
   "execution_count": null,
   "metadata": {},
   "outputs": [],
   "source": [
    "# com o pacote car\n",
    "deltaMethod(c(a = -3.82, b = 5.41), \"-a/b\", mcov)"
   ]
  },
  {
   "cell_type": "markdown",
   "metadata": {},
   "source": [
    "____\n",
    "**Exercício:** calcule o desvio padrão de \n",
    "\n",
    "$S = -n(\\theta_S - \\theta_R) (1 + 1/m)^{-(1 + m)} $"
   ]
  },
  {
   "cell_type": "code",
   "execution_count": 19,
   "metadata": {},
   "outputs": [
    {
     "data": {
      "image/png": "[encoded data removed]",
      "text/plain": [
       "plot without title"
      ]
     },
     "metadata": {
      "image/png": {
       "height": 420,
       "width": 420
      },
      "text/plain": {
       "height": 420,
       "width": 420
      }
     },
     "output_type": "display_data"
    }
   ],
   "source": [
    "# dados\n",
    "h <- c(0.001, 50.65, 293.77, 790.14, 992.74, 5065, 10130, 15195)\n",
    "w <- c(0.5650, 0.4013, 0.2502, 0.2324, 0.2307, 0.1926, 0.1812, 0.1730)\n",
    "plot(h, w)"
   ]
  },
  {
   "cell_type": "code",
   "execution_count": null,
   "metadata": {},
   "outputs": [],
   "source": []
  }
 ],
 "metadata": {
  "kernelspec": {
   "display_name": "R",
   "language": "R",
   "name": "ir"
  },
  "language_info": {
   "codemirror_mode": "r",
   "file_extension": ".r",
   "mimetype": "text/x-r-source",
   "name": "R",
   "pygments_lexer": "r",
   "version": "3.6.3"
  }
 },
 "nbformat": 4,
 "nbformat_minor": 4
}
