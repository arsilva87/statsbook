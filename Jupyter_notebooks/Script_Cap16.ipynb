{
 "cells": [
  {
   "cell_type": "markdown",
   "metadata": {},
   "source": [
    "<img align=\"right\" src = \"https://raw.githubusercontent.com/arsilva87/statsbook/main/figs/figura_thumbnail.png\" width=\"25%\" height=\"25%\">\n",
    "\n",
    "Códigos em R do livro: **Estatística Decodificada** (Silva, A.R. 2021) \n",
    "\n",
    "Capítulo 16: **Análise de covariância**\n",
    "____"
   ]
  },
  {
   "cell_type": "markdown",
   "metadata": {},
   "source": [
    "**Exemplo de aplicação**"
   ]
  },
  {
   "cell_type": "code",
   "execution_count": 1,
   "metadata": {},
   "outputs": [
    {
     "name": "stdout",
     "output_type": "stream",
     "text": [
      "'data.frame':\t20 obs. of  3 variables:\n",
      " $ trt: Factor w/ 2 levels \"1\",\"2\": 1 1 1 1 1 1 1 1 1 1 ...\n",
      " $ x  : num  58.4 50.9 60.5 51.3 68.4 51.7 49.8 57.1 67.7 59 ...\n",
      " $ y  : num  51.4 47.9 48.5 41.3 58.4 39.7 44.8 45.1 55.7 50 ...\n"
     ]
    }
   ],
   "source": [
    "# Experimento em DIC com dois tratamentos; y é a variável resposta; x é a covariável.\n",
    "soja <- read.csv(\"https://raw.githubusercontent.com/arsilva87/statsbook/main/datasets/ancova.csv\", \n",
    "                 colClasses = c(\"factor\", \"numeric\", \"numeric\"))\n",
    "str(soja)"
   ]
  },
  {
   "cell_type": "code",
   "execution_count": 2,
   "metadata": {},
   "outputs": [
    {
     "data": {
      "text/html": [
       "<table>\n",
       "<caption>A data.frame: 2 × 2</caption>\n",
       "<thead>\n",
       "\t<tr><th scope=col>trt</th><th scope=col>y</th></tr>\n",
       "\t<tr><th scope=col>&lt;fct&gt;</th><th scope=col>&lt;dbl&gt;</th></tr>\n",
       "</thead>\n",
       "<tbody>\n",
       "\t<tr><td>1</td><td>48.28</td></tr>\n",
       "\t<tr><td>2</td><td>50.12</td></tr>\n",
       "</tbody>\n",
       "</table>\n"
      ],
      "text/latex": [
       "A data.frame: 2 × 2\n",
       "\\begin{tabular}{ll}\n",
       " trt & y\\\\\n",
       " <fct> & <dbl>\\\\\n",
       "\\hline\n",
       "\t 1 & 48.28\\\\\n",
       "\t 2 & 50.12\\\\\n",
       "\\end{tabular}\n"
      ],
      "text/markdown": [
       "\n",
       "A data.frame: 2 × 2\n",
       "\n",
       "| trt &lt;fct&gt; | y &lt;dbl&gt; |\n",
       "|---|---|\n",
       "| 1 | 48.28 |\n",
       "| 2 | 50.12 |\n",
       "\n"
      ],
      "text/plain": [
       "  trt y    \n",
       "1 1   48.28\n",
       "2 2   50.12"
      ]
     },
     "metadata": {},
     "output_type": "display_data"
    }
   ],
   "source": [
    "# Médias por trt\n",
    "aggregate(y ~ trt, data = soja, FUN = mean)"
   ]
  },
  {
   "cell_type": "code",
   "execution_count": 3,
   "metadata": {},
   "outputs": [
    {
     "data": {
      "text/html": [
       "<table>\n",
       "<caption>A anova: 2 × 5</caption>\n",
       "<thead>\n",
       "\t<tr><th></th><th scope=col>Df</th><th scope=col>Sum Sq</th><th scope=col>Mean Sq</th><th scope=col>F value</th><th scope=col>Pr(&gt;F)</th></tr>\n",
       "\t<tr><th></th><th scope=col>&lt;int&gt;</th><th scope=col>&lt;dbl&gt;</th><th scope=col>&lt;dbl&gt;</th><th scope=col>&lt;dbl&gt;</th><th scope=col>&lt;dbl&gt;</th></tr>\n",
       "</thead>\n",
       "<tbody>\n",
       "\t<tr><th scope=row>trt</th><td> 1</td><td> 16.928</td><td>16.92800</td><td>0.5326323</td><td>0.4748937</td></tr>\n",
       "\t<tr><th scope=row>Residuals</th><td>18</td><td>572.072</td><td>31.78178</td><td>       NA</td><td>       NA</td></tr>\n",
       "</tbody>\n",
       "</table>\n"
      ],
      "text/latex": [
       "A anova: 2 × 5\n",
       "\\begin{tabular}{r|lllll}\n",
       "  & Df & Sum Sq & Mean Sq & F value & Pr(>F)\\\\\n",
       "  & <int> & <dbl> & <dbl> & <dbl> & <dbl>\\\\\n",
       "\\hline\n",
       "\ttrt &  1 &  16.928 & 16.92800 & 0.5326323 & 0.4748937\\\\\n",
       "\tResiduals & 18 & 572.072 & 31.78178 &        NA &        NA\\\\\n",
       "\\end{tabular}\n"
      ],
      "text/markdown": [
       "\n",
       "A anova: 2 × 5\n",
       "\n",
       "| <!--/--> | Df &lt;int&gt; | Sum Sq &lt;dbl&gt; | Mean Sq &lt;dbl&gt; | F value &lt;dbl&gt; | Pr(&gt;F) &lt;dbl&gt; |\n",
       "|---|---|---|---|---|---|\n",
       "| trt |  1 |  16.928 | 16.92800 | 0.5326323 | 0.4748937 |\n",
       "| Residuals | 18 | 572.072 | 31.78178 |        NA |        NA |\n",
       "\n"
      ],
      "text/plain": [
       "          Df Sum Sq  Mean Sq  F value   Pr(>F)   \n",
       "trt        1  16.928 16.92800 0.5326323 0.4748937\n",
       "Residuals 18 572.072 31.78178        NA        NA"
      ]
     },
     "metadata": {},
     "output_type": "display_data"
    }
   ],
   "source": [
    "# ANOVA\n",
    "anova(lm(y ~ trt, data = soja))"
   ]
  },
  {
   "cell_type": "code",
   "execution_count": 4,
   "metadata": {},
   "outputs": [
    {
     "data": {
      "text/plain": [
       "\n",
       "Call:\n",
       "lm(formula = y ~ I(x - mean(x)) + trt, data = soja)\n",
       "\n",
       "Coefficients:\n",
       "   (Intercept)  I(x - mean(x))            trt2  \n",
       "       47.0969          0.8273          4.2061  \n"
      ]
     },
     "metadata": {},
     "output_type": "display_data"
    }
   ],
   "source": [
    "# Ajuste do modelo de ANCOVA\n",
    "mod <- lm(y ~ I(x - mean(x)) + trt, data = soja)\n",
    "mod"
   ]
  },
  {
   "cell_type": "code",
   "execution_count": 5,
   "metadata": {},
   "outputs": [
    {
     "data": {
      "text/html": [
       "<table>\n",
       "<caption>A anova: 3 × 5</caption>\n",
       "<thead>\n",
       "\t<tr><th></th><th scope=col>Df</th><th scope=col>Sum Sq</th><th scope=col>Mean Sq</th><th scope=col>F value</th><th scope=col>Pr(&gt;F)</th></tr>\n",
       "\t<tr><th></th><th scope=col>&lt;int&gt;</th><th scope=col>&lt;dbl&gt;</th><th scope=col>&lt;dbl&gt;</th><th scope=col>&lt;dbl&gt;</th><th scope=col>&lt;dbl&gt;</th></tr>\n",
       "</thead>\n",
       "<tbody>\n",
       "\t<tr><th scope=row>I(x - mean(x))</th><td> 1</td><td>391.49213</td><td>391.492133</td><td>58.30514</td><td>6.843005e-07</td></tr>\n",
       "\t<tr><th scope=row>trt</th><td> 1</td><td> 83.36071</td><td> 83.360713</td><td>12.41496</td><td>2.607793e-03</td></tr>\n",
       "\t<tr><th scope=row>Residuals</th><td>17</td><td>114.14715</td><td>  6.714538</td><td>      NA</td><td>          NA</td></tr>\n",
       "</tbody>\n",
       "</table>\n"
      ],
      "text/latex": [
       "A anova: 3 × 5\n",
       "\\begin{tabular}{r|lllll}\n",
       "  & Df & Sum Sq & Mean Sq & F value & Pr(>F)\\\\\n",
       "  & <int> & <dbl> & <dbl> & <dbl> & <dbl>\\\\\n",
       "\\hline\n",
       "\tI(x - mean(x)) &  1 & 391.49213 & 391.492133 & 58.30514 & 6.843005e-07\\\\\n",
       "\ttrt &  1 &  83.36071 &  83.360713 & 12.41496 & 2.607793e-03\\\\\n",
       "\tResiduals & 17 & 114.14715 &   6.714538 &       NA &           NA\\\\\n",
       "\\end{tabular}\n"
      ],
      "text/markdown": [
       "\n",
       "A anova: 3 × 5\n",
       "\n",
       "| <!--/--> | Df &lt;int&gt; | Sum Sq &lt;dbl&gt; | Mean Sq &lt;dbl&gt; | F value &lt;dbl&gt; | Pr(&gt;F) &lt;dbl&gt; |\n",
       "|---|---|---|---|---|---|\n",
       "| I(x - mean(x)) |  1 | 391.49213 | 391.492133 | 58.30514 | 6.843005e-07 |\n",
       "| trt |  1 |  83.36071 |  83.360713 | 12.41496 | 2.607793e-03 |\n",
       "| Residuals | 17 | 114.14715 |   6.714538 |       NA |           NA |\n",
       "\n"
      ],
      "text/plain": [
       "               Df Sum Sq    Mean Sq    F value  Pr(>F)      \n",
       "I(x - mean(x))  1 391.49213 391.492133 58.30514 6.843005e-07\n",
       "trt             1  83.36071  83.360713 12.41496 2.607793e-03\n",
       "Residuals      17 114.14715   6.714538       NA           NA"
      ]
     },
     "metadata": {},
     "output_type": "display_data"
    }
   ],
   "source": [
    "# Tabela de ANCOVA\n",
    "anova(mod)"
   ]
  },
  {
   "cell_type": "code",
   "execution_count": 7,
   "metadata": {},
   "outputs": [
    {
     "data": {
      "text/plain": [
       " contrast estimate   SE df t.ratio p.value\n",
       " 1 - 2       -4.21 1.19 17 -3.523  0.0026 \n"
      ]
     },
     "metadata": {},
     "output_type": "display_data"
    }
   ],
   "source": [
    "# Comparação de médias ajustadas\n",
    "library(emmeans)\n",
    "pairs(lsmeans(mod, \"trt\"))"
   ]
  },
  {
   "cell_type": "code",
   "execution_count": null,
   "metadata": {},
   "outputs": [],
   "source": []
  }
 ],
 "metadata": {
  "kernelspec": {
   "display_name": "R",
   "language": "R",
   "name": "ir"
  },
  "language_info": {
   "codemirror_mode": "r",
   "file_extension": ".r",
   "mimetype": "text/x-r-source",
   "name": "R",
   "pygments_lexer": "r",
   "version": "3.6.3"
  }
 },
 "nbformat": 4,
 "nbformat_minor": 4
}
