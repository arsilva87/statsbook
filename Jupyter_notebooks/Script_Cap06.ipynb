{
 "cells": [
  {
   "cell_type": "markdown",
   "metadata": {},
   "source": [
    "<img align=\"right\" src = \"https://raw.githubusercontent.com/arsilva87/statsbook/main/figs/figura_thumbnail.png\" width=\"25%\" height=\"25%\">\n",
    "\n",
    "Códigos em R do livro: **Estatística Decodificada** (Silva, A.R. 2021) \n",
    "\n",
    "Capítulo 6: **O bootstrap**\n",
    "____"
   ]
  },
  {
   "cell_type": "markdown",
   "metadata": {},
   "source": [
    "**Exemplo 1: mediana gama**"
   ]
  },
  {
   "cell_type": "code",
   "execution_count": 1,
   "metadata": {},
   "outputs": [
    {
     "data": {
      "text/html": [
       "4"
      ],
      "text/latex": [
       "4"
      ],
      "text/markdown": [
       "4"
      ],
      "text/plain": [
       "[1] 4"
      ]
     },
     "metadata": {},
     "output_type": "display_data"
    }
   ],
   "source": [
    "x <- c(7, 6, 6, 4, 4, 3, 2, 5, 2, 4, 3, 4, 3, 2, 1)   # amostra\n",
    "median(x)"
   ]
  },
  {
   "cell_type": "code",
   "execution_count": 26,
   "metadata": {},
   "outputs": [
    {
     "data": {
      "text/html": [
       "0.6101411904406"
      ],
      "text/latex": [
       "0.6101411904406"
      ],
      "text/markdown": [
       "0.6101411904406"
      ],
      "text/plain": [
       "[1] 0.6101412"
      ]
     },
     "metadata": {},
     "output_type": "display_data"
    }
   ],
   "source": [
    "nboot <- 1000                                                     # n de reamostragens bootstrap\n",
    "md <- c()\n",
    "for(i in 1:nboot) md[i] <- median(sample(x, replace = TRUE))      # reamostragens bootstrap\n",
    "sd(md)                                                            # desvio padrão da mediana de x "
   ]
  },
  {
   "cell_type": "code",
   "execution_count": 27,
   "metadata": {},
   "outputs": [
    {
     "data": {
      "text/html": [
       "<style>\n",
       ".dl-inline {width: auto; margin:0; padding: 0}\n",
       ".dl-inline>dt, .dl-inline>dd {float: none; width: auto; display: inline-block}\n",
       ".dl-inline>dt::after {content: \":\\0020\"; padding-right: .5ex}\n",
       ".dl-inline>dt:not(:first-of-type) {padding-left: .5ex}\n",
       "</style><dl class=dl-inline><dt>2.5%</dt><dd>3</dd><dt>97.5%</dt><dd>5</dd></dl>\n"
      ],
      "text/latex": [
       "\\begin{description*}\n",
       "\\item[2.5\\textbackslash{}\\%] 3\n",
       "\\item[97.5\\textbackslash{}\\%] 5\n",
       "\\end{description*}\n"
      ],
      "text/markdown": [
       "2.5%\n",
       ":   397.5%\n",
       ":   5\n",
       "\n"
      ],
      "text/plain": [
       " 2.5% 97.5% \n",
       "    3     5 "
      ]
     },
     "metadata": {},
     "output_type": "display_data"
    }
   ],
   "source": [
    "# Intervalo percentílico de 95% de confiança para a mediana\n",
    "quantile(md, p = c(0.025, 0.975))"
   ]
  },
  {
   "cell_type": "markdown",
   "metadata": {},
   "source": [
    "____\n",
    "**Exemplo 2: índice de diversidade de Shannon**\n",
    "\n",
    "$H' = -\\sum_{i=1}^s p_i \\log(p_i)$"
   ]
  },
  {
   "cell_type": "code",
   "execution_count": 4,
   "metadata": {},
   "outputs": [],
   "source": [
    "p <- c(0.06, 0.10, 0.25, 0.12, 0.30, 0.17)   # amostra"
   ]
  },
  {
   "cell_type": "code",
   "execution_count": 5,
   "metadata": {},
   "outputs": [
    {
     "data": {
      "text/html": [
       "1.66249287135519"
      ],
      "text/latex": [
       "1.66249287135519"
      ],
      "text/markdown": [
       "1.66249287135519"
      ],
      "text/plain": [
       "[1] 1.662493"
      ]
     },
     "metadata": {},
     "output_type": "display_data"
    }
   ],
   "source": [
    "H <- function(x) -sum(x * log(x))  # Shannon\n",
    "H(p)"
   ]
  },
  {
   "cell_type": "code",
   "execution_count": 6,
   "metadata": {},
   "outputs": [
    {
     "data": {
      "text/html": [
       "1.67314367136944"
      ],
      "text/latex": [
       "1.67314367136944"
      ],
      "text/markdown": [
       "1.67314367136944"
      ],
      "text/plain": [
       "[1] 1.673144"
      ]
     },
     "metadata": {},
     "output_type": "display_data"
    },
    {
     "data": {
      "text/html": [
       "0.162481117670935"
      ],
      "text/latex": [
       "0.162481117670935"
      ],
      "text/markdown": [
       "0.162481117670935"
      ],
      "text/plain": [
       "[1] 0.1624811"
      ]
     },
     "metadata": {},
     "output_type": "display_data"
    }
   ],
   "source": [
    "# Bootstrap\n",
    "nboot <- 1000\n",
    "Hb <- c()\n",
    "for(i in 1:nboot) Hb[i] <- H(sample(p, replace = TRUE))\n",
    "\n",
    "# Média e desvio padrão de H'\n",
    "mean(Hb)\n",
    "sd(Hb)"
   ]
  },
  {
   "cell_type": "code",
   "execution_count": null,
   "metadata": {},
   "outputs": [],
   "source": []
  }
 ],
 "metadata": {
  "kernelspec": {
   "display_name": "R",
   "language": "R",
   "name": "ir"
  },
  "language_info": {
   "codemirror_mode": "r",
   "file_extension": ".r",
   "mimetype": "text/x-r-source",
   "name": "R",
   "pygments_lexer": "r",
   "version": "3.6.3"
  }
 },
 "nbformat": 4,
 "nbformat_minor": 4
}
