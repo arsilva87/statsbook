{
 "cells": [
  {
   "cell_type": "markdown",
   "metadata": {},
   "source": [
    "<img align=\"right\" src = \"https://raw.githubusercontent.com/arsilva87/statsbook/main/figs/figura_thumbnail.png\" width=\"25%\" height=\"25%\">\n",
    "\n",
    "Códigos em R do livro: **Estatística Decodificada** (Silva, A.R. 2021) \n",
    "\n",
    "Capítulo 17: **Experimentos multifatores**\n",
    "____"
   ]
  },
  {
   "cell_type": "markdown",
   "metadata": {},
   "source": [
    "**Estruturas dos fatores, tipos de efeito e interação**"
   ]
  },
  {
   "cell_type": "code",
   "execution_count": 1,
   "metadata": {},
   "outputs": [
    {
     "name": "stdout",
     "output_type": "stream",
     "text": [
      "'data.frame':\t36 obs. of  5 variables:\n",
      " $ variedade: Factor w/ 3 levels \"A\",\"B\",\"C\": 1 2 3 1 2 3 1 2 3 1 ...\n",
      " $ vinhaca  : int  0 0 0 0 0 0 0 0 0 500 ...\n",
      " $ bloco    : Factor w/ 3 levels \"1\",\"2\",\"3\": 1 1 1 2 2 2 3 3 3 1 ...\n",
      " $ producao : int  69 65 71 66 67 73 68 64 70 72 ...\n",
      " $ vinhacaf : Ord.factor w/ 4 levels \"0\"<\"500\"<\"1000\"<..: 1 1 1 1 1 1 1 1 1 2 ...\n"
     ]
    }
   ],
   "source": [
    "# dados\n",
    "cana <- read.csv(\"https://raw.githubusercontent.com/arsilva87/statsbook/main/datasets/vinhaca.csv\")\n",
    "cana$vinhacaf <- ordered(cana$vinhaca)\n",
    "cana$bloco <- as.factor(cana$bloco)\n",
    "str(cana)"
   ]
  },
  {
   "cell_type": "code",
   "execution_count": 2,
   "metadata": {},
   "outputs": [
    {
     "data": {
      "image/png": "[encoded data removed]",
      "text/plain": [
       "plot without title"
      ]
     },
     "metadata": {
      "image/png": {
       "height": 420,
       "width": 420
      },
      "text/plain": {
       "height": 420,
       "width": 420
      }
     },
     "output_type": "display_data"
    }
   ],
   "source": [
    "# gráfico de interação\n",
    "with(cana, interaction.plot(x.factor = vinhaca, \n",
    "                            trace.factor = variedade, response = producao))"
   ]
  },
  {
   "cell_type": "markdown",
   "metadata": {},
   "source": [
    "____\n",
    "**Experimentos fatoriais**"
   ]
  },
  {
   "cell_type": "code",
   "execution_count": 3,
   "metadata": {},
   "outputs": [
    {
     "data": {
      "text/html": [
       "<table class=\"dataframe\">\n",
       "<caption>A anova: 5 × 5</caption>\n",
       "<thead>\n",
       "\t<tr><th></th><th scope=col>Df</th><th scope=col>Sum Sq</th><th scope=col>Mean Sq</th><th scope=col>F value</th><th scope=col>Pr(&gt;F)</th></tr>\n",
       "\t<tr><th></th><th scope=col>&lt;int&gt;</th><th scope=col>&lt;dbl&gt;</th><th scope=col>&lt;dbl&gt;</th><th scope=col>&lt;dbl&gt;</th><th scope=col>&lt;dbl&gt;</th></tr>\n",
       "</thead>\n",
       "<tbody>\n",
       "\t<tr><th scope=row>bloco</th><td> 2</td><td>  3.388889</td><td>  1.694444</td><td> 0.7668571</td><td>4.764905e-01</td></tr>\n",
       "\t<tr><th scope=row>variedade</th><td> 2</td><td>278.222222</td><td>139.111111</td><td>62.9577143</td><td>7.879547e-10</td></tr>\n",
       "\t<tr><th scope=row>vinhacaf</th><td> 3</td><td>226.305556</td><td> 75.435185</td><td>34.1398095</td><td>1.870630e-08</td></tr>\n",
       "\t<tr><th scope=row>variedade:vinhacaf</th><td> 6</td><td> 39.777778</td><td>  6.629630</td><td> 3.0003810</td><td>2.689435e-02</td></tr>\n",
       "\t<tr><th scope=row>Residuals</th><td>22</td><td> 48.611111</td><td>  2.209596</td><td>        NA</td><td>          NA</td></tr>\n",
       "</tbody>\n",
       "</table>\n"
      ],
      "text/latex": [
       "A anova: 5 × 5\n",
       "\\begin{tabular}{r|lllll}\n",
       "  & Df & Sum Sq & Mean Sq & F value & Pr(>F)\\\\\n",
       "  & <int> & <dbl> & <dbl> & <dbl> & <dbl>\\\\\n",
       "\\hline\n",
       "\tbloco &  2 &   3.388889 &   1.694444 &  0.7668571 & 4.764905e-01\\\\\n",
       "\tvariedade &  2 & 278.222222 & 139.111111 & 62.9577143 & 7.879547e-10\\\\\n",
       "\tvinhacaf &  3 & 226.305556 &  75.435185 & 34.1398095 & 1.870630e-08\\\\\n",
       "\tvariedade:vinhacaf &  6 &  39.777778 &   6.629630 &  3.0003810 & 2.689435e-02\\\\\n",
       "\tResiduals & 22 &  48.611111 &   2.209596 &         NA &           NA\\\\\n",
       "\\end{tabular}\n"
      ],
      "text/markdown": [
       "\n",
       "A anova: 5 × 5\n",
       "\n",
       "| <!--/--> | Df &lt;int&gt; | Sum Sq &lt;dbl&gt; | Mean Sq &lt;dbl&gt; | F value &lt;dbl&gt; | Pr(&gt;F) &lt;dbl&gt; |\n",
       "|---|---|---|---|---|---|\n",
       "| bloco |  2 |   3.388889 |   1.694444 |  0.7668571 | 4.764905e-01 |\n",
       "| variedade |  2 | 278.222222 | 139.111111 | 62.9577143 | 7.879547e-10 |\n",
       "| vinhacaf |  3 | 226.305556 |  75.435185 | 34.1398095 | 1.870630e-08 |\n",
       "| variedade:vinhacaf |  6 |  39.777778 |   6.629630 |  3.0003810 | 2.689435e-02 |\n",
       "| Residuals | 22 |  48.611111 |   2.209596 |         NA |           NA |\n",
       "\n"
      ],
      "text/plain": [
       "                   Df Sum Sq     Mean Sq    F value    Pr(>F)      \n",
       "bloco               2   3.388889   1.694444  0.7668571 4.764905e-01\n",
       "variedade           2 278.222222 139.111111 62.9577143 7.879547e-10\n",
       "vinhacaf            3 226.305556  75.435185 34.1398095 1.870630e-08\n",
       "variedade:vinhacaf  6  39.777778   6.629630  3.0003810 2.689435e-02\n",
       "Residuals          22  48.611111   2.209596         NA           NA"
      ]
     },
     "metadata": {},
     "output_type": "display_data"
    }
   ],
   "source": [
    "# Ajuste do modelo e tabela de ANOVA\n",
    "lm.vinhaca <- lm(producao ~ bloco + variedade * vinhacaf, data = cana)\n",
    "anova(lm.vinhaca)"
   ]
  },
  {
   "cell_type": "code",
   "execution_count": 4,
   "metadata": {},
   "outputs": [
    {
     "data": {
      "text/plain": [
       "\n",
       "\tShapiro-Wilk normality test\n",
       "\n",
       "data:  res\n",
       "W = 0.93231, p-value = 0.02943\n"
      ]
     },
     "metadata": {},
     "output_type": "display_data"
    }
   ],
   "source": [
    "# teste de normalidade residual\n",
    "res <- residuals(lm.vinhaca)\n",
    "shapiro.test(res)"
   ]
  },
  {
   "cell_type": "code",
   "execution_count": 5,
   "metadata": {},
   "outputs": [
    {
     "data": {
      "text/plain": [
       "\n",
       "\tBartlett test of homogeneity of variances\n",
       "\n",
       "data:  res by factor(vinhacaf:variedade)\n",
       "Bartlett's K-squared = 2.5247, df = 11, p-value = 0.9956\n"
      ]
     },
     "metadata": {},
     "output_type": "display_data"
    }
   ],
   "source": [
    "# teste de homocedasticidade\n",
    "bartlett.test(res ~ factor(vinhacaf:variedade), data = cana)"
   ]
  },
  {
   "cell_type": "code",
   "execution_count": 27,
   "metadata": {},
   "outputs": [
    {
     "name": "stderr",
     "output_type": "stream",
     "text": [
      "\n",
      "Attaching package: ‘ExpDes’\n",
      "\n",
      "\n",
      "The following object is masked from ‘package:stats’:\n",
      "\n",
      "    ccf\n",
      "\n",
      "\n"
     ]
    },
    {
     "name": "stdout",
     "output_type": "stream",
     "text": [
      "\n",
      "Student-Newman-Keuls's test (SNK)\n",
      "------------------------------------------------------------------------\n",
      "Groups  Treatments  Means\n",
      "a \t C \t     71.33333 \n",
      " b \t A \t     67.66667 \n",
      " b \t B \t     65.33333 \n",
      "------------------------------------------------------------------------\n"
     ]
    }
   ],
   "source": [
    "# análise da interação: comparação de variedades na dose 0 de vinhaça\n",
    "library(ExpDes)\n",
    "with(subset(cana, vinhaca == 0),\n",
    "     snk(y = producao, trt = variedade, DFerror = 22, SSerror = 48.611, alpha = 0.05))"
   ]
  },
  {
   "cell_type": "code",
   "execution_count": 28,
   "metadata": {},
   "outputs": [
    {
     "name": "stdout",
     "output_type": "stream",
     "text": [
      "\n",
      "Student-Newman-Keuls's test (SNK)\n",
      "------------------------------------------------------------------------\n",
      "Groups  Treatments  Means\n",
      "a \t C \t     77.33333 \n",
      " b \t B \t     71.66667 \n",
      " b \t A \t     71 \n",
      "------------------------------------------------------------------------\n"
     ]
    }
   ],
   "source": [
    "# comparação de variedades na dose 500 de vinhaça\n",
    "with(subset(cana, vinhaca == 500),\n",
    "     snk(y = producao, trt = variedade, DFerror = 22, SSerror = 48.611, alpha = 0.05))"
   ]
  },
  {
   "cell_type": "code",
   "execution_count": 29,
   "metadata": {},
   "outputs": [
    {
     "name": "stdout",
     "output_type": "stream",
     "text": [
      "------------------------------------------------------------------------\n",
      "Legend:\n",
      "FACTOR 1:  Variedade \n",
      "FACTOR 2:  Dose \n",
      "------------------------------------------------------------------------\n",
      "\n",
      "\n",
      "Analysis of Variance Table\n",
      "------------------------------------------------------------------------\n",
      "               DF     SS      MS     Fc   Pr>Fc\n",
      "Block           2   3.39   1.694  0.767 0.47649\n",
      "Variedade       2 278.22 139.111 62.958 0.00000\n",
      "Dose            3 226.31  75.435 34.140 0.00000\n",
      "Variedade*Dose  6  39.78   6.630  3.000 0.02689\n",
      "Residuals      22  48.61   2.210               \n",
      "Total          35 596.31                       \n",
      "------------------------------------------------------------------------\n",
      "CV = 2.08 %\n",
      "\n",
      "------------------------------------------------------------------------\n",
      "Shapiro-Wilk normality test\n",
      "p-value:  0.02942988 \n",
      "WARNING: at 5% of significance, residuals can not be considered normal!\n",
      "------------------------------------------------------------------------\n",
      "\n",
      "\n",
      "\n",
      "Significant interaction: analyzing the interaction\n",
      "------------------------------------------------------------------------\n",
      "\n",
      "Analyzing  Variedade  inside of each level of  Dose \n",
      "------------------------------------------------------------------------\n",
      "------------------------------------------------------------------------\n",
      "Analysis of Variance Table\n",
      "------------------------------------------------------------------------\n",
      "                    DF        SS       MS      Fc  Pr.Fc\n",
      "Block                2   3.38889  1.69444  0.7669 0.4765\n",
      "Dose                 3 226.30556 75.43519 34.1398      0\n",
      "Variedade:Dose 0     2  54.88889 27.44444 12.4206  2e-04\n",
      "Variedade:Dose 500   2  72.66667 36.33333 16.4434      0\n",
      "Variedade:Dose 1000  2  54.22222 27.11111 12.2697  3e-04\n",
      "Variedade:Dose 1500  2 136.22222 68.11111 30.8251      0\n",
      "Residuals           22  48.61111   2.2096               \n",
      "Total               35 596.30556                        \n",
      "------------------------------------------------------------------------\n",
      "\n",
      "\n",
      "\n",
      " Variedade  inside of the level  0  of  Dose \n",
      "------------------------------------------------------------------------\n",
      "Student-Newman-Keuls's test (SNK)\n",
      "------------------------------------------------------------------------\n",
      "Groups  Treatments  Means\n",
      "a \t 3 \t     71.33333 \n",
      " b \t 1 \t     67.66667 \n",
      " b \t 2 \t     65.33333 \n",
      "------------------------------------------------------------------------\n",
      "\n",
      "\n",
      " Variedade  inside of the level  500  of  Dose \n",
      "------------------------------------------------------------------------\n",
      "Student-Newman-Keuls's test (SNK)\n",
      "------------------------------------------------------------------------\n",
      "Groups  Treatments  Means\n",
      "a \t 3 \t     77.33333 \n",
      " b \t 2 \t     71.66667 \n",
      " b \t 1 \t     71 \n",
      "------------------------------------------------------------------------\n",
      "\n",
      "\n",
      " Variedade  inside of the level  1000  of  Dose \n",
      "------------------------------------------------------------------------\n",
      "Student-Newman-Keuls's test (SNK)\n",
      "------------------------------------------------------------------------\n",
      "Groups  Treatments  Means\n",
      "a \t 3 \t     77.33333 \n",
      " b \t 2 \t     74 \n",
      "  c \t 1 \t     71.33333 \n",
      "------------------------------------------------------------------------\n",
      "\n",
      "\n",
      " Variedade  inside of the level  1500  of  Dose \n",
      "------------------------------------------------------------------------\n",
      "Student-Newman-Keuls's test (SNK)\n",
      "------------------------------------------------------------------------\n",
      "Groups  Treatments  Means\n",
      "a \t 3 \t     75 \n",
      " b \t 2 \t     68.66667 \n",
      "  c \t 1 \t     65.66667 \n",
      "------------------------------------------------------------------------\n",
      "\n",
      "\n",
      "\n",
      "Analyzing  Dose  inside of each level of  Variedade \n",
      "------------------------------------------------------------------------\n",
      "------------------------------------------------------------------------\n",
      "Analysis of Variance Table\n",
      "------------------------------------------------------------------------\n",
      "                 DF        SS        MS      Fc  Pr.Fc\n",
      "Block             2   3.38889   1.69444  0.7669 0.4765\n",
      "Variedade         2 278.22222 139.11111 62.9577      0\n",
      "Dose:Variedade A  3  66.91667  22.30556 10.0949  2e-04\n",
      "Dose:Variedade B  3 126.91667  42.30556 19.1463      0\n",
      "Dose:Variedade C  3  72.25000  24.08333 10.8994  1e-04\n",
      "Residuals        22  48.61111    2.2096               \n",
      "Total            35 596.30556                         \n",
      "------------------------------------------------------------------------\n",
      "\n",
      "\n",
      "\n",
      " Dose  inside of the level  A  of  Variedade \n",
      "------------------------------------------------------------------------\n",
      "Adjustment of polynomial models of regression\n",
      "------------------------------------------------------------------------\n",
      "\n",
      "Linear Model\n",
      "==========================================\n",
      "   Estimate Standard.Error   tc    p.value\n",
      "------------------------------------------\n",
      "b0 69.7667      0.7180     97.1635    0   \n",
      "b1 -0.0011      0.0008     -1.4764 0.1540 \n",
      "------------------------------------------\n",
      "\n",
      "R2 of linear model\n",
      "--------\n",
      "0.071980\n",
      "--------\n",
      "\n",
      "Analysis of Variance of linear model\n",
      "==============================================\n",
      "              DF   SS      MS     Fc   p.value\n",
      "----------------------------------------------\n",
      "Linear Effect 1  4.8167  4.8167  2.18   0.154 \n",
      "Lack of fit   2  62.1000 31.0500 14.05 0.00012\n",
      "Residuals     22 48.6111 2.2096               \n",
      "----------------------------------------------\n",
      "------------------------------------------------------------------------\n",
      "\n",
      "Quadratic Model\n",
      "==========================================\n",
      "   Estimate Standard.Error   tc    p.value\n",
      "------------------------------------------\n",
      "b0 67.5167      0.8365     80.7148    0   \n",
      "b1  0.0124      0.0027     4.6030  0.0001 \n",
      "b2 -0.00001       0        -5.2434 0.00003\n",
      "------------------------------------------\n",
      "\n",
      "R2 of quadratic model\n",
      "--------\n",
      "0.979826\n",
      "--------\n",
      "\n",
      "Analysis of Variance of quadratic model\n",
      "=================================================\n",
      "                 DF   SS      MS     Fc   p.value\n",
      "-------------------------------------------------\n",
      "Linear Effect    1  4.8167  4.8167  2.18   0.154 \n",
      "Quadratic Effect 1  60.7500 60.7500 27.49  3e-05 \n",
      "Lack of fit      1  1.3500  1.3500  0.61  0.44275\n",
      "Residuals        22 48.6111 2.2096               \n",
      "-------------------------------------------------\n",
      "------------------------------------------------------------------------\n",
      "\n",
      "Cubic Model\n",
      "===========================================\n",
      "   Estimate Standard.Error    tc    p.value\n",
      "-------------------------------------------\n",
      "b0  0.0009     0.00002     44.2122     0   \n",
      "b1  0.2558      0.0058     44.2126     0   \n",
      "b2 -0.0003     0.00001     -24.3341    0   \n",
      "b3 0.000000       0        17.2882     0   \n",
      "-------------------------------------------\n",
      "\n",
      "R2 of cubic model\n",
      "-\n",
      "1\n",
      "-\n",
      "\n",
      "Analysis of Variance of cubic model\n",
      "=================================================\n",
      "                 DF   SS      MS     Fc   p.value\n",
      "-------------------------------------------------\n",
      "Linear Effect    1  4.8167  4.8167  2.18   0.154 \n",
      "Quadratic Effect 1  60.7500 60.7500 27.49  3e-05 \n",
      "Cubic Effect     1  1.3500  1.3500  0.61  0.44275\n",
      "Lack of fit      0     0       0      0      1   \n",
      "Residuals        22 48.6111 2.2096               \n",
      "-------------------------------------------------\n",
      "------------------------------------------------------------------------\n",
      "\n",
      "\n",
      " Dose  inside of the level  B  of  Variedade \n",
      "------------------------------------------------------------------------\n",
      "Adjustment of polynomial models of regression\n",
      "------------------------------------------------------------------------\n",
      "\n",
      "Linear Model\n",
      "==========================================\n",
      "   Estimate Standard.Error   tc    p.value\n",
      "------------------------------------------\n",
      "b0 68.0667      0.7180     94.7959    0   \n",
      "b1  0.0025      0.0008     3.2134  0.0040 \n",
      "------------------------------------------\n",
      "\n",
      "R2 of linear model\n",
      "--------\n",
      "0.179777\n",
      "--------\n",
      "\n",
      "Analysis of Variance of linear model\n",
      "===============================================\n",
      "              DF    SS      MS     Fc   p.value\n",
      "-----------------------------------------------\n",
      "Linear Effect 1  22.8167  22.8167 10.33  0.004 \n",
      "Lack of fit   2  104.1000 52.0500 23.56    0   \n",
      "Residuals     22 48.6111  2.2096               \n",
      "-----------------------------------------------\n",
      "------------------------------------------------------------------------\n",
      "\n",
      "Quadratic Model\n",
      "==========================================\n",
      "   Estimate Standard.Error   tc    p.value\n",
      "------------------------------------------\n",
      "b0 65.1500      0.8365     77.8855    0   \n",
      "b1  0.0200      0.0027     7.4318     0   \n",
      "b2 -0.00001       0        -6.7971    0   \n",
      "------------------------------------------\n",
      "\n",
      "R2 of quadratic model\n",
      "--------\n",
      "0.984110\n",
      "--------\n",
      "\n",
      "Analysis of Variance of quadratic model\n",
      "===================================================\n",
      "                 DF    SS       MS     Fc   p.value\n",
      "---------------------------------------------------\n",
      "Linear Effect    1  22.8167  22.8167  10.33  0.004 \n",
      "Quadratic Effect 1  102.0833 102.0833 46.2     0   \n",
      "Lack of fit      1   2.0167   2.0167  0.91  0.34978\n",
      "Residuals        22 48.6111   2.2096               \n",
      "---------------------------------------------------\n",
      "------------------------------------------------------------------------\n",
      "\n",
      "Cubic Model\n",
      "===========================================\n",
      "   Estimate Standard.Error    tc    p.value\n",
      "-------------------------------------------\n",
      "b0  0.0009     0.00002     43.8664     0   \n",
      "b1  0.2538      0.0058     43.8668     0   \n",
      "b2 -0.0003     0.00001     -23.5549    0   \n",
      "b3 0.000000       0        16.4862     0   \n",
      "-------------------------------------------\n",
      "\n",
      "R2 of cubic model\n",
      "-\n",
      "1\n",
      "-\n",
      "\n",
      "Analysis of Variance of cubic model\n",
      "===================================================\n",
      "                 DF    SS       MS     Fc   p.value\n",
      "---------------------------------------------------\n",
      "Linear Effect    1  22.8167  22.8167  10.33  0.004 \n",
      "Quadratic Effect 1  102.0833 102.0833 46.2     0   \n",
      "Cubic Effect     1   2.0167   2.0167  0.91  0.34978\n",
      "Lack of fit      0     0        0       0      1   \n",
      "Residuals        22 48.6111   2.2096               \n",
      "---------------------------------------------------\n",
      "------------------------------------------------------------------------\n",
      "\n",
      "\n",
      " Dose  inside of the level  C  of  Variedade \n",
      "------------------------------------------------------------------------\n",
      "Adjustment of polynomial models of regression\n",
      "------------------------------------------------------------------------\n",
      "\n",
      "Linear Model\n",
      "===========================================\n",
      "   Estimate Standard.Error    tc    p.value\n",
      "-------------------------------------------\n",
      "b0 73.6000      0.7180     102.5022    0   \n",
      "b1  0.0022      0.0008      2.8660  0.0090 \n",
      "-------------------------------------------\n",
      "\n",
      "R2 of linear model\n",
      "--------\n",
      "0.251211\n",
      "--------\n",
      "\n",
      "Analysis of Variance of linear model\n",
      "==============================================\n",
      "              DF   SS      MS     Fc   p.value\n",
      "----------------------------------------------\n",
      "Linear Effect 1  18.1500 18.1500 8.21  0.00898\n",
      "Lack of fit   2  54.1000 27.0500 12.24 0.00027\n",
      "Residuals     22 48.6111 2.2096               \n",
      "----------------------------------------------\n",
      "------------------------------------------------------------------------\n",
      "\n",
      "Quadratic Model\n",
      "==========================================\n",
      "   Estimate Standard.Error   tc    p.value\n",
      "------------------------------------------\n",
      "b0 71.5167      0.8365     85.4968    0   \n",
      "b1  0.0147      0.0027     5.4715  0.00002\n",
      "b2 -0.00001       0        -4.8550 0.0001 \n",
      "------------------------------------------\n",
      "\n",
      "R2 of quadratic model\n",
      "--------\n",
      "0.972088\n",
      "--------\n",
      "\n",
      "Analysis of Variance of quadratic model\n",
      "=================================================\n",
      "                 DF   SS      MS     Fc   p.value\n",
      "-------------------------------------------------\n",
      "Linear Effect    1  18.1500 18.1500 8.21  0.00898\n",
      "Quadratic Effect 1  52.0833 52.0833 23.57  7e-05 \n",
      "Lack of fit      1  2.0167  2.0167  0.91  0.34978\n",
      "Residuals        22 48.6111 2.2096               \n",
      "-------------------------------------------------\n",
      "------------------------------------------------------------------------\n",
      "\n",
      "Cubic Model\n",
      "===========================================\n",
      "   Estimate Standard.Error    tc    p.value\n",
      "-------------------------------------------\n",
      "b0  0.0010     0.00002     48.7447     0   \n",
      "b1  0.2820      0.0058     48.7451     0   \n",
      "b2 -0.0003     0.00001     -27.3907    0   \n",
      "b3 0.000000       0        20.0506     0   \n",
      "-------------------------------------------\n",
      "\n",
      "R2 of cubic model\n",
      "-\n",
      "1\n",
      "-\n",
      "\n",
      "Analysis of Variance of cubic model\n",
      "=================================================\n",
      "                 DF   SS      MS     Fc   p.value\n",
      "-------------------------------------------------\n",
      "Linear Effect    1  18.1500 18.1500 8.21  0.00898\n",
      "Quadratic Effect 1  52.0833 52.0833 23.57  7e-05 \n",
      "Cubic Effect     1  2.0167  2.0167  0.91  0.34978\n",
      "Lack of fit      0     0       0      0      1   \n",
      "Residuals        22 48.6111 2.2096               \n",
      "-------------------------------------------------\n",
      "------------------------------------------------------------------------\n"
     ]
    }
   ],
   "source": [
    "# Análise completa (ANOVA + análise de interação) com a função fat2.rbd do ExpDes\n",
    "with(cana,\n",
    "      fat2.rbd(factor1 = variedade, factor2 = vinhaca, \n",
    "      block = bloco, resp = producao, \n",
    "      quali = c(TRUE, FALSE), \n",
    "      mcomp = \"snk\", fac.names = c(\"Variedade\", \"Dose\"), \n",
    "      sigT = 0.05, sigF = 0.05))"
   ]
  },
  {
   "cell_type": "markdown",
   "metadata": {},
   "source": [
    "___\n",
    "**Fatoriais com tratamentos adicionais**"
   ]
  },
  {
   "cell_type": "code",
   "execution_count": 31,
   "metadata": {},
   "outputs": [
    {
     "data": {
      "text/html": [
       "<table class=\"dataframe\">\n",
       "<caption>A data.frame: 32 × 7</caption>\n",
       "<thead>\n",
       "\t<tr><th scope=col>trat</th><th scope=col>A</th><th scope=col>B</th><th scope=col>fatVsAd</th><th scope=col>Ad</th><th scope=col>blocos</th><th scope=col>AP</th></tr>\n",
       "\t<tr><th scope=col>&lt;fct&gt;</th><th scope=col>&lt;fct&gt;</th><th scope=col>&lt;fct&gt;</th><th scope=col>&lt;dbl&gt;</th><th scope=col>&lt;dbl&gt;</th><th scope=col>&lt;fct&gt;</th><th scope=col>&lt;dbl&gt;</th></tr>\n",
       "</thead>\n",
       "<tbody>\n",
       "\t<tr><td>1</td><td>1</td><td>1</td><td> 1</td><td> 0</td><td>1</td><td>105.0</td></tr>\n",
       "\t<tr><td>1</td><td>1</td><td>1</td><td> 1</td><td> 0</td><td>2</td><td>100.6</td></tr>\n",
       "\t<tr><td>1</td><td>1</td><td>1</td><td> 1</td><td> 0</td><td>3</td><td> 96.8</td></tr>\n",
       "\t<tr><td>1</td><td>1</td><td>1</td><td> 1</td><td> 0</td><td>4</td><td> 95.4</td></tr>\n",
       "\t<tr><td>2</td><td>1</td><td>2</td><td> 1</td><td> 0</td><td>1</td><td> 97.0</td></tr>\n",
       "\t<tr><td>2</td><td>1</td><td>2</td><td> 1</td><td> 0</td><td>2</td><td>100.0</td></tr>\n",
       "\t<tr><td>2</td><td>1</td><td>2</td><td> 1</td><td> 0</td><td>3</td><td> 99.7</td></tr>\n",
       "\t<tr><td>2</td><td>1</td><td>2</td><td> 1</td><td> 0</td><td>4</td><td> 95.0</td></tr>\n",
       "\t<tr><td>3</td><td>1</td><td>3</td><td> 1</td><td> 0</td><td>1</td><td> 99.5</td></tr>\n",
       "\t<tr><td>3</td><td>1</td><td>3</td><td> 1</td><td> 0</td><td>2</td><td> 99.0</td></tr>\n",
       "\t<tr><td>3</td><td>1</td><td>3</td><td> 1</td><td> 0</td><td>3</td><td>106.0</td></tr>\n",
       "\t<tr><td>3</td><td>1</td><td>3</td><td> 1</td><td> 0</td><td>4</td><td>101.2</td></tr>\n",
       "\t<tr><td>4</td><td>2</td><td>1</td><td> 1</td><td> 0</td><td>1</td><td>110.8</td></tr>\n",
       "\t<tr><td>4</td><td>2</td><td>1</td><td> 1</td><td> 0</td><td>2</td><td> 95.5</td></tr>\n",
       "\t<tr><td>4</td><td>2</td><td>1</td><td> 1</td><td> 0</td><td>3</td><td> 97.2</td></tr>\n",
       "\t<tr><td>4</td><td>2</td><td>1</td><td> 1</td><td> 0</td><td>4</td><td>104.6</td></tr>\n",
       "\t<tr><td>5</td><td>2</td><td>2</td><td> 1</td><td> 0</td><td>1</td><td>100.9</td></tr>\n",
       "\t<tr><td>5</td><td>2</td><td>2</td><td> 1</td><td> 0</td><td>2</td><td> 97.7</td></tr>\n",
       "\t<tr><td>5</td><td>2</td><td>2</td><td> 1</td><td> 0</td><td>3</td><td>101.4</td></tr>\n",
       "\t<tr><td>5</td><td>2</td><td>2</td><td> 1</td><td> 0</td><td>4</td><td>103.2</td></tr>\n",
       "\t<tr><td>6</td><td>2</td><td>3</td><td> 1</td><td> 0</td><td>1</td><td> 97.1</td></tr>\n",
       "\t<tr><td>6</td><td>2</td><td>3</td><td> 1</td><td> 0</td><td>2</td><td> 98.4</td></tr>\n",
       "\t<tr><td>6</td><td>2</td><td>3</td><td> 1</td><td> 0</td><td>3</td><td>101.0</td></tr>\n",
       "\t<tr><td>6</td><td>2</td><td>3</td><td> 1</td><td> 0</td><td>4</td><td> 95.4</td></tr>\n",
       "\t<tr><td>7</td><td>0</td><td>0</td><td>-1</td><td> 1</td><td>1</td><td> 97.7</td></tr>\n",
       "\t<tr><td>7</td><td>0</td><td>0</td><td>-1</td><td> 1</td><td>2</td><td> 84.2</td></tr>\n",
       "\t<tr><td>7</td><td>0</td><td>0</td><td>-1</td><td> 1</td><td>3</td><td> 90.5</td></tr>\n",
       "\t<tr><td>7</td><td>0</td><td>0</td><td>-1</td><td> 1</td><td>4</td><td> 98.7</td></tr>\n",
       "\t<tr><td>8</td><td>0</td><td>0</td><td>-1</td><td>-1</td><td>1</td><td>102.9</td></tr>\n",
       "\t<tr><td>8</td><td>0</td><td>0</td><td>-1</td><td>-1</td><td>2</td><td>100.8</td></tr>\n",
       "\t<tr><td>8</td><td>0</td><td>0</td><td>-1</td><td>-1</td><td>3</td><td>100.5</td></tr>\n",
       "\t<tr><td>8</td><td>0</td><td>0</td><td>-1</td><td>-1</td><td>4</td><td>104.0</td></tr>\n",
       "</tbody>\n",
       "</table>\n"
      ],
      "text/latex": [
       "A data.frame: 32 × 7\n",
       "\\begin{tabular}{lllllll}\n",
       " trat & A & B & fatVsAd & Ad & blocos & AP\\\\\n",
       " <fct> & <fct> & <fct> & <dbl> & <dbl> & <fct> & <dbl>\\\\\n",
       "\\hline\n",
       "\t 1 & 1 & 1 &  1 &  0 & 1 & 105.0\\\\\n",
       "\t 1 & 1 & 1 &  1 &  0 & 2 & 100.6\\\\\n",
       "\t 1 & 1 & 1 &  1 &  0 & 3 &  96.8\\\\\n",
       "\t 1 & 1 & 1 &  1 &  0 & 4 &  95.4\\\\\n",
       "\t 2 & 1 & 2 &  1 &  0 & 1 &  97.0\\\\\n",
       "\t 2 & 1 & 2 &  1 &  0 & 2 & 100.0\\\\\n",
       "\t 2 & 1 & 2 &  1 &  0 & 3 &  99.7\\\\\n",
       "\t 2 & 1 & 2 &  1 &  0 & 4 &  95.0\\\\\n",
       "\t 3 & 1 & 3 &  1 &  0 & 1 &  99.5\\\\\n",
       "\t 3 & 1 & 3 &  1 &  0 & 2 &  99.0\\\\\n",
       "\t 3 & 1 & 3 &  1 &  0 & 3 & 106.0\\\\\n",
       "\t 3 & 1 & 3 &  1 &  0 & 4 & 101.2\\\\\n",
       "\t 4 & 2 & 1 &  1 &  0 & 1 & 110.8\\\\\n",
       "\t 4 & 2 & 1 &  1 &  0 & 2 &  95.5\\\\\n",
       "\t 4 & 2 & 1 &  1 &  0 & 3 &  97.2\\\\\n",
       "\t 4 & 2 & 1 &  1 &  0 & 4 & 104.6\\\\\n",
       "\t 5 & 2 & 2 &  1 &  0 & 1 & 100.9\\\\\n",
       "\t 5 & 2 & 2 &  1 &  0 & 2 &  97.7\\\\\n",
       "\t 5 & 2 & 2 &  1 &  0 & 3 & 101.4\\\\\n",
       "\t 5 & 2 & 2 &  1 &  0 & 4 & 103.2\\\\\n",
       "\t 6 & 2 & 3 &  1 &  0 & 1 &  97.1\\\\\n",
       "\t 6 & 2 & 3 &  1 &  0 & 2 &  98.4\\\\\n",
       "\t 6 & 2 & 3 &  1 &  0 & 3 & 101.0\\\\\n",
       "\t 6 & 2 & 3 &  1 &  0 & 4 &  95.4\\\\\n",
       "\t 7 & 0 & 0 & -1 &  1 & 1 &  97.7\\\\\n",
       "\t 7 & 0 & 0 & -1 &  1 & 2 &  84.2\\\\\n",
       "\t 7 & 0 & 0 & -1 &  1 & 3 &  90.5\\\\\n",
       "\t 7 & 0 & 0 & -1 &  1 & 4 &  98.7\\\\\n",
       "\t 8 & 0 & 0 & -1 & -1 & 1 & 102.9\\\\\n",
       "\t 8 & 0 & 0 & -1 & -1 & 2 & 100.8\\\\\n",
       "\t 8 & 0 & 0 & -1 & -1 & 3 & 100.5\\\\\n",
       "\t 8 & 0 & 0 & -1 & -1 & 4 & 104.0\\\\\n",
       "\\end{tabular}\n"
      ],
      "text/markdown": [
       "\n",
       "A data.frame: 32 × 7\n",
       "\n",
       "| trat &lt;fct&gt; | A &lt;fct&gt; | B &lt;fct&gt; | fatVsAd &lt;dbl&gt; | Ad &lt;dbl&gt; | blocos &lt;fct&gt; | AP &lt;dbl&gt; |\n",
       "|---|---|---|---|---|---|---|\n",
       "| 1 | 1 | 1 |  1 |  0 | 1 | 105.0 |\n",
       "| 1 | 1 | 1 |  1 |  0 | 2 | 100.6 |\n",
       "| 1 | 1 | 1 |  1 |  0 | 3 |  96.8 |\n",
       "| 1 | 1 | 1 |  1 |  0 | 4 |  95.4 |\n",
       "| 2 | 1 | 2 |  1 |  0 | 1 |  97.0 |\n",
       "| 2 | 1 | 2 |  1 |  0 | 2 | 100.0 |\n",
       "| 2 | 1 | 2 |  1 |  0 | 3 |  99.7 |\n",
       "| 2 | 1 | 2 |  1 |  0 | 4 |  95.0 |\n",
       "| 3 | 1 | 3 |  1 |  0 | 1 |  99.5 |\n",
       "| 3 | 1 | 3 |  1 |  0 | 2 |  99.0 |\n",
       "| 3 | 1 | 3 |  1 |  0 | 3 | 106.0 |\n",
       "| 3 | 1 | 3 |  1 |  0 | 4 | 101.2 |\n",
       "| 4 | 2 | 1 |  1 |  0 | 1 | 110.8 |\n",
       "| 4 | 2 | 1 |  1 |  0 | 2 |  95.5 |\n",
       "| 4 | 2 | 1 |  1 |  0 | 3 |  97.2 |\n",
       "| 4 | 2 | 1 |  1 |  0 | 4 | 104.6 |\n",
       "| 5 | 2 | 2 |  1 |  0 | 1 | 100.9 |\n",
       "| 5 | 2 | 2 |  1 |  0 | 2 |  97.7 |\n",
       "| 5 | 2 | 2 |  1 |  0 | 3 | 101.4 |\n",
       "| 5 | 2 | 2 |  1 |  0 | 4 | 103.2 |\n",
       "| 6 | 2 | 3 |  1 |  0 | 1 |  97.1 |\n",
       "| 6 | 2 | 3 |  1 |  0 | 2 |  98.4 |\n",
       "| 6 | 2 | 3 |  1 |  0 | 3 | 101.0 |\n",
       "| 6 | 2 | 3 |  1 |  0 | 4 |  95.4 |\n",
       "| 7 | 0 | 0 | -1 |  1 | 1 |  97.7 |\n",
       "| 7 | 0 | 0 | -1 |  1 | 2 |  84.2 |\n",
       "| 7 | 0 | 0 | -1 |  1 | 3 |  90.5 |\n",
       "| 7 | 0 | 0 | -1 |  1 | 4 |  98.7 |\n",
       "| 8 | 0 | 0 | -1 | -1 | 1 | 102.9 |\n",
       "| 8 | 0 | 0 | -1 | -1 | 2 | 100.8 |\n",
       "| 8 | 0 | 0 | -1 | -1 | 3 | 100.5 |\n",
       "| 8 | 0 | 0 | -1 | -1 | 4 | 104.0 |\n",
       "\n"
      ],
      "text/plain": [
       "   trat A B fatVsAd Ad blocos AP   \n",
       "1  1    1 1  1       0 1      105.0\n",
       "2  1    1 1  1       0 2      100.6\n",
       "3  1    1 1  1       0 3       96.8\n",
       "4  1    1 1  1       0 4       95.4\n",
       "5  2    1 2  1       0 1       97.0\n",
       "6  2    1 2  1       0 2      100.0\n",
       "7  2    1 2  1       0 3       99.7\n",
       "8  2    1 2  1       0 4       95.0\n",
       "9  3    1 3  1       0 1       99.5\n",
       "10 3    1 3  1       0 2       99.0\n",
       "11 3    1 3  1       0 3      106.0\n",
       "12 3    1 3  1       0 4      101.2\n",
       "13 4    2 1  1       0 1      110.8\n",
       "14 4    2 1  1       0 2       95.5\n",
       "15 4    2 1  1       0 3       97.2\n",
       "16 4    2 1  1       0 4      104.6\n",
       "17 5    2 2  1       0 1      100.9\n",
       "18 5    2 2  1       0 2       97.7\n",
       "19 5    2 2  1       0 3      101.4\n",
       "20 5    2 2  1       0 4      103.2\n",
       "21 6    2 3  1       0 1       97.1\n",
       "22 6    2 3  1       0 2       98.4\n",
       "23 6    2 3  1       0 3      101.0\n",
       "24 6    2 3  1       0 4       95.4\n",
       "25 7    0 0 -1       1 1       97.7\n",
       "26 7    0 0 -1       1 2       84.2\n",
       "27 7    0 0 -1       1 3       90.5\n",
       "28 7    0 0 -1       1 4       98.7\n",
       "29 8    0 0 -1      -1 1      102.9\n",
       "30 8    0 0 -1      -1 2      100.8\n",
       "31 8    0 0 -1      -1 3      100.5\n",
       "32 8    0 0 -1      -1 4      104.0"
      ]
     },
     "metadata": {},
     "output_type": "display_data"
    }
   ],
   "source": [
    "# dados\n",
    "gergelim <- read.table(\"https://raw.githubusercontent.com/arsilva87/statsbook/main/datasets/gergelim2ad.txt\", \n",
    "                       header = TRUE, \n",
    "                       colClasses = c(\"factor\", \"factor\", \"factor\", \"numeric\", \"numeric\", \"factor\", \"numeric\"))\n",
    "gergelim"
   ]
  },
  {
   "cell_type": "code",
   "execution_count": 32,
   "metadata": {},
   "outputs": [
    {
     "data": {
      "text/html": [
       "<table class=\"dataframe\">\n",
       "<caption>A anova: 7 × 5</caption>\n",
       "<thead>\n",
       "\t<tr><th></th><th scope=col>Df</th><th scope=col>Sum Sq</th><th scope=col>Mean Sq</th><th scope=col>F value</th><th scope=col>Pr(&gt;F)</th></tr>\n",
       "\t<tr><th></th><th scope=col>&lt;int&gt;</th><th scope=col>&lt;dbl&gt;</th><th scope=col>&lt;dbl&gt;</th><th scope=col>&lt;dbl&gt;</th><th scope=col>&lt;dbl&gt;</th></tr>\n",
       "</thead>\n",
       "<tbody>\n",
       "\t<tr><th scope=row>blocos</th><td> 3</td><td> 76.848437</td><td> 25.616146</td><td> 1.5168208</td><td>0.239327809</td></tr>\n",
       "\t<tr><th scope=row>fatVsAd</th><td> 1</td><td> 38.127604</td><td> 38.127604</td><td> 2.2576676</td><td>0.147843569</td></tr>\n",
       "\t<tr><th scope=row>Ad</th><td> 1</td><td>172.051250</td><td>172.051250</td><td>10.1877507</td><td>0.004385897</td></tr>\n",
       "\t<tr><th scope=row>A</th><td> 1</td><td>  2.666667</td><td>  2.666667</td><td> 0.1579026</td><td>0.695105042</td></tr>\n",
       "\t<tr><th scope=row>B</th><td> 2</td><td>  8.215833</td><td>  4.107917</td><td> 0.2432440</td><td>0.786258825</td></tr>\n",
       "\t<tr><th scope=row>A:B</th><td> 2</td><td> 50.930833</td><td> 25.465417</td><td> 1.5078956</td><td>0.244390976</td></tr>\n",
       "\t<tr><th scope=row>Residuals</th><td>21</td><td>354.649062</td><td> 16.888051</td><td>        NA</td><td>         NA</td></tr>\n",
       "</tbody>\n",
       "</table>\n"
      ],
      "text/latex": [
       "A anova: 7 × 5\n",
       "\\begin{tabular}{r|lllll}\n",
       "  & Df & Sum Sq & Mean Sq & F value & Pr(>F)\\\\\n",
       "  & <int> & <dbl> & <dbl> & <dbl> & <dbl>\\\\\n",
       "\\hline\n",
       "\tblocos &  3 &  76.848437 &  25.616146 &  1.5168208 & 0.239327809\\\\\n",
       "\tfatVsAd &  1 &  38.127604 &  38.127604 &  2.2576676 & 0.147843569\\\\\n",
       "\tAd &  1 & 172.051250 & 172.051250 & 10.1877507 & 0.004385897\\\\\n",
       "\tA &  1 &   2.666667 &   2.666667 &  0.1579026 & 0.695105042\\\\\n",
       "\tB &  2 &   8.215833 &   4.107917 &  0.2432440 & 0.786258825\\\\\n",
       "\tA:B &  2 &  50.930833 &  25.465417 &  1.5078956 & 0.244390976\\\\\n",
       "\tResiduals & 21 & 354.649062 &  16.888051 &         NA &          NA\\\\\n",
       "\\end{tabular}\n"
      ],
      "text/markdown": [
       "\n",
       "A anova: 7 × 5\n",
       "\n",
       "| <!--/--> | Df &lt;int&gt; | Sum Sq &lt;dbl&gt; | Mean Sq &lt;dbl&gt; | F value &lt;dbl&gt; | Pr(&gt;F) &lt;dbl&gt; |\n",
       "|---|---|---|---|---|---|\n",
       "| blocos |  3 |  76.848437 |  25.616146 |  1.5168208 | 0.239327809 |\n",
       "| fatVsAd |  1 |  38.127604 |  38.127604 |  2.2576676 | 0.147843569 |\n",
       "| Ad |  1 | 172.051250 | 172.051250 | 10.1877507 | 0.004385897 |\n",
       "| A |  1 |   2.666667 |   2.666667 |  0.1579026 | 0.695105042 |\n",
       "| B |  2 |   8.215833 |   4.107917 |  0.2432440 | 0.786258825 |\n",
       "| A:B |  2 |  50.930833 |  25.465417 |  1.5078956 | 0.244390976 |\n",
       "| Residuals | 21 | 354.649062 |  16.888051 |         NA |          NA |\n",
       "\n"
      ],
      "text/plain": [
       "          Df Sum Sq     Mean Sq    F value    Pr(>F)     \n",
       "blocos     3  76.848437  25.616146  1.5168208 0.239327809\n",
       "fatVsAd    1  38.127604  38.127604  2.2576676 0.147843569\n",
       "Ad         1 172.051250 172.051250 10.1877507 0.004385897\n",
       "A          1   2.666667   2.666667  0.1579026 0.695105042\n",
       "B          2   8.215833   4.107917  0.2432440 0.786258825\n",
       "A:B        2  50.930833  25.465417  1.5078956 0.244390976\n",
       "Residuals 21 354.649062  16.888051         NA          NA"
      ]
     },
     "metadata": {},
     "output_type": "display_data"
    }
   ],
   "source": [
    "# ajuste do modelo e tabela de ANOVA\n",
    "lm2.gergelim <- lm(AP ~ blocos + fatVsAd + Ad + A*B, data = gergelim)\n",
    "anova(lm2.gergelim)"
   ]
  },
  {
   "cell_type": "markdown",
   "metadata": {},
   "source": [
    "____\n",
    "**Experimentos split plot**"
   ]
  },
  {
   "cell_type": "code",
   "execution_count": 35,
   "metadata": {},
   "outputs": [
    {
     "name": "stdout",
     "output_type": "stream",
     "text": [
      "'data.frame':\t40 obs. of  4 variables:\n",
      " $ sistema : Factor w/ 2 levels \"direto\",\"reduzido\": 1 1 1 1 1 1 1 1 1 1 ...\n",
      " $ cultivar: Factor w/ 5 levels \"A\",\"B\",\"C\",\"D\",..: 1 1 1 1 2 2 2 2 3 3 ...\n",
      " $ bloco   : Factor w/ 4 levels \"1\",\"2\",\"3\",\"4\": 1 2 3 4 1 2 3 4 1 2 ...\n",
      " $ rend    : num  4.4 4.1 5.5 5 5 5.1 6.3 6 6.4 5.1 ...\n"
     ]
    }
   ],
   "source": [
    "# dados\n",
    "milho2 <- read.table(\"https://raw.githubusercontent.com/arsilva87/statsbook/main/datasets/splitplot.txt\", \n",
    "                     header = TRUE)\n",
    "milho2$bloco <- as.factor(milho2$bloco)\n",
    "str(milho2)"
   ]
  },
  {
   "cell_type": "code",
   "execution_count": 37,
   "metadata": {},
   "outputs": [
    {
     "data": {
      "text/plain": [
       "\n",
       "Call:\n",
       "aov(formula = rend ~ bloco + sistema + Error(parcelas) + cultivar + \n",
       "    sistema:cultivar, data = milho2)\n",
       "\n",
       "Grand Mean: 6.1025\n",
       "\n",
       "Stratum 1: parcelas\n",
       "\n",
       "Terms:\n",
       "                   bloco  sistema Residuals\n",
       "Sum of Squares   3.28075 17.82225   1.01075\n",
       "Deg. of Freedom        3        1         3\n",
       "\n",
       "Residual standard error: 0.5804452\n",
       "4 out of 8 effects not estimable\n",
       "Estimated effects may be unbalanced\n",
       "\n",
       "Stratum 2: Within\n",
       "\n",
       "Terms:\n",
       "                cultivar sistema:cultivar Residuals\n",
       "Sum of Squares     4.796            3.504     7.676\n",
       "Deg. of Freedom        4                4        24\n",
       "\n",
       "Residual standard error: 0.5655381\n",
       "Estimated effects may be unbalanced"
      ]
     },
     "metadata": {},
     "output_type": "display_data"
    }
   ],
   "source": [
    "# definição das parcelas experimentais\n",
    "parcelas <- with(milho2, factor(sistema:bloco))   \n",
    "# ajuste do modelo de ANOVA\n",
    "aov.milho2 <- aov(rend ~ bloco + sistema + Error(parcelas) + cultivar + sistema:cultivar, data = milho2)\n",
    "aov.milho2"
   ]
  },
  {
   "cell_type": "code",
   "execution_count": 42,
   "metadata": {},
   "outputs": [
    {
     "data": {
      "text/html": [
       "<style>\n",
       ".dl-inline {width: auto; margin:0; padding: 0}\n",
       ".dl-inline>dt, .dl-inline>dd {float: none; width: auto; display: inline-block}\n",
       ".dl-inline>dt::after {content: \":\\0020\"; padding-right: .5ex}\n",
       ".dl-inline>dt:not(:first-of-type) {padding-left: .5ex}\n",
       "</style><dl class=dl-inline><dt>2</dt><dd>0.458530260724416</dd><dt>3</dt><dd>-0.538593848213414</dd><dt>4</dt><dd>-0.0710046946804689</dd><dt>5</dt><dd>-0.0750000000000008</dd><dt>6</dt><dd>0.530722777603023</dd><dt>7</dt><dd>-0.462343924759378</dd><dt>8</dt><dd>-0.0657375735133913</dd></dl>\n"
      ],
      "text/latex": [
       "\\begin{description*}\n",
       "\\item[2] 0.458530260724416\n",
       "\\item[3] -0.538593848213414\n",
       "\\item[4] -0.0710046946804689\n",
       "\\item[5] -0.0750000000000008\n",
       "\\item[6] 0.530722777603023\n",
       "\\item[7] -0.462343924759378\n",
       "\\item[8] -0.0657375735133913\n",
       "\\end{description*}\n"
      ],
      "text/markdown": [
       "2\n",
       ":   0.4585302607244163\n",
       ":   -0.5385938482134144\n",
       ":   -0.07100469468046895\n",
       ":   -0.07500000000000086\n",
       ":   0.5307227776030237\n",
       ":   -0.4623439247593788\n",
       ":   -0.0657375735133913\n",
       "\n"
      ],
      "text/plain": [
       "          2           3           4           5           6           7 \n",
       " 0.45853026 -0.53859385 -0.07100469 -0.07500000  0.53072278 -0.46234392 \n",
       "          8 \n",
       "-0.06573757 "
      ]
     },
     "metadata": {},
     "output_type": "display_data"
    },
    {
     "data": {
      "text/plain": [
       "          Df Sum Sq Mean Sq F value  Pr(>F)   \n",
       "bloco      3  3.281   1.094   3.246 0.17970   \n",
       "sistema    1 17.822  17.822  52.898 0.00536 **\n",
       "Residuals  3  1.011   0.337                   \n",
       "---\n",
       "Signif. codes:  0 ‘***’ 0.001 ‘**’ 0.01 ‘*’ 0.05 ‘.’ 0.1 ‘ ’ 1"
      ]
     },
     "metadata": {},
     "output_type": "display_data"
    }
   ],
   "source": [
    "# estrato 1: parcelas\n",
    "es1 <- aov.milho2$parcelas\n",
    "residuals(es1)                # resíduos\n",
    "summary(es1)                  # tabela de ANOVA"
   ]
  },
  {
   "cell_type": "code",
   "execution_count": 43,
   "metadata": {},
   "outputs": [
    {
     "data": {
      "text/html": [
       "<style>\n",
       ".dl-inline {width: auto; margin:0; padding: 0}\n",
       ".dl-inline>dt, .dl-inline>dd {float: none; width: auto; display: inline-block}\n",
       ".dl-inline>dt::after {content: \":\\0020\"; padding-right: .5ex}\n",
       ".dl-inline>dt:not(:first-of-type) {padding-left: .5ex}\n",
       "</style><dl class=dl-inline><dt>9</dt><dd>0.885780949117668</dd><dt>10</dt><dd>0.140295706576289</dd><dt>11</dt><dd>-0.0623536713257038</dd><dt>12</dt><dd>-0.810137112208055</dd><dt>13</dt><dd>-0.189219050882333</dd><dt>14</dt><dd>0.26529570657629</dd><dt>15</dt><dd>0.0626463286742964</dd><dt>16</dt><dd>0.0148628877919453</dd><dt>17</dt><dd>0.485780949117668</dd><dt>18</dt><dd>-0.259704293423711</dd><dt>19</dt><dd>-0.162353671325704</dd><dt>20</dt><dd>0.0898628877919454</dd><dt>21</dt><dd>-0.333713057401116</dd><dt>22</dt><dd>-0.154799960777324</dd><dt>23</dt><dd>-0.150150658695054</dd><dt>24</dt><dd>0.756045852308361</dd><dt>25</dt><dd>-0.333713057401116</dd><dt>26</dt><dd>0.245200039222676</dd><dt>27</dt><dd>-0.650150658695054</dd><dt>28</dt><dd>0.856045852308361</dd><dt>29</dt><dd>-0.233713057401116</dd><dt>30</dt><dd>1.04520003922268</dd><dt>31</dt><dd>-0.250150658695054</dd><dt>32</dt><dd>-0.443954147691638</dd><dt>33</dt><dd>0.466286942598885</dd><dt>34</dt><dd>-0.154799960777324</dd><dt>35</dt><dd>0.149849341304945</dd><dt>36</dt><dd>-0.343954147691638</dd><dt>37</dt><dd>-0.533713057401116</dd><dt>38</dt><dd>-0.554799960777324</dd><dt>39</dt><dd>1.14984934130495</dd><dt>40</dt><dd>0.0560458523083619</dd></dl>\n"
      ],
      "text/latex": [
       "\\begin{description*}\n",
       "\\item[9] 0.885780949117668\n",
       "\\item[10] 0.140295706576289\n",
       "\\item[11] -0.0623536713257038\n",
       "\\item[12] -0.810137112208055\n",
       "\\item[13] -0.189219050882333\n",
       "\\item[14] 0.26529570657629\n",
       "\\item[15] 0.0626463286742964\n",
       "\\item[16] 0.0148628877919453\n",
       "\\item[17] 0.485780949117668\n",
       "\\item[18] -0.259704293423711\n",
       "\\item[19] -0.162353671325704\n",
       "\\item[20] 0.0898628877919454\n",
       "\\item[21] -0.333713057401116\n",
       "\\item[22] -0.154799960777324\n",
       "\\item[23] -0.150150658695054\n",
       "\\item[24] 0.756045852308361\n",
       "\\item[25] -0.333713057401116\n",
       "\\item[26] 0.245200039222676\n",
       "\\item[27] -0.650150658695054\n",
       "\\item[28] 0.856045852308361\n",
       "\\item[29] -0.233713057401116\n",
       "\\item[30] 1.04520003922268\n",
       "\\item[31] -0.250150658695054\n",
       "\\item[32] -0.443954147691638\n",
       "\\item[33] 0.466286942598885\n",
       "\\item[34] -0.154799960777324\n",
       "\\item[35] 0.149849341304945\n",
       "\\item[36] -0.343954147691638\n",
       "\\item[37] -0.533713057401116\n",
       "\\item[38] -0.554799960777324\n",
       "\\item[39] 1.14984934130495\n",
       "\\item[40] 0.0560458523083619\n",
       "\\end{description*}\n"
      ],
      "text/markdown": [
       "9\n",
       ":   0.88578094911766810\n",
       ":   0.14029570657628911\n",
       ":   -0.062353671325703812\n",
       ":   -0.81013711220805513\n",
       ":   -0.18921905088233314\n",
       ":   0.2652957065762915\n",
       ":   0.062646328674296416\n",
       ":   0.014862887791945317\n",
       ":   0.48578094911766818\n",
       ":   -0.25970429342371119\n",
       ":   -0.16235367132570420\n",
       ":   0.089862887791945421\n",
       ":   -0.33371305740111622\n",
       ":   -0.15479996077732423\n",
       ":   -0.15015065869505424\n",
       ":   0.75604585230836125\n",
       ":   -0.33371305740111626\n",
       ":   0.24520003922267627\n",
       ":   -0.65015065869505428\n",
       ":   0.85604585230836129\n",
       ":   -0.23371305740111630\n",
       ":   1.0452000392226831\n",
       ":   -0.25015065869505432\n",
       ":   -0.44395414769163833\n",
       ":   0.46628694259888534\n",
       ":   -0.15479996077732435\n",
       ":   0.14984934130494536\n",
       ":   -0.34395414769163837\n",
       ":   -0.53371305740111638\n",
       ":   -0.55479996077732439\n",
       ":   1.1498493413049540\n",
       ":   0.0560458523083619\n",
       "\n"
      ],
      "text/plain": [
       "          9          10          11          12          13          14 \n",
       " 0.88578095  0.14029571 -0.06235367 -0.81013711 -0.18921905  0.26529571 \n",
       "         15          16          17          18          19          20 \n",
       " 0.06264633  0.01486289  0.48578095 -0.25970429 -0.16235367  0.08986289 \n",
       "         21          22          23          24          25          26 \n",
       "-0.33371306 -0.15479996 -0.15015066  0.75604585 -0.33371306  0.24520004 \n",
       "         27          28          29          30          31          32 \n",
       "-0.65015066  0.85604585 -0.23371306  1.04520004 -0.25015066 -0.44395415 \n",
       "         33          34          35          36          37          38 \n",
       " 0.46628694 -0.15479996  0.14984934 -0.34395415 -0.53371306 -0.55479996 \n",
       "         39          40 \n",
       " 1.14984934  0.05604585 "
      ]
     },
     "metadata": {},
     "output_type": "display_data"
    },
    {
     "data": {
      "text/plain": [
       "                 Df Sum Sq Mean Sq F value Pr(>F)  \n",
       "cultivar          4  4.796  1.1990   3.749 0.0166 *\n",
       "sistema:cultivar  4  3.504  0.8760   2.739 0.0522 .\n",
       "Residuals        24  7.676  0.3198                 \n",
       "---\n",
       "Signif. codes:  0 ‘***’ 0.001 ‘**’ 0.01 ‘*’ 0.05 ‘.’ 0.1 ‘ ’ 1"
      ]
     },
     "metadata": {},
     "output_type": "display_data"
    }
   ],
   "source": [
    "# estrato 2: subparcelas\n",
    "es2 <- aov.milho2$Within\n",
    "residuals(es2)              # resíduos\n",
    "summary(es2)                # tabela de ANOVA"
   ]
  },
  {
   "cell_type": "code",
   "execution_count": 44,
   "metadata": {},
   "outputs": [
    {
     "name": "stdout",
     "output_type": "stream",
     "text": [
      "\n",
      "T test (LSD)\n",
      "------------------------------------------------------------------------\n",
      "Groups  Treatments  Means\n",
      "a \t D \t 6.5375 \n",
      "a \t E \t 6.3 \n",
      "a \t C \t 6.15 \n",
      "ab \t B \t 6.025 \n",
      " b \t A \t 5.5 \n",
      "------------------------------------------------------------------------\n"
     ]
    }
   ],
   "source": [
    "# comparação geral de médias de cultivar pelo teste LSD\n",
    "with(milho2, lsd(y = rend, trt = cultivar, DFerror = 24, SSerror = 7.676))"
   ]
  },
  {
   "cell_type": "markdown",
   "metadata": {},
   "source": [
    "___\n",
    "**Modelo de fatores hierárquicos**"
   ]
  },
  {
   "cell_type": "code",
   "execution_count": 45,
   "metadata": {},
   "outputs": [
    {
     "name": "stdout",
     "output_type": "stream",
     "text": [
      "'data.frame':\t24 obs. of  3 variables:\n",
      " $ Produto: Factor w/ 3 levels \"Clomazone\",\"Diclosulam\",..: 1 1 3 3 2 2 1 1 3 3 ...\n",
      " $ Dose   : num  300 600 240 480 17.5 30 300 600 240 480 ...\n",
      " $ MS     : num  20.5 39.6 14.7 20.9 20.5 20.5 39.8 23.2 40.9 27.2 ...\n"
     ]
    }
   ],
   "source": [
    "# dados\n",
    "herb <- read.csv(\"https://raw.githubusercontent.com/arsilva87/statsbook/main/datasets/azuki.csv\")\n",
    "str(herb)"
   ]
  },
  {
   "cell_type": "code",
   "execution_count": 46,
   "metadata": {},
   "outputs": [
    {
     "data": {
      "text/html": [
       "<table class=\"dataframe\">\n",
       "<caption>A anova: 3 × 5</caption>\n",
       "<thead>\n",
       "\t<tr><th></th><th scope=col>Df</th><th scope=col>Sum Sq</th><th scope=col>Mean Sq</th><th scope=col>F value</th><th scope=col>Pr(&gt;F)</th></tr>\n",
       "\t<tr><th></th><th scope=col>&lt;int&gt;</th><th scope=col>&lt;dbl&gt;</th><th scope=col>&lt;dbl&gt;</th><th scope=col>&lt;dbl&gt;</th><th scope=col>&lt;dbl&gt;</th></tr>\n",
       "</thead>\n",
       "<tbody>\n",
       "\t<tr><th scope=row>Produto</th><td> 2</td><td> 197.1733</td><td>98.58667</td><td>1.42551542</td><td>0.2662593</td></tr>\n",
       "\t<tr><th scope=row>Produto:Dose</th><td> 3</td><td>  18.9450</td><td> 6.31500</td><td>0.09131184</td><td>0.9638836</td></tr>\n",
       "\t<tr><th scope=row>Residuals</th><td>18</td><td>1244.8550</td><td>69.15861</td><td>        NA</td><td>       NA</td></tr>\n",
       "</tbody>\n",
       "</table>\n"
      ],
      "text/latex": [
       "A anova: 3 × 5\n",
       "\\begin{tabular}{r|lllll}\n",
       "  & Df & Sum Sq & Mean Sq & F value & Pr(>F)\\\\\n",
       "  & <int> & <dbl> & <dbl> & <dbl> & <dbl>\\\\\n",
       "\\hline\n",
       "\tProduto &  2 &  197.1733 & 98.58667 & 1.42551542 & 0.2662593\\\\\n",
       "\tProduto:Dose &  3 &   18.9450 &  6.31500 & 0.09131184 & 0.9638836\\\\\n",
       "\tResiduals & 18 & 1244.8550 & 69.15861 &         NA &        NA\\\\\n",
       "\\end{tabular}\n"
      ],
      "text/markdown": [
       "\n",
       "A anova: 3 × 5\n",
       "\n",
       "| <!--/--> | Df &lt;int&gt; | Sum Sq &lt;dbl&gt; | Mean Sq &lt;dbl&gt; | F value &lt;dbl&gt; | Pr(&gt;F) &lt;dbl&gt; |\n",
       "|---|---|---|---|---|---|\n",
       "| Produto |  2 |  197.1733 | 98.58667 | 1.42551542 | 0.2662593 |\n",
       "| Produto:Dose |  3 |   18.9450 |  6.31500 | 0.09131184 | 0.9638836 |\n",
       "| Residuals | 18 | 1244.8550 | 69.15861 |         NA |        NA |\n",
       "\n"
      ],
      "text/plain": [
       "             Df Sum Sq    Mean Sq  F value    Pr(>F)   \n",
       "Produto       2  197.1733 98.58667 1.42551542 0.2662593\n",
       "Produto:Dose  3   18.9450  6.31500 0.09131184 0.9638836\n",
       "Residuals    18 1244.8550 69.15861         NA        NA"
      ]
     },
     "metadata": {},
     "output_type": "display_data"
    }
   ],
   "source": [
    "# ajuste do modelo e tabela de ANOVA\n",
    "lm.herb <- lm(MS ~ Produto/Dose, data = herb)\n",
    "anova(lm.herb)"
   ]
  },
  {
   "cell_type": "code",
   "execution_count": null,
   "metadata": {},
   "outputs": [],
   "source": []
  }
 ],
 "metadata": {
  "kernelspec": {
   "display_name": "R",
   "language": "R",
   "name": "ir"
  },
  "language_info": {
   "codemirror_mode": "r",
   "file_extension": ".r",
   "mimetype": "text/x-r-source",
   "name": "R",
   "pygments_lexer": "r",
   "version": "3.6.3"
  }
 },
 "nbformat": 4,
 "nbformat_minor": 4
}
